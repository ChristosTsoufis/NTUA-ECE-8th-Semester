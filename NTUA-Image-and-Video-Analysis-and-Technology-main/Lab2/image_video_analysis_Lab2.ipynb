{
  "nbformat": 4,
  "nbformat_minor": 0,
  "metadata": {
    "colab": {
      "provenance": [],
      "collapsed_sections": []
    },
    "kernelspec": {
      "name": "python3",
      "display_name": "Python 3"
    },
    "language_info": {
      "name": "python"
    },
    "accelerator": "GPU",
    "widgets": {
      "application/vnd.jupyter.widget-state+json": {
        "7fc5f04e855d42a9baeb06cdd0540cdb": {
          "model_module": "@jupyter-widgets/controls",
          "model_name": "HBoxModel",
          "model_module_version": "1.5.0",
          "state": {
            "_dom_classes": [],
            "_model_module": "@jupyter-widgets/controls",
            "_model_module_version": "1.5.0",
            "_model_name": "HBoxModel",
            "_view_count": null,
            "_view_module": "@jupyter-widgets/controls",
            "_view_module_version": "1.5.0",
            "_view_name": "HBoxView",
            "box_style": "",
            "children": [
              "IPY_MODEL_0a682cbafdbd484db87bfd2b59013174",
              "IPY_MODEL_418c3e2eb9a84bb5a0e3f6625bdaf4bc",
              "IPY_MODEL_9ac6ba4e301f4086a458edc56d57579e"
            ],
            "layout": "IPY_MODEL_5c742af89a2944d284753638f87b6896"
          }
        },
        "0a682cbafdbd484db87bfd2b59013174": {
          "model_module": "@jupyter-widgets/controls",
          "model_name": "HTMLModel",
          "model_module_version": "1.5.0",
          "state": {
            "_dom_classes": [],
            "_model_module": "@jupyter-widgets/controls",
            "_model_module_version": "1.5.0",
            "_model_name": "HTMLModel",
            "_view_count": null,
            "_view_module": "@jupyter-widgets/controls",
            "_view_module_version": "1.5.0",
            "_view_name": "HTMLView",
            "description": "",
            "description_tooltip": null,
            "layout": "IPY_MODEL_0b2e643ad4b441f89569947dbe065a05",
            "placeholder": "​",
            "style": "IPY_MODEL_c1efd13eec7a493cb8043f564a756489",
            "value": "Dl Completed...: 100%"
          }
        },
        "418c3e2eb9a84bb5a0e3f6625bdaf4bc": {
          "model_module": "@jupyter-widgets/controls",
          "model_name": "FloatProgressModel",
          "model_module_version": "1.5.0",
          "state": {
            "_dom_classes": [],
            "_model_module": "@jupyter-widgets/controls",
            "_model_module_version": "1.5.0",
            "_model_name": "FloatProgressModel",
            "_view_count": null,
            "_view_module": "@jupyter-widgets/controls",
            "_view_module_version": "1.5.0",
            "_view_name": "ProgressView",
            "bar_style": "success",
            "description": "",
            "description_tooltip": null,
            "layout": "IPY_MODEL_01b3e8105b4e49fd8b4c2992856ce8c6",
            "max": 1,
            "min": 0,
            "orientation": "horizontal",
            "style": "IPY_MODEL_a497347da62742649b9c5bd325aea5d8",
            "value": 1
          }
        },
        "9ac6ba4e301f4086a458edc56d57579e": {
          "model_module": "@jupyter-widgets/controls",
          "model_name": "HTMLModel",
          "model_module_version": "1.5.0",
          "state": {
            "_dom_classes": [],
            "_model_module": "@jupyter-widgets/controls",
            "_model_module_version": "1.5.0",
            "_model_name": "HTMLModel",
            "_view_count": null,
            "_view_module": "@jupyter-widgets/controls",
            "_view_module_version": "1.5.0",
            "_view_name": "HTMLView",
            "description": "",
            "description_tooltip": null,
            "layout": "IPY_MODEL_a38eaeab53df4a47ae6c909fbbef78b9",
            "placeholder": "​",
            "style": "IPY_MODEL_053b72c9a6694a5bb494493d1812241a",
            "value": " 1/1 [00:08&lt;00:00,  4.78s/ url]"
          }
        },
        "5c742af89a2944d284753638f87b6896": {
          "model_module": "@jupyter-widgets/base",
          "model_name": "LayoutModel",
          "model_module_version": "1.2.0",
          "state": {
            "_model_module": "@jupyter-widgets/base",
            "_model_module_version": "1.2.0",
            "_model_name": "LayoutModel",
            "_view_count": null,
            "_view_module": "@jupyter-widgets/base",
            "_view_module_version": "1.2.0",
            "_view_name": "LayoutView",
            "align_content": null,
            "align_items": null,
            "align_self": null,
            "border": null,
            "bottom": null,
            "display": null,
            "flex": null,
            "flex_flow": null,
            "grid_area": null,
            "grid_auto_columns": null,
            "grid_auto_flow": null,
            "grid_auto_rows": null,
            "grid_column": null,
            "grid_gap": null,
            "grid_row": null,
            "grid_template_areas": null,
            "grid_template_columns": null,
            "grid_template_rows": null,
            "height": null,
            "justify_content": null,
            "justify_items": null,
            "left": null,
            "margin": null,
            "max_height": null,
            "max_width": null,
            "min_height": null,
            "min_width": null,
            "object_fit": null,
            "object_position": null,
            "order": null,
            "overflow": null,
            "overflow_x": null,
            "overflow_y": null,
            "padding": null,
            "right": null,
            "top": null,
            "visibility": null,
            "width": null
          }
        },
        "0b2e643ad4b441f89569947dbe065a05": {
          "model_module": "@jupyter-widgets/base",
          "model_name": "LayoutModel",
          "model_module_version": "1.2.0",
          "state": {
            "_model_module": "@jupyter-widgets/base",
            "_model_module_version": "1.2.0",
            "_model_name": "LayoutModel",
            "_view_count": null,
            "_view_module": "@jupyter-widgets/base",
            "_view_module_version": "1.2.0",
            "_view_name": "LayoutView",
            "align_content": null,
            "align_items": null,
            "align_self": null,
            "border": null,
            "bottom": null,
            "display": null,
            "flex": null,
            "flex_flow": null,
            "grid_area": null,
            "grid_auto_columns": null,
            "grid_auto_flow": null,
            "grid_auto_rows": null,
            "grid_column": null,
            "grid_gap": null,
            "grid_row": null,
            "grid_template_areas": null,
            "grid_template_columns": null,
            "grid_template_rows": null,
            "height": null,
            "justify_content": null,
            "justify_items": null,
            "left": null,
            "margin": null,
            "max_height": null,
            "max_width": null,
            "min_height": null,
            "min_width": null,
            "object_fit": null,
            "object_position": null,
            "order": null,
            "overflow": null,
            "overflow_x": null,
            "overflow_y": null,
            "padding": null,
            "right": null,
            "top": null,
            "visibility": null,
            "width": null
          }
        },
        "c1efd13eec7a493cb8043f564a756489": {
          "model_module": "@jupyter-widgets/controls",
          "model_name": "DescriptionStyleModel",
          "model_module_version": "1.5.0",
          "state": {
            "_model_module": "@jupyter-widgets/controls",
            "_model_module_version": "1.5.0",
            "_model_name": "DescriptionStyleModel",
            "_view_count": null,
            "_view_module": "@jupyter-widgets/base",
            "_view_module_version": "1.2.0",
            "_view_name": "StyleView",
            "description_width": ""
          }
        },
        "01b3e8105b4e49fd8b4c2992856ce8c6": {
          "model_module": "@jupyter-widgets/base",
          "model_name": "LayoutModel",
          "model_module_version": "1.2.0",
          "state": {
            "_model_module": "@jupyter-widgets/base",
            "_model_module_version": "1.2.0",
            "_model_name": "LayoutModel",
            "_view_count": null,
            "_view_module": "@jupyter-widgets/base",
            "_view_module_version": "1.2.0",
            "_view_name": "LayoutView",
            "align_content": null,
            "align_items": null,
            "align_self": null,
            "border": null,
            "bottom": null,
            "display": null,
            "flex": null,
            "flex_flow": null,
            "grid_area": null,
            "grid_auto_columns": null,
            "grid_auto_flow": null,
            "grid_auto_rows": null,
            "grid_column": null,
            "grid_gap": null,
            "grid_row": null,
            "grid_template_areas": null,
            "grid_template_columns": null,
            "grid_template_rows": null,
            "height": null,
            "justify_content": null,
            "justify_items": null,
            "left": null,
            "margin": null,
            "max_height": null,
            "max_width": null,
            "min_height": null,
            "min_width": null,
            "object_fit": null,
            "object_position": null,
            "order": null,
            "overflow": null,
            "overflow_x": null,
            "overflow_y": null,
            "padding": null,
            "right": null,
            "top": null,
            "visibility": null,
            "width": "20px"
          }
        },
        "a497347da62742649b9c5bd325aea5d8": {
          "model_module": "@jupyter-widgets/controls",
          "model_name": "ProgressStyleModel",
          "model_module_version": "1.5.0",
          "state": {
            "_model_module": "@jupyter-widgets/controls",
            "_model_module_version": "1.5.0",
            "_model_name": "ProgressStyleModel",
            "_view_count": null,
            "_view_module": "@jupyter-widgets/base",
            "_view_module_version": "1.2.0",
            "_view_name": "StyleView",
            "bar_color": null,
            "description_width": ""
          }
        },
        "a38eaeab53df4a47ae6c909fbbef78b9": {
          "model_module": "@jupyter-widgets/base",
          "model_name": "LayoutModel",
          "model_module_version": "1.2.0",
          "state": {
            "_model_module": "@jupyter-widgets/base",
            "_model_module_version": "1.2.0",
            "_model_name": "LayoutModel",
            "_view_count": null,
            "_view_module": "@jupyter-widgets/base",
            "_view_module_version": "1.2.0",
            "_view_name": "LayoutView",
            "align_content": null,
            "align_items": null,
            "align_self": null,
            "border": null,
            "bottom": null,
            "display": null,
            "flex": null,
            "flex_flow": null,
            "grid_area": null,
            "grid_auto_columns": null,
            "grid_auto_flow": null,
            "grid_auto_rows": null,
            "grid_column": null,
            "grid_gap": null,
            "grid_row": null,
            "grid_template_areas": null,
            "grid_template_columns": null,
            "grid_template_rows": null,
            "height": null,
            "justify_content": null,
            "justify_items": null,
            "left": null,
            "margin": null,
            "max_height": null,
            "max_width": null,
            "min_height": null,
            "min_width": null,
            "object_fit": null,
            "object_position": null,
            "order": null,
            "overflow": null,
            "overflow_x": null,
            "overflow_y": null,
            "padding": null,
            "right": null,
            "top": null,
            "visibility": null,
            "width": null
          }
        },
        "053b72c9a6694a5bb494493d1812241a": {
          "model_module": "@jupyter-widgets/controls",
          "model_name": "DescriptionStyleModel",
          "model_module_version": "1.5.0",
          "state": {
            "_model_module": "@jupyter-widgets/controls",
            "_model_module_version": "1.5.0",
            "_model_name": "DescriptionStyleModel",
            "_view_count": null,
            "_view_module": "@jupyter-widgets/base",
            "_view_module_version": "1.2.0",
            "_view_name": "StyleView",
            "description_width": ""
          }
        },
        "74a88dcf50aa44e3bba4f91ad41352ff": {
          "model_module": "@jupyter-widgets/controls",
          "model_name": "HBoxModel",
          "model_module_version": "1.5.0",
          "state": {
            "_dom_classes": [],
            "_model_module": "@jupyter-widgets/controls",
            "_model_module_version": "1.5.0",
            "_model_name": "HBoxModel",
            "_view_count": null,
            "_view_module": "@jupyter-widgets/controls",
            "_view_module_version": "1.5.0",
            "_view_name": "HBoxView",
            "box_style": "",
            "children": [
              "IPY_MODEL_11fa9ffa262849aea8b541bd955b103c",
              "IPY_MODEL_255e53e885394c83807908a4679d1a4e",
              "IPY_MODEL_e661fc30b55d4d38ad220afed9f9913f"
            ],
            "layout": "IPY_MODEL_c4254032c0fd40d39f6fee4a03715963"
          }
        },
        "11fa9ffa262849aea8b541bd955b103c": {
          "model_module": "@jupyter-widgets/controls",
          "model_name": "HTMLModel",
          "model_module_version": "1.5.0",
          "state": {
            "_dom_classes": [],
            "_model_module": "@jupyter-widgets/controls",
            "_model_module_version": "1.5.0",
            "_model_name": "HTMLModel",
            "_view_count": null,
            "_view_module": "@jupyter-widgets/controls",
            "_view_module_version": "1.5.0",
            "_view_name": "HTMLView",
            "description": "",
            "description_tooltip": null,
            "layout": "IPY_MODEL_08d15aefcd494d1f9992817081cd8d4c",
            "placeholder": "​",
            "style": "IPY_MODEL_7eef1ede47db4302b9cef5ad9d275fba",
            "value": "Dl Size...: 100%"
          }
        },
        "255e53e885394c83807908a4679d1a4e": {
          "model_module": "@jupyter-widgets/controls",
          "model_name": "FloatProgressModel",
          "model_module_version": "1.5.0",
          "state": {
            "_dom_classes": [],
            "_model_module": "@jupyter-widgets/controls",
            "_model_module_version": "1.5.0",
            "_model_name": "FloatProgressModel",
            "_view_count": null,
            "_view_module": "@jupyter-widgets/controls",
            "_view_module_version": "1.5.0",
            "_view_name": "ProgressView",
            "bar_style": "success",
            "description": "",
            "description_tooltip": null,
            "layout": "IPY_MODEL_b9a2a5963fca40b5a289b217bca195d0",
            "max": 1,
            "min": 0,
            "orientation": "horizontal",
            "style": "IPY_MODEL_4fdc126f4b59444dabcaeaa5205e8042",
            "value": 1
          }
        },
        "e661fc30b55d4d38ad220afed9f9913f": {
          "model_module": "@jupyter-widgets/controls",
          "model_name": "HTMLModel",
          "model_module_version": "1.5.0",
          "state": {
            "_dom_classes": [],
            "_model_module": "@jupyter-widgets/controls",
            "_model_module_version": "1.5.0",
            "_model_name": "HTMLModel",
            "_view_count": null,
            "_view_module": "@jupyter-widgets/controls",
            "_view_module_version": "1.5.0",
            "_view_name": "HTMLView",
            "description": "",
            "description_tooltip": null,
            "layout": "IPY_MODEL_76798237a6274dd68563c4317b89e56c",
            "placeholder": "​",
            "style": "IPY_MODEL_d158d9791b2f49fbb96888539c092161",
            "value": " 160/160 [00:08&lt;00:00, 37.62 MiB/s]"
          }
        },
        "c4254032c0fd40d39f6fee4a03715963": {
          "model_module": "@jupyter-widgets/base",
          "model_name": "LayoutModel",
          "model_module_version": "1.2.0",
          "state": {
            "_model_module": "@jupyter-widgets/base",
            "_model_module_version": "1.2.0",
            "_model_name": "LayoutModel",
            "_view_count": null,
            "_view_module": "@jupyter-widgets/base",
            "_view_module_version": "1.2.0",
            "_view_name": "LayoutView",
            "align_content": null,
            "align_items": null,
            "align_self": null,
            "border": null,
            "bottom": null,
            "display": null,
            "flex": null,
            "flex_flow": null,
            "grid_area": null,
            "grid_auto_columns": null,
            "grid_auto_flow": null,
            "grid_auto_rows": null,
            "grid_column": null,
            "grid_gap": null,
            "grid_row": null,
            "grid_template_areas": null,
            "grid_template_columns": null,
            "grid_template_rows": null,
            "height": null,
            "justify_content": null,
            "justify_items": null,
            "left": null,
            "margin": null,
            "max_height": null,
            "max_width": null,
            "min_height": null,
            "min_width": null,
            "object_fit": null,
            "object_position": null,
            "order": null,
            "overflow": null,
            "overflow_x": null,
            "overflow_y": null,
            "padding": null,
            "right": null,
            "top": null,
            "visibility": null,
            "width": null
          }
        },
        "08d15aefcd494d1f9992817081cd8d4c": {
          "model_module": "@jupyter-widgets/base",
          "model_name": "LayoutModel",
          "model_module_version": "1.2.0",
          "state": {
            "_model_module": "@jupyter-widgets/base",
            "_model_module_version": "1.2.0",
            "_model_name": "LayoutModel",
            "_view_count": null,
            "_view_module": "@jupyter-widgets/base",
            "_view_module_version": "1.2.0",
            "_view_name": "LayoutView",
            "align_content": null,
            "align_items": null,
            "align_self": null,
            "border": null,
            "bottom": null,
            "display": null,
            "flex": null,
            "flex_flow": null,
            "grid_area": null,
            "grid_auto_columns": null,
            "grid_auto_flow": null,
            "grid_auto_rows": null,
            "grid_column": null,
            "grid_gap": null,
            "grid_row": null,
            "grid_template_areas": null,
            "grid_template_columns": null,
            "grid_template_rows": null,
            "height": null,
            "justify_content": null,
            "justify_items": null,
            "left": null,
            "margin": null,
            "max_height": null,
            "max_width": null,
            "min_height": null,
            "min_width": null,
            "object_fit": null,
            "object_position": null,
            "order": null,
            "overflow": null,
            "overflow_x": null,
            "overflow_y": null,
            "padding": null,
            "right": null,
            "top": null,
            "visibility": null,
            "width": null
          }
        },
        "7eef1ede47db4302b9cef5ad9d275fba": {
          "model_module": "@jupyter-widgets/controls",
          "model_name": "DescriptionStyleModel",
          "model_module_version": "1.5.0",
          "state": {
            "_model_module": "@jupyter-widgets/controls",
            "_model_module_version": "1.5.0",
            "_model_name": "DescriptionStyleModel",
            "_view_count": null,
            "_view_module": "@jupyter-widgets/base",
            "_view_module_version": "1.2.0",
            "_view_name": "StyleView",
            "description_width": ""
          }
        },
        "b9a2a5963fca40b5a289b217bca195d0": {
          "model_module": "@jupyter-widgets/base",
          "model_name": "LayoutModel",
          "model_module_version": "1.2.0",
          "state": {
            "_model_module": "@jupyter-widgets/base",
            "_model_module_version": "1.2.0",
            "_model_name": "LayoutModel",
            "_view_count": null,
            "_view_module": "@jupyter-widgets/base",
            "_view_module_version": "1.2.0",
            "_view_name": "LayoutView",
            "align_content": null,
            "align_items": null,
            "align_self": null,
            "border": null,
            "bottom": null,
            "display": null,
            "flex": null,
            "flex_flow": null,
            "grid_area": null,
            "grid_auto_columns": null,
            "grid_auto_flow": null,
            "grid_auto_rows": null,
            "grid_column": null,
            "grid_gap": null,
            "grid_row": null,
            "grid_template_areas": null,
            "grid_template_columns": null,
            "grid_template_rows": null,
            "height": null,
            "justify_content": null,
            "justify_items": null,
            "left": null,
            "margin": null,
            "max_height": null,
            "max_width": null,
            "min_height": null,
            "min_width": null,
            "object_fit": null,
            "object_position": null,
            "order": null,
            "overflow": null,
            "overflow_x": null,
            "overflow_y": null,
            "padding": null,
            "right": null,
            "top": null,
            "visibility": null,
            "width": "20px"
          }
        },
        "4fdc126f4b59444dabcaeaa5205e8042": {
          "model_module": "@jupyter-widgets/controls",
          "model_name": "ProgressStyleModel",
          "model_module_version": "1.5.0",
          "state": {
            "_model_module": "@jupyter-widgets/controls",
            "_model_module_version": "1.5.0",
            "_model_name": "ProgressStyleModel",
            "_view_count": null,
            "_view_module": "@jupyter-widgets/base",
            "_view_module_version": "1.2.0",
            "_view_name": "StyleView",
            "bar_color": null,
            "description_width": ""
          }
        },
        "76798237a6274dd68563c4317b89e56c": {
          "model_module": "@jupyter-widgets/base",
          "model_name": "LayoutModel",
          "model_module_version": "1.2.0",
          "state": {
            "_model_module": "@jupyter-widgets/base",
            "_model_module_version": "1.2.0",
            "_model_name": "LayoutModel",
            "_view_count": null,
            "_view_module": "@jupyter-widgets/base",
            "_view_module_version": "1.2.0",
            "_view_name": "LayoutView",
            "align_content": null,
            "align_items": null,
            "align_self": null,
            "border": null,
            "bottom": null,
            "display": null,
            "flex": null,
            "flex_flow": null,
            "grid_area": null,
            "grid_auto_columns": null,
            "grid_auto_flow": null,
            "grid_auto_rows": null,
            "grid_column": null,
            "grid_gap": null,
            "grid_row": null,
            "grid_template_areas": null,
            "grid_template_columns": null,
            "grid_template_rows": null,
            "height": null,
            "justify_content": null,
            "justify_items": null,
            "left": null,
            "margin": null,
            "max_height": null,
            "max_width": null,
            "min_height": null,
            "min_width": null,
            "object_fit": null,
            "object_position": null,
            "order": null,
            "overflow": null,
            "overflow_x": null,
            "overflow_y": null,
            "padding": null,
            "right": null,
            "top": null,
            "visibility": null,
            "width": null
          }
        },
        "d158d9791b2f49fbb96888539c092161": {
          "model_module": "@jupyter-widgets/controls",
          "model_name": "DescriptionStyleModel",
          "model_module_version": "1.5.0",
          "state": {
            "_model_module": "@jupyter-widgets/controls",
            "_model_module_version": "1.5.0",
            "_model_name": "DescriptionStyleModel",
            "_view_count": null,
            "_view_module": "@jupyter-widgets/base",
            "_view_module_version": "1.2.0",
            "_view_name": "StyleView",
            "description_width": ""
          }
        },
        "812b61ae746e4b958d74223d8113a768": {
          "model_module": "@jupyter-widgets/controls",
          "model_name": "HBoxModel",
          "model_module_version": "1.5.0",
          "state": {
            "_dom_classes": [],
            "_model_module": "@jupyter-widgets/controls",
            "_model_module_version": "1.5.0",
            "_model_name": "HBoxModel",
            "_view_count": null,
            "_view_module": "@jupyter-widgets/controls",
            "_view_module_version": "1.5.0",
            "_view_name": "HBoxView",
            "box_style": "",
            "children": [
              "IPY_MODEL_0112c0aab5c649a2b3dbe816cfbcfd9e",
              "IPY_MODEL_3a4e7a88663a415d8e6072faad58326d",
              "IPY_MODEL_88f9eedae0a44872952790e9616a625e"
            ],
            "layout": "IPY_MODEL_bc6100e2b38b41e5abd61014f4361859"
          }
        },
        "0112c0aab5c649a2b3dbe816cfbcfd9e": {
          "model_module": "@jupyter-widgets/controls",
          "model_name": "HTMLModel",
          "model_module_version": "1.5.0",
          "state": {
            "_dom_classes": [],
            "_model_module": "@jupyter-widgets/controls",
            "_model_module_version": "1.5.0",
            "_model_name": "HTMLModel",
            "_view_count": null,
            "_view_module": "@jupyter-widgets/controls",
            "_view_module_version": "1.5.0",
            "_view_name": "HTMLView",
            "description": "",
            "description_tooltip": null,
            "layout": "IPY_MODEL_56065eaec924499783885e1ebcbd3a99",
            "placeholder": "​",
            "style": "IPY_MODEL_ff9b36bd480844879d8d66302215e5d1",
            "value": "Extraction completed...: 100%"
          }
        },
        "3a4e7a88663a415d8e6072faad58326d": {
          "model_module": "@jupyter-widgets/controls",
          "model_name": "FloatProgressModel",
          "model_module_version": "1.5.0",
          "state": {
            "_dom_classes": [],
            "_model_module": "@jupyter-widgets/controls",
            "_model_module_version": "1.5.0",
            "_model_name": "FloatProgressModel",
            "_view_count": null,
            "_view_module": "@jupyter-widgets/controls",
            "_view_module_version": "1.5.0",
            "_view_name": "ProgressView",
            "bar_style": "success",
            "description": "",
            "description_tooltip": null,
            "layout": "IPY_MODEL_762415f01c114edaaa94f3f497cf07f4",
            "max": 1,
            "min": 0,
            "orientation": "horizontal",
            "style": "IPY_MODEL_f542da29453644fb8d3181549d6b1d7f",
            "value": 1
          }
        },
        "88f9eedae0a44872952790e9616a625e": {
          "model_module": "@jupyter-widgets/controls",
          "model_name": "HTMLModel",
          "model_module_version": "1.5.0",
          "state": {
            "_dom_classes": [],
            "_model_module": "@jupyter-widgets/controls",
            "_model_module_version": "1.5.0",
            "_model_name": "HTMLModel",
            "_view_count": null,
            "_view_module": "@jupyter-widgets/controls",
            "_view_module_version": "1.5.0",
            "_view_name": "HTMLView",
            "description": "",
            "description_tooltip": null,
            "layout": "IPY_MODEL_2eb2798c7bc34ae889925e5996f8e892",
            "placeholder": "​",
            "style": "IPY_MODEL_e5a66eca95bf483fa16ad1d983ce33c7",
            "value": " 1/1 [00:08&lt;00:00,  8.17s/ file]"
          }
        },
        "bc6100e2b38b41e5abd61014f4361859": {
          "model_module": "@jupyter-widgets/base",
          "model_name": "LayoutModel",
          "model_module_version": "1.2.0",
          "state": {
            "_model_module": "@jupyter-widgets/base",
            "_model_module_version": "1.2.0",
            "_model_name": "LayoutModel",
            "_view_count": null,
            "_view_module": "@jupyter-widgets/base",
            "_view_module_version": "1.2.0",
            "_view_name": "LayoutView",
            "align_content": null,
            "align_items": null,
            "align_self": null,
            "border": null,
            "bottom": null,
            "display": null,
            "flex": null,
            "flex_flow": null,
            "grid_area": null,
            "grid_auto_columns": null,
            "grid_auto_flow": null,
            "grid_auto_rows": null,
            "grid_column": null,
            "grid_gap": null,
            "grid_row": null,
            "grid_template_areas": null,
            "grid_template_columns": null,
            "grid_template_rows": null,
            "height": null,
            "justify_content": null,
            "justify_items": null,
            "left": null,
            "margin": null,
            "max_height": null,
            "max_width": null,
            "min_height": null,
            "min_width": null,
            "object_fit": null,
            "object_position": null,
            "order": null,
            "overflow": null,
            "overflow_x": null,
            "overflow_y": null,
            "padding": null,
            "right": null,
            "top": null,
            "visibility": null,
            "width": null
          }
        },
        "56065eaec924499783885e1ebcbd3a99": {
          "model_module": "@jupyter-widgets/base",
          "model_name": "LayoutModel",
          "model_module_version": "1.2.0",
          "state": {
            "_model_module": "@jupyter-widgets/base",
            "_model_module_version": "1.2.0",
            "_model_name": "LayoutModel",
            "_view_count": null,
            "_view_module": "@jupyter-widgets/base",
            "_view_module_version": "1.2.0",
            "_view_name": "LayoutView",
            "align_content": null,
            "align_items": null,
            "align_self": null,
            "border": null,
            "bottom": null,
            "display": null,
            "flex": null,
            "flex_flow": null,
            "grid_area": null,
            "grid_auto_columns": null,
            "grid_auto_flow": null,
            "grid_auto_rows": null,
            "grid_column": null,
            "grid_gap": null,
            "grid_row": null,
            "grid_template_areas": null,
            "grid_template_columns": null,
            "grid_template_rows": null,
            "height": null,
            "justify_content": null,
            "justify_items": null,
            "left": null,
            "margin": null,
            "max_height": null,
            "max_width": null,
            "min_height": null,
            "min_width": null,
            "object_fit": null,
            "object_position": null,
            "order": null,
            "overflow": null,
            "overflow_x": null,
            "overflow_y": null,
            "padding": null,
            "right": null,
            "top": null,
            "visibility": null,
            "width": null
          }
        },
        "ff9b36bd480844879d8d66302215e5d1": {
          "model_module": "@jupyter-widgets/controls",
          "model_name": "DescriptionStyleModel",
          "model_module_version": "1.5.0",
          "state": {
            "_model_module": "@jupyter-widgets/controls",
            "_model_module_version": "1.5.0",
            "_model_name": "DescriptionStyleModel",
            "_view_count": null,
            "_view_module": "@jupyter-widgets/base",
            "_view_module_version": "1.2.0",
            "_view_name": "StyleView",
            "description_width": ""
          }
        },
        "762415f01c114edaaa94f3f497cf07f4": {
          "model_module": "@jupyter-widgets/base",
          "model_name": "LayoutModel",
          "model_module_version": "1.2.0",
          "state": {
            "_model_module": "@jupyter-widgets/base",
            "_model_module_version": "1.2.0",
            "_model_name": "LayoutModel",
            "_view_count": null,
            "_view_module": "@jupyter-widgets/base",
            "_view_module_version": "1.2.0",
            "_view_name": "LayoutView",
            "align_content": null,
            "align_items": null,
            "align_self": null,
            "border": null,
            "bottom": null,
            "display": null,
            "flex": null,
            "flex_flow": null,
            "grid_area": null,
            "grid_auto_columns": null,
            "grid_auto_flow": null,
            "grid_auto_rows": null,
            "grid_column": null,
            "grid_gap": null,
            "grid_row": null,
            "grid_template_areas": null,
            "grid_template_columns": null,
            "grid_template_rows": null,
            "height": null,
            "justify_content": null,
            "justify_items": null,
            "left": null,
            "margin": null,
            "max_height": null,
            "max_width": null,
            "min_height": null,
            "min_width": null,
            "object_fit": null,
            "object_position": null,
            "order": null,
            "overflow": null,
            "overflow_x": null,
            "overflow_y": null,
            "padding": null,
            "right": null,
            "top": null,
            "visibility": null,
            "width": "20px"
          }
        },
        "f542da29453644fb8d3181549d6b1d7f": {
          "model_module": "@jupyter-widgets/controls",
          "model_name": "ProgressStyleModel",
          "model_module_version": "1.5.0",
          "state": {
            "_model_module": "@jupyter-widgets/controls",
            "_model_module_version": "1.5.0",
            "_model_name": "ProgressStyleModel",
            "_view_count": null,
            "_view_module": "@jupyter-widgets/base",
            "_view_module_version": "1.2.0",
            "_view_name": "StyleView",
            "bar_color": null,
            "description_width": ""
          }
        },
        "2eb2798c7bc34ae889925e5996f8e892": {
          "model_module": "@jupyter-widgets/base",
          "model_name": "LayoutModel",
          "model_module_version": "1.2.0",
          "state": {
            "_model_module": "@jupyter-widgets/base",
            "_model_module_version": "1.2.0",
            "_model_name": "LayoutModel",
            "_view_count": null,
            "_view_module": "@jupyter-widgets/base",
            "_view_module_version": "1.2.0",
            "_view_name": "LayoutView",
            "align_content": null,
            "align_items": null,
            "align_self": null,
            "border": null,
            "bottom": null,
            "display": null,
            "flex": null,
            "flex_flow": null,
            "grid_area": null,
            "grid_auto_columns": null,
            "grid_auto_flow": null,
            "grid_auto_rows": null,
            "grid_column": null,
            "grid_gap": null,
            "grid_row": null,
            "grid_template_areas": null,
            "grid_template_columns": null,
            "grid_template_rows": null,
            "height": null,
            "justify_content": null,
            "justify_items": null,
            "left": null,
            "margin": null,
            "max_height": null,
            "max_width": null,
            "min_height": null,
            "min_width": null,
            "object_fit": null,
            "object_position": null,
            "order": null,
            "overflow": null,
            "overflow_x": null,
            "overflow_y": null,
            "padding": null,
            "right": null,
            "top": null,
            "visibility": null,
            "width": null
          }
        },
        "e5a66eca95bf483fa16ad1d983ce33c7": {
          "model_module": "@jupyter-widgets/controls",
          "model_name": "DescriptionStyleModel",
          "model_module_version": "1.5.0",
          "state": {
            "_model_module": "@jupyter-widgets/controls",
            "_model_module_version": "1.5.0",
            "_model_name": "DescriptionStyleModel",
            "_view_count": null,
            "_view_module": "@jupyter-widgets/base",
            "_view_module_version": "1.2.0",
            "_view_name": "StyleView",
            "description_width": ""
          }
        },
        "31ed0423b5ab48b999f743b93ca94895": {
          "model_module": "@jupyter-widgets/controls",
          "model_name": "HBoxModel",
          "model_module_version": "1.5.0",
          "state": {
            "_dom_classes": [],
            "_model_module": "@jupyter-widgets/controls",
            "_model_module_version": "1.5.0",
            "_model_name": "HBoxModel",
            "_view_count": null,
            "_view_module": "@jupyter-widgets/controls",
            "_view_module_version": "1.5.0",
            "_view_name": "HBoxView",
            "box_style": "",
            "children": [
              "IPY_MODEL_7daea745dd7e4d1589d0c67149150451",
              "IPY_MODEL_b3bd789ae72543f29f3464bdb7cd9ff0",
              "IPY_MODEL_5236b111ba2e4d91bd03fac9153325cc"
            ],
            "layout": "IPY_MODEL_092e4e4326b948bdac86d199f26fa532"
          }
        },
        "7daea745dd7e4d1589d0c67149150451": {
          "model_module": "@jupyter-widgets/controls",
          "model_name": "HTMLModel",
          "model_module_version": "1.5.0",
          "state": {
            "_dom_classes": [],
            "_model_module": "@jupyter-widgets/controls",
            "_model_module_version": "1.5.0",
            "_model_name": "HTMLModel",
            "_view_count": null,
            "_view_module": "@jupyter-widgets/controls",
            "_view_module_version": "1.5.0",
            "_view_name": "HTMLView",
            "description": "",
            "description_tooltip": null,
            "layout": "IPY_MODEL_8b85dfca83cf47248b4b4153b49534d9",
            "placeholder": "​",
            "style": "IPY_MODEL_55a4046d0eeb489c944af4ec756eaea4",
            "value": ""
          }
        },
        "b3bd789ae72543f29f3464bdb7cd9ff0": {
          "model_module": "@jupyter-widgets/controls",
          "model_name": "FloatProgressModel",
          "model_module_version": "1.5.0",
          "state": {
            "_dom_classes": [],
            "_model_module": "@jupyter-widgets/controls",
            "_model_module_version": "1.5.0",
            "_model_name": "FloatProgressModel",
            "_view_count": null,
            "_view_module": "@jupyter-widgets/controls",
            "_view_module_version": "1.5.0",
            "_view_name": "ProgressView",
            "bar_style": "info",
            "description": "",
            "description_tooltip": null,
            "layout": "IPY_MODEL_5140744299e04ea4b89a46ed903a0f73",
            "max": 1,
            "min": 0,
            "orientation": "horizontal",
            "style": "IPY_MODEL_f23e91b7eb304770b6bf6073a7c0fca8",
            "value": 1
          }
        },
        "5236b111ba2e4d91bd03fac9153325cc": {
          "model_module": "@jupyter-widgets/controls",
          "model_name": "HTMLModel",
          "model_module_version": "1.5.0",
          "state": {
            "_dom_classes": [],
            "_model_module": "@jupyter-widgets/controls",
            "_model_module_version": "1.5.0",
            "_model_name": "HTMLModel",
            "_view_count": null,
            "_view_module": "@jupyter-widgets/controls",
            "_view_module_version": "1.5.0",
            "_view_name": "HTMLView",
            "description": "",
            "description_tooltip": null,
            "layout": "IPY_MODEL_7670ff6fc5e441539fda1feef52f4694",
            "placeholder": "​",
            "style": "IPY_MODEL_f517f9b8402e41649ae2ebbc6a87d9ad",
            "value": " 49903/0 [00:56&lt;00:00, 1071.79 examples/s]"
          }
        },
        "092e4e4326b948bdac86d199f26fa532": {
          "model_module": "@jupyter-widgets/base",
          "model_name": "LayoutModel",
          "model_module_version": "1.2.0",
          "state": {
            "_model_module": "@jupyter-widgets/base",
            "_model_module_version": "1.2.0",
            "_model_name": "LayoutModel",
            "_view_count": null,
            "_view_module": "@jupyter-widgets/base",
            "_view_module_version": "1.2.0",
            "_view_name": "LayoutView",
            "align_content": null,
            "align_items": null,
            "align_self": null,
            "border": null,
            "bottom": null,
            "display": null,
            "flex": null,
            "flex_flow": null,
            "grid_area": null,
            "grid_auto_columns": null,
            "grid_auto_flow": null,
            "grid_auto_rows": null,
            "grid_column": null,
            "grid_gap": null,
            "grid_row": null,
            "grid_template_areas": null,
            "grid_template_columns": null,
            "grid_template_rows": null,
            "height": null,
            "justify_content": null,
            "justify_items": null,
            "left": null,
            "margin": null,
            "max_height": null,
            "max_width": null,
            "min_height": null,
            "min_width": null,
            "object_fit": null,
            "object_position": null,
            "order": null,
            "overflow": null,
            "overflow_x": null,
            "overflow_y": null,
            "padding": null,
            "right": null,
            "top": null,
            "visibility": null,
            "width": null
          }
        },
        "8b85dfca83cf47248b4b4153b49534d9": {
          "model_module": "@jupyter-widgets/base",
          "model_name": "LayoutModel",
          "model_module_version": "1.2.0",
          "state": {
            "_model_module": "@jupyter-widgets/base",
            "_model_module_version": "1.2.0",
            "_model_name": "LayoutModel",
            "_view_count": null,
            "_view_module": "@jupyter-widgets/base",
            "_view_module_version": "1.2.0",
            "_view_name": "LayoutView",
            "align_content": null,
            "align_items": null,
            "align_self": null,
            "border": null,
            "bottom": null,
            "display": null,
            "flex": null,
            "flex_flow": null,
            "grid_area": null,
            "grid_auto_columns": null,
            "grid_auto_flow": null,
            "grid_auto_rows": null,
            "grid_column": null,
            "grid_gap": null,
            "grid_row": null,
            "grid_template_areas": null,
            "grid_template_columns": null,
            "grid_template_rows": null,
            "height": null,
            "justify_content": null,
            "justify_items": null,
            "left": null,
            "margin": null,
            "max_height": null,
            "max_width": null,
            "min_height": null,
            "min_width": null,
            "object_fit": null,
            "object_position": null,
            "order": null,
            "overflow": null,
            "overflow_x": null,
            "overflow_y": null,
            "padding": null,
            "right": null,
            "top": null,
            "visibility": null,
            "width": null
          }
        },
        "55a4046d0eeb489c944af4ec756eaea4": {
          "model_module": "@jupyter-widgets/controls",
          "model_name": "DescriptionStyleModel",
          "model_module_version": "1.5.0",
          "state": {
            "_model_module": "@jupyter-widgets/controls",
            "_model_module_version": "1.5.0",
            "_model_name": "DescriptionStyleModel",
            "_view_count": null,
            "_view_module": "@jupyter-widgets/base",
            "_view_module_version": "1.2.0",
            "_view_name": "StyleView",
            "description_width": ""
          }
        },
        "5140744299e04ea4b89a46ed903a0f73": {
          "model_module": "@jupyter-widgets/base",
          "model_name": "LayoutModel",
          "model_module_version": "1.2.0",
          "state": {
            "_model_module": "@jupyter-widgets/base",
            "_model_module_version": "1.2.0",
            "_model_name": "LayoutModel",
            "_view_count": null,
            "_view_module": "@jupyter-widgets/base",
            "_view_module_version": "1.2.0",
            "_view_name": "LayoutView",
            "align_content": null,
            "align_items": null,
            "align_self": null,
            "border": null,
            "bottom": null,
            "display": null,
            "flex": null,
            "flex_flow": null,
            "grid_area": null,
            "grid_auto_columns": null,
            "grid_auto_flow": null,
            "grid_auto_rows": null,
            "grid_column": null,
            "grid_gap": null,
            "grid_row": null,
            "grid_template_areas": null,
            "grid_template_columns": null,
            "grid_template_rows": null,
            "height": null,
            "justify_content": null,
            "justify_items": null,
            "left": null,
            "margin": null,
            "max_height": null,
            "max_width": null,
            "min_height": null,
            "min_width": null,
            "object_fit": null,
            "object_position": null,
            "order": null,
            "overflow": null,
            "overflow_x": null,
            "overflow_y": null,
            "padding": null,
            "right": null,
            "top": null,
            "visibility": null,
            "width": "20px"
          }
        },
        "f23e91b7eb304770b6bf6073a7c0fca8": {
          "model_module": "@jupyter-widgets/controls",
          "model_name": "ProgressStyleModel",
          "model_module_version": "1.5.0",
          "state": {
            "_model_module": "@jupyter-widgets/controls",
            "_model_module_version": "1.5.0",
            "_model_name": "ProgressStyleModel",
            "_view_count": null,
            "_view_module": "@jupyter-widgets/base",
            "_view_module_version": "1.2.0",
            "_view_name": "StyleView",
            "bar_color": null,
            "description_width": ""
          }
        },
        "7670ff6fc5e441539fda1feef52f4694": {
          "model_module": "@jupyter-widgets/base",
          "model_name": "LayoutModel",
          "model_module_version": "1.2.0",
          "state": {
            "_model_module": "@jupyter-widgets/base",
            "_model_module_version": "1.2.0",
            "_model_name": "LayoutModel",
            "_view_count": null,
            "_view_module": "@jupyter-widgets/base",
            "_view_module_version": "1.2.0",
            "_view_name": "LayoutView",
            "align_content": null,
            "align_items": null,
            "align_self": null,
            "border": null,
            "bottom": null,
            "display": null,
            "flex": null,
            "flex_flow": null,
            "grid_area": null,
            "grid_auto_columns": null,
            "grid_auto_flow": null,
            "grid_auto_rows": null,
            "grid_column": null,
            "grid_gap": null,
            "grid_row": null,
            "grid_template_areas": null,
            "grid_template_columns": null,
            "grid_template_rows": null,
            "height": null,
            "justify_content": null,
            "justify_items": null,
            "left": null,
            "margin": null,
            "max_height": null,
            "max_width": null,
            "min_height": null,
            "min_width": null,
            "object_fit": null,
            "object_position": null,
            "order": null,
            "overflow": null,
            "overflow_x": null,
            "overflow_y": null,
            "padding": null,
            "right": null,
            "top": null,
            "visibility": null,
            "width": null
          }
        },
        "f517f9b8402e41649ae2ebbc6a87d9ad": {
          "model_module": "@jupyter-widgets/controls",
          "model_name": "DescriptionStyleModel",
          "model_module_version": "1.5.0",
          "state": {
            "_model_module": "@jupyter-widgets/controls",
            "_model_module_version": "1.5.0",
            "_model_name": "DescriptionStyleModel",
            "_view_count": null,
            "_view_module": "@jupyter-widgets/base",
            "_view_module_version": "1.2.0",
            "_view_name": "StyleView",
            "description_width": ""
          }
        },
        "14e76e989c4142aca6d28f8566b4558a": {
          "model_module": "@jupyter-widgets/controls",
          "model_name": "HBoxModel",
          "model_module_version": "1.5.0",
          "state": {
            "_dom_classes": [],
            "_model_module": "@jupyter-widgets/controls",
            "_model_module_version": "1.5.0",
            "_model_name": "HBoxModel",
            "_view_count": null,
            "_view_module": "@jupyter-widgets/controls",
            "_view_module_version": "1.5.0",
            "_view_name": "HBoxView",
            "box_style": "",
            "children": [
              "IPY_MODEL_893a7c032f654b65916b20c06ce25544",
              "IPY_MODEL_a7554d8229f14c56bd2de5579547cd91",
              "IPY_MODEL_549bfa7b547e46d2b46930eae049886e"
            ],
            "layout": "IPY_MODEL_8895f0b031fe4ef19a6852d4c256b87c"
          }
        },
        "893a7c032f654b65916b20c06ce25544": {
          "model_module": "@jupyter-widgets/controls",
          "model_name": "HTMLModel",
          "model_module_version": "1.5.0",
          "state": {
            "_dom_classes": [],
            "_model_module": "@jupyter-widgets/controls",
            "_model_module_version": "1.5.0",
            "_model_name": "HTMLModel",
            "_view_count": null,
            "_view_module": "@jupyter-widgets/controls",
            "_view_module_version": "1.5.0",
            "_view_name": "HTMLView",
            "description": "",
            "description_tooltip": null,
            "layout": "IPY_MODEL_5a2558d7c7f643ebb5fa2cdac3f5e85d",
            "placeholder": "​",
            "style": "IPY_MODEL_7040f13929ab487e884dfbeb77a08ca1",
            "value": "100%"
          }
        },
        "a7554d8229f14c56bd2de5579547cd91": {
          "model_module": "@jupyter-widgets/controls",
          "model_name": "FloatProgressModel",
          "model_module_version": "1.5.0",
          "state": {
            "_dom_classes": [],
            "_model_module": "@jupyter-widgets/controls",
            "_model_module_version": "1.5.0",
            "_model_name": "FloatProgressModel",
            "_view_count": null,
            "_view_module": "@jupyter-widgets/controls",
            "_view_module_version": "1.5.0",
            "_view_name": "ProgressView",
            "bar_style": "danger",
            "description": "",
            "description_tooltip": null,
            "layout": "IPY_MODEL_3905b705dafd40cca26b851ea0670d1e",
            "max": 50000,
            "min": 0,
            "orientation": "horizontal",
            "style": "IPY_MODEL_d6301bbcae674d2b8767b17738bc75d7",
            "value": 49999
          }
        },
        "549bfa7b547e46d2b46930eae049886e": {
          "model_module": "@jupyter-widgets/controls",
          "model_name": "HTMLModel",
          "model_module_version": "1.5.0",
          "state": {
            "_dom_classes": [],
            "_model_module": "@jupyter-widgets/controls",
            "_model_module_version": "1.5.0",
            "_model_name": "HTMLModel",
            "_view_count": null,
            "_view_module": "@jupyter-widgets/controls",
            "_view_module_version": "1.5.0",
            "_view_name": "HTMLView",
            "description": "",
            "description_tooltip": null,
            "layout": "IPY_MODEL_9212454c69824dbea7a178bd888164e2",
            "placeholder": "​",
            "style": "IPY_MODEL_6aea97b1c83c4b0f9cfae999208b6927",
            "value": " 49999/50000 [00:00&lt;00:00, 155617.17 examples/s]"
          }
        },
        "8895f0b031fe4ef19a6852d4c256b87c": {
          "model_module": "@jupyter-widgets/base",
          "model_name": "LayoutModel",
          "model_module_version": "1.2.0",
          "state": {
            "_model_module": "@jupyter-widgets/base",
            "_model_module_version": "1.2.0",
            "_model_name": "LayoutModel",
            "_view_count": null,
            "_view_module": "@jupyter-widgets/base",
            "_view_module_version": "1.2.0",
            "_view_name": "LayoutView",
            "align_content": null,
            "align_items": null,
            "align_self": null,
            "border": null,
            "bottom": null,
            "display": null,
            "flex": null,
            "flex_flow": null,
            "grid_area": null,
            "grid_auto_columns": null,
            "grid_auto_flow": null,
            "grid_auto_rows": null,
            "grid_column": null,
            "grid_gap": null,
            "grid_row": null,
            "grid_template_areas": null,
            "grid_template_columns": null,
            "grid_template_rows": null,
            "height": null,
            "justify_content": null,
            "justify_items": null,
            "left": null,
            "margin": null,
            "max_height": null,
            "max_width": null,
            "min_height": null,
            "min_width": null,
            "object_fit": null,
            "object_position": null,
            "order": null,
            "overflow": null,
            "overflow_x": null,
            "overflow_y": null,
            "padding": null,
            "right": null,
            "top": null,
            "visibility": null,
            "width": null
          }
        },
        "5a2558d7c7f643ebb5fa2cdac3f5e85d": {
          "model_module": "@jupyter-widgets/base",
          "model_name": "LayoutModel",
          "model_module_version": "1.2.0",
          "state": {
            "_model_module": "@jupyter-widgets/base",
            "_model_module_version": "1.2.0",
            "_model_name": "LayoutModel",
            "_view_count": null,
            "_view_module": "@jupyter-widgets/base",
            "_view_module_version": "1.2.0",
            "_view_name": "LayoutView",
            "align_content": null,
            "align_items": null,
            "align_self": null,
            "border": null,
            "bottom": null,
            "display": null,
            "flex": null,
            "flex_flow": null,
            "grid_area": null,
            "grid_auto_columns": null,
            "grid_auto_flow": null,
            "grid_auto_rows": null,
            "grid_column": null,
            "grid_gap": null,
            "grid_row": null,
            "grid_template_areas": null,
            "grid_template_columns": null,
            "grid_template_rows": null,
            "height": null,
            "justify_content": null,
            "justify_items": null,
            "left": null,
            "margin": null,
            "max_height": null,
            "max_width": null,
            "min_height": null,
            "min_width": null,
            "object_fit": null,
            "object_position": null,
            "order": null,
            "overflow": null,
            "overflow_x": null,
            "overflow_y": null,
            "padding": null,
            "right": null,
            "top": null,
            "visibility": null,
            "width": null
          }
        },
        "7040f13929ab487e884dfbeb77a08ca1": {
          "model_module": "@jupyter-widgets/controls",
          "model_name": "DescriptionStyleModel",
          "model_module_version": "1.5.0",
          "state": {
            "_model_module": "@jupyter-widgets/controls",
            "_model_module_version": "1.5.0",
            "_model_name": "DescriptionStyleModel",
            "_view_count": null,
            "_view_module": "@jupyter-widgets/base",
            "_view_module_version": "1.2.0",
            "_view_name": "StyleView",
            "description_width": ""
          }
        },
        "3905b705dafd40cca26b851ea0670d1e": {
          "model_module": "@jupyter-widgets/base",
          "model_name": "LayoutModel",
          "model_module_version": "1.2.0",
          "state": {
            "_model_module": "@jupyter-widgets/base",
            "_model_module_version": "1.2.0",
            "_model_name": "LayoutModel",
            "_view_count": null,
            "_view_module": "@jupyter-widgets/base",
            "_view_module_version": "1.2.0",
            "_view_name": "LayoutView",
            "align_content": null,
            "align_items": null,
            "align_self": null,
            "border": null,
            "bottom": null,
            "display": null,
            "flex": null,
            "flex_flow": null,
            "grid_area": null,
            "grid_auto_columns": null,
            "grid_auto_flow": null,
            "grid_auto_rows": null,
            "grid_column": null,
            "grid_gap": null,
            "grid_row": null,
            "grid_template_areas": null,
            "grid_template_columns": null,
            "grid_template_rows": null,
            "height": null,
            "justify_content": null,
            "justify_items": null,
            "left": null,
            "margin": null,
            "max_height": null,
            "max_width": null,
            "min_height": null,
            "min_width": null,
            "object_fit": null,
            "object_position": null,
            "order": null,
            "overflow": null,
            "overflow_x": null,
            "overflow_y": null,
            "padding": null,
            "right": null,
            "top": null,
            "visibility": null,
            "width": null
          }
        },
        "d6301bbcae674d2b8767b17738bc75d7": {
          "model_module": "@jupyter-widgets/controls",
          "model_name": "ProgressStyleModel",
          "model_module_version": "1.5.0",
          "state": {
            "_model_module": "@jupyter-widgets/controls",
            "_model_module_version": "1.5.0",
            "_model_name": "ProgressStyleModel",
            "_view_count": null,
            "_view_module": "@jupyter-widgets/base",
            "_view_module_version": "1.2.0",
            "_view_name": "StyleView",
            "bar_color": null,
            "description_width": ""
          }
        },
        "9212454c69824dbea7a178bd888164e2": {
          "model_module": "@jupyter-widgets/base",
          "model_name": "LayoutModel",
          "model_module_version": "1.2.0",
          "state": {
            "_model_module": "@jupyter-widgets/base",
            "_model_module_version": "1.2.0",
            "_model_name": "LayoutModel",
            "_view_count": null,
            "_view_module": "@jupyter-widgets/base",
            "_view_module_version": "1.2.0",
            "_view_name": "LayoutView",
            "align_content": null,
            "align_items": null,
            "align_self": null,
            "border": null,
            "bottom": null,
            "display": null,
            "flex": null,
            "flex_flow": null,
            "grid_area": null,
            "grid_auto_columns": null,
            "grid_auto_flow": null,
            "grid_auto_rows": null,
            "grid_column": null,
            "grid_gap": null,
            "grid_row": null,
            "grid_template_areas": null,
            "grid_template_columns": null,
            "grid_template_rows": null,
            "height": null,
            "justify_content": null,
            "justify_items": null,
            "left": null,
            "margin": null,
            "max_height": null,
            "max_width": null,
            "min_height": null,
            "min_width": null,
            "object_fit": null,
            "object_position": null,
            "order": null,
            "overflow": null,
            "overflow_x": null,
            "overflow_y": null,
            "padding": null,
            "right": null,
            "top": null,
            "visibility": null,
            "width": null
          }
        },
        "6aea97b1c83c4b0f9cfae999208b6927": {
          "model_module": "@jupyter-widgets/controls",
          "model_name": "DescriptionStyleModel",
          "model_module_version": "1.5.0",
          "state": {
            "_model_module": "@jupyter-widgets/controls",
            "_model_module_version": "1.5.0",
            "_model_name": "DescriptionStyleModel",
            "_view_count": null,
            "_view_module": "@jupyter-widgets/base",
            "_view_module_version": "1.2.0",
            "_view_name": "StyleView",
            "description_width": ""
          }
        },
        "9e4ae9c6b72647cfa01d993faf221043": {
          "model_module": "@jupyter-widgets/controls",
          "model_name": "HBoxModel",
          "model_module_version": "1.5.0",
          "state": {
            "_dom_classes": [],
            "_model_module": "@jupyter-widgets/controls",
            "_model_module_version": "1.5.0",
            "_model_name": "HBoxModel",
            "_view_count": null,
            "_view_module": "@jupyter-widgets/controls",
            "_view_module_version": "1.5.0",
            "_view_name": "HBoxView",
            "box_style": "",
            "children": [
              "IPY_MODEL_34357bf5a2c4445b8364e0c1d9df815e",
              "IPY_MODEL_9e6699c462934594b489c8c90b5bbedf",
              "IPY_MODEL_e7f06d9079dc423cac2f278552ddb04a"
            ],
            "layout": "IPY_MODEL_3fd7fbb3fec8417bb596b503904fff99"
          }
        },
        "34357bf5a2c4445b8364e0c1d9df815e": {
          "model_module": "@jupyter-widgets/controls",
          "model_name": "HTMLModel",
          "model_module_version": "1.5.0",
          "state": {
            "_dom_classes": [],
            "_model_module": "@jupyter-widgets/controls",
            "_model_module_version": "1.5.0",
            "_model_name": "HTMLModel",
            "_view_count": null,
            "_view_module": "@jupyter-widgets/controls",
            "_view_module_version": "1.5.0",
            "_view_name": "HTMLView",
            "description": "",
            "description_tooltip": null,
            "layout": "IPY_MODEL_5511f80fb0f146dda807e015eea63baf",
            "placeholder": "​",
            "style": "IPY_MODEL_8eec35f95dcc4b2584226b74c97b9995",
            "value": ""
          }
        },
        "9e6699c462934594b489c8c90b5bbedf": {
          "model_module": "@jupyter-widgets/controls",
          "model_name": "FloatProgressModel",
          "model_module_version": "1.5.0",
          "state": {
            "_dom_classes": [],
            "_model_module": "@jupyter-widgets/controls",
            "_model_module_version": "1.5.0",
            "_model_name": "FloatProgressModel",
            "_view_count": null,
            "_view_module": "@jupyter-widgets/controls",
            "_view_module_version": "1.5.0",
            "_view_name": "ProgressView",
            "bar_style": "info",
            "description": "",
            "description_tooltip": null,
            "layout": "IPY_MODEL_4e94604261304a2c9d2e31dd20698ac4",
            "max": 1,
            "min": 0,
            "orientation": "horizontal",
            "style": "IPY_MODEL_1dc72e241be747b2abc71350597fc44b",
            "value": 1
          }
        },
        "e7f06d9079dc423cac2f278552ddb04a": {
          "model_module": "@jupyter-widgets/controls",
          "model_name": "HTMLModel",
          "model_module_version": "1.5.0",
          "state": {
            "_dom_classes": [],
            "_model_module": "@jupyter-widgets/controls",
            "_model_module_version": "1.5.0",
            "_model_name": "HTMLModel",
            "_view_count": null,
            "_view_module": "@jupyter-widgets/controls",
            "_view_module_version": "1.5.0",
            "_view_name": "HTMLView",
            "description": "",
            "description_tooltip": null,
            "layout": "IPY_MODEL_71d86233d83a4df3a70222ba8d1341d4",
            "placeholder": "​",
            "style": "IPY_MODEL_e33edcc639634528bd9ff7fe6d13641a",
            "value": " 9954/0 [00:10&lt;00:00, 1070.54 examples/s]"
          }
        },
        "3fd7fbb3fec8417bb596b503904fff99": {
          "model_module": "@jupyter-widgets/base",
          "model_name": "LayoutModel",
          "model_module_version": "1.2.0",
          "state": {
            "_model_module": "@jupyter-widgets/base",
            "_model_module_version": "1.2.0",
            "_model_name": "LayoutModel",
            "_view_count": null,
            "_view_module": "@jupyter-widgets/base",
            "_view_module_version": "1.2.0",
            "_view_name": "LayoutView",
            "align_content": null,
            "align_items": null,
            "align_self": null,
            "border": null,
            "bottom": null,
            "display": null,
            "flex": null,
            "flex_flow": null,
            "grid_area": null,
            "grid_auto_columns": null,
            "grid_auto_flow": null,
            "grid_auto_rows": null,
            "grid_column": null,
            "grid_gap": null,
            "grid_row": null,
            "grid_template_areas": null,
            "grid_template_columns": null,
            "grid_template_rows": null,
            "height": null,
            "justify_content": null,
            "justify_items": null,
            "left": null,
            "margin": null,
            "max_height": null,
            "max_width": null,
            "min_height": null,
            "min_width": null,
            "object_fit": null,
            "object_position": null,
            "order": null,
            "overflow": null,
            "overflow_x": null,
            "overflow_y": null,
            "padding": null,
            "right": null,
            "top": null,
            "visibility": null,
            "width": null
          }
        },
        "5511f80fb0f146dda807e015eea63baf": {
          "model_module": "@jupyter-widgets/base",
          "model_name": "LayoutModel",
          "model_module_version": "1.2.0",
          "state": {
            "_model_module": "@jupyter-widgets/base",
            "_model_module_version": "1.2.0",
            "_model_name": "LayoutModel",
            "_view_count": null,
            "_view_module": "@jupyter-widgets/base",
            "_view_module_version": "1.2.0",
            "_view_name": "LayoutView",
            "align_content": null,
            "align_items": null,
            "align_self": null,
            "border": null,
            "bottom": null,
            "display": null,
            "flex": null,
            "flex_flow": null,
            "grid_area": null,
            "grid_auto_columns": null,
            "grid_auto_flow": null,
            "grid_auto_rows": null,
            "grid_column": null,
            "grid_gap": null,
            "grid_row": null,
            "grid_template_areas": null,
            "grid_template_columns": null,
            "grid_template_rows": null,
            "height": null,
            "justify_content": null,
            "justify_items": null,
            "left": null,
            "margin": null,
            "max_height": null,
            "max_width": null,
            "min_height": null,
            "min_width": null,
            "object_fit": null,
            "object_position": null,
            "order": null,
            "overflow": null,
            "overflow_x": null,
            "overflow_y": null,
            "padding": null,
            "right": null,
            "top": null,
            "visibility": null,
            "width": null
          }
        },
        "8eec35f95dcc4b2584226b74c97b9995": {
          "model_module": "@jupyter-widgets/controls",
          "model_name": "DescriptionStyleModel",
          "model_module_version": "1.5.0",
          "state": {
            "_model_module": "@jupyter-widgets/controls",
            "_model_module_version": "1.5.0",
            "_model_name": "DescriptionStyleModel",
            "_view_count": null,
            "_view_module": "@jupyter-widgets/base",
            "_view_module_version": "1.2.0",
            "_view_name": "StyleView",
            "description_width": ""
          }
        },
        "4e94604261304a2c9d2e31dd20698ac4": {
          "model_module": "@jupyter-widgets/base",
          "model_name": "LayoutModel",
          "model_module_version": "1.2.0",
          "state": {
            "_model_module": "@jupyter-widgets/base",
            "_model_module_version": "1.2.0",
            "_model_name": "LayoutModel",
            "_view_count": null,
            "_view_module": "@jupyter-widgets/base",
            "_view_module_version": "1.2.0",
            "_view_name": "LayoutView",
            "align_content": null,
            "align_items": null,
            "align_self": null,
            "border": null,
            "bottom": null,
            "display": null,
            "flex": null,
            "flex_flow": null,
            "grid_area": null,
            "grid_auto_columns": null,
            "grid_auto_flow": null,
            "grid_auto_rows": null,
            "grid_column": null,
            "grid_gap": null,
            "grid_row": null,
            "grid_template_areas": null,
            "grid_template_columns": null,
            "grid_template_rows": null,
            "height": null,
            "justify_content": null,
            "justify_items": null,
            "left": null,
            "margin": null,
            "max_height": null,
            "max_width": null,
            "min_height": null,
            "min_width": null,
            "object_fit": null,
            "object_position": null,
            "order": null,
            "overflow": null,
            "overflow_x": null,
            "overflow_y": null,
            "padding": null,
            "right": null,
            "top": null,
            "visibility": null,
            "width": "20px"
          }
        },
        "1dc72e241be747b2abc71350597fc44b": {
          "model_module": "@jupyter-widgets/controls",
          "model_name": "ProgressStyleModel",
          "model_module_version": "1.5.0",
          "state": {
            "_model_module": "@jupyter-widgets/controls",
            "_model_module_version": "1.5.0",
            "_model_name": "ProgressStyleModel",
            "_view_count": null,
            "_view_module": "@jupyter-widgets/base",
            "_view_module_version": "1.2.0",
            "_view_name": "StyleView",
            "bar_color": null,
            "description_width": ""
          }
        },
        "71d86233d83a4df3a70222ba8d1341d4": {
          "model_module": "@jupyter-widgets/base",
          "model_name": "LayoutModel",
          "model_module_version": "1.2.0",
          "state": {
            "_model_module": "@jupyter-widgets/base",
            "_model_module_version": "1.2.0",
            "_model_name": "LayoutModel",
            "_view_count": null,
            "_view_module": "@jupyter-widgets/base",
            "_view_module_version": "1.2.0",
            "_view_name": "LayoutView",
            "align_content": null,
            "align_items": null,
            "align_self": null,
            "border": null,
            "bottom": null,
            "display": null,
            "flex": null,
            "flex_flow": null,
            "grid_area": null,
            "grid_auto_columns": null,
            "grid_auto_flow": null,
            "grid_auto_rows": null,
            "grid_column": null,
            "grid_gap": null,
            "grid_row": null,
            "grid_template_areas": null,
            "grid_template_columns": null,
            "grid_template_rows": null,
            "height": null,
            "justify_content": null,
            "justify_items": null,
            "left": null,
            "margin": null,
            "max_height": null,
            "max_width": null,
            "min_height": null,
            "min_width": null,
            "object_fit": null,
            "object_position": null,
            "order": null,
            "overflow": null,
            "overflow_x": null,
            "overflow_y": null,
            "padding": null,
            "right": null,
            "top": null,
            "visibility": null,
            "width": null
          }
        },
        "e33edcc639634528bd9ff7fe6d13641a": {
          "model_module": "@jupyter-widgets/controls",
          "model_name": "DescriptionStyleModel",
          "model_module_version": "1.5.0",
          "state": {
            "_model_module": "@jupyter-widgets/controls",
            "_model_module_version": "1.5.0",
            "_model_name": "DescriptionStyleModel",
            "_view_count": null,
            "_view_module": "@jupyter-widgets/base",
            "_view_module_version": "1.2.0",
            "_view_name": "StyleView",
            "description_width": ""
          }
        },
        "157f1eba4c844e69b14b19225025a1d7": {
          "model_module": "@jupyter-widgets/controls",
          "model_name": "HBoxModel",
          "model_module_version": "1.5.0",
          "state": {
            "_dom_classes": [],
            "_model_module": "@jupyter-widgets/controls",
            "_model_module_version": "1.5.0",
            "_model_name": "HBoxModel",
            "_view_count": null,
            "_view_module": "@jupyter-widgets/controls",
            "_view_module_version": "1.5.0",
            "_view_name": "HBoxView",
            "box_style": "",
            "children": [
              "IPY_MODEL_9b05a14f15d141c180b94cf7bea60b14",
              "IPY_MODEL_af945bfe223a41b78f520ed14afc39ae",
              "IPY_MODEL_733954b1b06f48ddb81ff0b041276ff1"
            ],
            "layout": "IPY_MODEL_e3e76b35079c45149b6f430a988358ba"
          }
        },
        "9b05a14f15d141c180b94cf7bea60b14": {
          "model_module": "@jupyter-widgets/controls",
          "model_name": "HTMLModel",
          "model_module_version": "1.5.0",
          "state": {
            "_dom_classes": [],
            "_model_module": "@jupyter-widgets/controls",
            "_model_module_version": "1.5.0",
            "_model_name": "HTMLModel",
            "_view_count": null,
            "_view_module": "@jupyter-widgets/controls",
            "_view_module_version": "1.5.0",
            "_view_name": "HTMLView",
            "description": "",
            "description_tooltip": null,
            "layout": "IPY_MODEL_130e23266c64472d8d9612e63e5848bd",
            "placeholder": "​",
            "style": "IPY_MODEL_89548ecefaa8477bb05184d0ae22ff7e",
            "value": "100%"
          }
        },
        "af945bfe223a41b78f520ed14afc39ae": {
          "model_module": "@jupyter-widgets/controls",
          "model_name": "FloatProgressModel",
          "model_module_version": "1.5.0",
          "state": {
            "_dom_classes": [],
            "_model_module": "@jupyter-widgets/controls",
            "_model_module_version": "1.5.0",
            "_model_name": "FloatProgressModel",
            "_view_count": null,
            "_view_module": "@jupyter-widgets/controls",
            "_view_module_version": "1.5.0",
            "_view_name": "ProgressView",
            "bar_style": "danger",
            "description": "",
            "description_tooltip": null,
            "layout": "IPY_MODEL_97bb83fe23714572b6264bfe4f0c979d",
            "max": 10000,
            "min": 0,
            "orientation": "horizontal",
            "style": "IPY_MODEL_1059d0bcb75f47f2a4abe002497b6098",
            "value": 9999
          }
        },
        "733954b1b06f48ddb81ff0b041276ff1": {
          "model_module": "@jupyter-widgets/controls",
          "model_name": "HTMLModel",
          "model_module_version": "1.5.0",
          "state": {
            "_dom_classes": [],
            "_model_module": "@jupyter-widgets/controls",
            "_model_module_version": "1.5.0",
            "_model_name": "HTMLModel",
            "_view_count": null,
            "_view_module": "@jupyter-widgets/controls",
            "_view_module_version": "1.5.0",
            "_view_name": "HTMLView",
            "description": "",
            "description_tooltip": null,
            "layout": "IPY_MODEL_3422c2096d37445c8d524afe4df8cb6c",
            "placeholder": "​",
            "style": "IPY_MODEL_c5d3e73d7119461c904031c2a1c3182a",
            "value": " 9999/10000 [00:00&lt;00:00, 75411.44 examples/s]"
          }
        },
        "e3e76b35079c45149b6f430a988358ba": {
          "model_module": "@jupyter-widgets/base",
          "model_name": "LayoutModel",
          "model_module_version": "1.2.0",
          "state": {
            "_model_module": "@jupyter-widgets/base",
            "_model_module_version": "1.2.0",
            "_model_name": "LayoutModel",
            "_view_count": null,
            "_view_module": "@jupyter-widgets/base",
            "_view_module_version": "1.2.0",
            "_view_name": "LayoutView",
            "align_content": null,
            "align_items": null,
            "align_self": null,
            "border": null,
            "bottom": null,
            "display": null,
            "flex": null,
            "flex_flow": null,
            "grid_area": null,
            "grid_auto_columns": null,
            "grid_auto_flow": null,
            "grid_auto_rows": null,
            "grid_column": null,
            "grid_gap": null,
            "grid_row": null,
            "grid_template_areas": null,
            "grid_template_columns": null,
            "grid_template_rows": null,
            "height": null,
            "justify_content": null,
            "justify_items": null,
            "left": null,
            "margin": null,
            "max_height": null,
            "max_width": null,
            "min_height": null,
            "min_width": null,
            "object_fit": null,
            "object_position": null,
            "order": null,
            "overflow": null,
            "overflow_x": null,
            "overflow_y": null,
            "padding": null,
            "right": null,
            "top": null,
            "visibility": null,
            "width": null
          }
        },
        "130e23266c64472d8d9612e63e5848bd": {
          "model_module": "@jupyter-widgets/base",
          "model_name": "LayoutModel",
          "model_module_version": "1.2.0",
          "state": {
            "_model_module": "@jupyter-widgets/base",
            "_model_module_version": "1.2.0",
            "_model_name": "LayoutModel",
            "_view_count": null,
            "_view_module": "@jupyter-widgets/base",
            "_view_module_version": "1.2.0",
            "_view_name": "LayoutView",
            "align_content": null,
            "align_items": null,
            "align_self": null,
            "border": null,
            "bottom": null,
            "display": null,
            "flex": null,
            "flex_flow": null,
            "grid_area": null,
            "grid_auto_columns": null,
            "grid_auto_flow": null,
            "grid_auto_rows": null,
            "grid_column": null,
            "grid_gap": null,
            "grid_row": null,
            "grid_template_areas": null,
            "grid_template_columns": null,
            "grid_template_rows": null,
            "height": null,
            "justify_content": null,
            "justify_items": null,
            "left": null,
            "margin": null,
            "max_height": null,
            "max_width": null,
            "min_height": null,
            "min_width": null,
            "object_fit": null,
            "object_position": null,
            "order": null,
            "overflow": null,
            "overflow_x": null,
            "overflow_y": null,
            "padding": null,
            "right": null,
            "top": null,
            "visibility": null,
            "width": null
          }
        },
        "89548ecefaa8477bb05184d0ae22ff7e": {
          "model_module": "@jupyter-widgets/controls",
          "model_name": "DescriptionStyleModel",
          "model_module_version": "1.5.0",
          "state": {
            "_model_module": "@jupyter-widgets/controls",
            "_model_module_version": "1.5.0",
            "_model_name": "DescriptionStyleModel",
            "_view_count": null,
            "_view_module": "@jupyter-widgets/base",
            "_view_module_version": "1.2.0",
            "_view_name": "StyleView",
            "description_width": ""
          }
        },
        "97bb83fe23714572b6264bfe4f0c979d": {
          "model_module": "@jupyter-widgets/base",
          "model_name": "LayoutModel",
          "model_module_version": "1.2.0",
          "state": {
            "_model_module": "@jupyter-widgets/base",
            "_model_module_version": "1.2.0",
            "_model_name": "LayoutModel",
            "_view_count": null,
            "_view_module": "@jupyter-widgets/base",
            "_view_module_version": "1.2.0",
            "_view_name": "LayoutView",
            "align_content": null,
            "align_items": null,
            "align_self": null,
            "border": null,
            "bottom": null,
            "display": null,
            "flex": null,
            "flex_flow": null,
            "grid_area": null,
            "grid_auto_columns": null,
            "grid_auto_flow": null,
            "grid_auto_rows": null,
            "grid_column": null,
            "grid_gap": null,
            "grid_row": null,
            "grid_template_areas": null,
            "grid_template_columns": null,
            "grid_template_rows": null,
            "height": null,
            "justify_content": null,
            "justify_items": null,
            "left": null,
            "margin": null,
            "max_height": null,
            "max_width": null,
            "min_height": null,
            "min_width": null,
            "object_fit": null,
            "object_position": null,
            "order": null,
            "overflow": null,
            "overflow_x": null,
            "overflow_y": null,
            "padding": null,
            "right": null,
            "top": null,
            "visibility": null,
            "width": null
          }
        },
        "1059d0bcb75f47f2a4abe002497b6098": {
          "model_module": "@jupyter-widgets/controls",
          "model_name": "ProgressStyleModel",
          "model_module_version": "1.5.0",
          "state": {
            "_model_module": "@jupyter-widgets/controls",
            "_model_module_version": "1.5.0",
            "_model_name": "ProgressStyleModel",
            "_view_count": null,
            "_view_module": "@jupyter-widgets/base",
            "_view_module_version": "1.2.0",
            "_view_name": "StyleView",
            "bar_color": null,
            "description_width": ""
          }
        },
        "3422c2096d37445c8d524afe4df8cb6c": {
          "model_module": "@jupyter-widgets/base",
          "model_name": "LayoutModel",
          "model_module_version": "1.2.0",
          "state": {
            "_model_module": "@jupyter-widgets/base",
            "_model_module_version": "1.2.0",
            "_model_name": "LayoutModel",
            "_view_count": null,
            "_view_module": "@jupyter-widgets/base",
            "_view_module_version": "1.2.0",
            "_view_name": "LayoutView",
            "align_content": null,
            "align_items": null,
            "align_self": null,
            "border": null,
            "bottom": null,
            "display": null,
            "flex": null,
            "flex_flow": null,
            "grid_area": null,
            "grid_auto_columns": null,
            "grid_auto_flow": null,
            "grid_auto_rows": null,
            "grid_column": null,
            "grid_gap": null,
            "grid_row": null,
            "grid_template_areas": null,
            "grid_template_columns": null,
            "grid_template_rows": null,
            "height": null,
            "justify_content": null,
            "justify_items": null,
            "left": null,
            "margin": null,
            "max_height": null,
            "max_width": null,
            "min_height": null,
            "min_width": null,
            "object_fit": null,
            "object_position": null,
            "order": null,
            "overflow": null,
            "overflow_x": null,
            "overflow_y": null,
            "padding": null,
            "right": null,
            "top": null,
            "visibility": null,
            "width": null
          }
        },
        "c5d3e73d7119461c904031c2a1c3182a": {
          "model_module": "@jupyter-widgets/controls",
          "model_name": "DescriptionStyleModel",
          "model_module_version": "1.5.0",
          "state": {
            "_model_module": "@jupyter-widgets/controls",
            "_model_module_version": "1.5.0",
            "_model_name": "DescriptionStyleModel",
            "_view_count": null,
            "_view_module": "@jupyter-widgets/base",
            "_view_module_version": "1.2.0",
            "_view_name": "StyleView",
            "description_width": ""
          }
        }
      }
    }
  },
  "cells": [
    {
      "cell_type": "markdown",
      "source": [
        "# **Τεχνολογία και Ανάλυση Εικόνων και Βίντεο**\n",
        "## **ΣΗΜΜΥ, ΕΜΠ, Ροή Υ, 8ο Εξάμηνο**\n",
        "### *2η Εργαστηριακή Άσκηση, 2021-2022*\n",
        "\n",
        "    'Χρήστος Τσούφης - chris99ts@gmail.com'\n"
      ],
      "metadata": {
        "id": "z9LJKJwzkeUQ"
      }
    },
    {
      "cell_type": "markdown",
      "source": [
        "### **1. Θεωρητικό μέρος**"
      ],
      "metadata": {
        "id": "EodmmrVKujqq"
      }
    },
    {
      "cell_type": "markdown",
      "source": [
        "**α) Μελετήστε τα ακόλουθα άρθρα καθώς και τις υλοποιήσεις τους.**\n",
        "\n",
        "| Άρθρο      | Υλοποίηση |\n",
        "| ----------- | ----------- |\n",
        "| [Handwritten Digit Recognition with a Back-Propagation Network](https://papers.nips.cc/paper/1989/file/53c3bce66e43be4f209556518c2fcb54-Paper.pdf) | [6.6. Convolutional Neural Networks (LeNet) — Dive into Deep Learning 0.17.5 documentation](https://d2l.ai/chapter_convolutional-neural-networks/lenet.html) |\n",
        "| [ImageNet Classification with Deep Convolutional Neural Networks](https://proceedings.neurips.cc/paper/2012/file/c399862d3b9d6b76c8436e924a68c45b-Paper.pdf) | [7.1. Deep Convolutional Neural Networks (AlexNet)](https://d2l.ai/chapter_convolutional-modern/alexnet.html) |\n",
        "| [Very Deep Convolutional Networks for Large-Scale Image Recognition](https://arxiv.org/pdf/1409.1556.pdf) | [7.2. Networks Using Blocks (VGG) — Dive into Deep Learning 0.17.5 documentation](https://d2l.ai/chapter_convolutional-modern/vgg.html) |\n",
        "\n",
        "\n"
      ],
      "metadata": {
        "id": "U4dB7EL_ki84"
      }
    },
    {
      "cell_type": "markdown",
      "source": [
        "**β) Απαντήστε στις ακόλουθες ερωτήσεις (μέσα σε κελί κειμένου στο Notebook που θα\n",
        "παραδώσετε)**"
      ],
      "metadata": {
        "id": "J22gvYqQpmYT"
      }
    },
    {
      "cell_type": "markdown",
      "source": [
        "**1. Περιγράψτε τη λειτουργία της Rectified Linear Unit (ReLU).**"
      ],
      "metadata": {
        "id": "DRThWo61s90r"
      }
    },
    {
      "cell_type": "markdown",
      "source": [
        "Η Rectified Linear Unit (ReLU) είναι μια μη γραμμική συνάρτηση ενεργοποίησης, η οποία ορίζεται ως το θετικό μέρος του ορίσματός της: $ReLU(x) = max(0,x)$ , όπου x είναι η είσοδος του νευρώνα και, κατά την μοντελοποίηση του νευρωνικού δικτύου, εφαρμόζεται ξεχωριστά σε κάθε pixel του feautures map που παράχθηκε από το στάδιο της συνέλιξης. Με αυτόν τον τρόπο, αν κάποιο train_set παράγει θετική τιμή τότε θα πραγματοποιηθεί εκπαίδευση στο συγκεκριμένο νευρωνικό, διαφορετικά την θέτει ίση με μηδέν και αγνοεί το συγκεκριμένο νευρωνικό. Με άλλα λόγια,είναι μια scale invariant, εύκολα υλοποιήσιμη και αναλυτική συνάρτηση που περιλαμβάνει μόνο συγκρίσεις, πολλαπλασιασμούς και προσθέσεις.Συγκριτικά με άλλες μη γραμμικότητες ενεργοποίησης, καταφέρνει με τεχνικές gradient descent την εκπαίδευση νευρωνικών δικτύων πολύ ταχύτερα και αποδοτικότερα, αφού καθιστά εφικτή τη διαχείριση τεράστιων όγκων δεδομένων εκπαίδευσης. Επιπροσθέτως, επιτυγχάνει αραιή ενεργοποίηση (sparse activation) νευρώνων, καθώς μόνο το ~ 50% των νευρώνων λαμβάνουν μη μηδενική τιμή εξόδου. Έτσι, επιφέρει γρηγορότερη σύγκλιση των αλγορίθμων εκπαίδευσης, με αποτέλεσμα να περιορίζονται φαινόμενα overfitting και vanishing gradient."
      ],
      "metadata": {
        "id": "iQxm2uoitIQU"
      }
    },
    {
      "cell_type": "markdown",
      "source": [
        "**2. Παρουσιάστε ένα συγκριτικό πίνακα με τα επίπεδα, το μέγεθος των φίλτρων, συνάρτηση ενεργοποίησης, πλήθος παραμέτρων και τεχνικές pooling και dropout που χρησιμοποιούν τα 3 διαφορετικά δίκτυα που παρουσιάζονται στα προαναφερθέντα άρθρα και σχολιάστε επαρκώς τις διαφορές τους. Ποια χαρακτηριστικά αυτών των τριών δικτύων είναι κατά τη γνώμη σας αυτά που συνέβαλαν στη σταδιακή αύξηση της ακρίβειας ταξινόμησης.**"
      ],
      "metadata": {
        "id": "rhAQg0m5uYl9"
      }
    },
    {
      "cell_type": "markdown",
      "source": [
        "Ο **πίνακας** που προκύπτει είναι ο εξής:\n",
        "\n",
        "| | LeNet | AlexNet | VGG |\n",
        "| :-: | :-: | :-: | :-: |\n",
        "|**Επίπεδα**| 7 layers | 8 layers  | 16 layers |\n",
        "|**Μέγεθος Φίλτρων**| 5x5x3 kernel-sized filters | 11x11x3 & 5x5x3 & 3x3x3 kernel-sized filters | 3x3x3 kernel-sized filters |\n",
        "|**Συνάρτηση Ενεργοποίησης**| Sigmoid | ReLU | ReLU, Softmax |\n",
        "|**Πλήθος Παραμέτρων**| 3,246 | 62 million | 138 million |\n",
        "|**Τεχνικές Pooling**| average-pooling of size 2x2 with a stride of 2 | max-pooling of size 3×3 with a stride of 2 | max-pooling of size 2 × 2 with strides of 2 |\n",
        "|**Τεχνικές Dropout**| - | Yes (p = 50%) | - |\n",
        "\n",
        "<br>\n",
        "\n",
        "**Σχολιασμός**\n",
        "\n",
        "---\n",
        "\n",
        "Παρατηρούνται τα εξής:\n",
        "- **Lenet**: είναι η πιο πρώιμη μορφή συνελικτικού δικτύου. Έχει τα λιγότερα επίπεδα και τις λιγότερες εκπαιδεύσιμες παραμέτρους. Είναι το μόνο εκ των τριών που δεν χρησιμοποιεί την συνάρτηση ReLU, αλλά τη sigmoid. Επιπλέον, είναι το μόνο που χρησιμοποιεί τεχνική average-pooling αντί για max-pooling. Τέλος, σημειώνεται ότι η αρχική λειτουργία του εν λόγω δικτύου προοριζόταν για πρόβλημα κατηγοριοποίησης εικόνων μόλις 10 κλάσεων (ψηφία 0-9), για αυτό το λόγο έχει και απλούστερη αρχιτεκτονική.\n",
        "- **AlexNet**: χρησιμοποιεί τα μεγαλύτερα φίλτρα (σε διάσταση) και επίσης, είναι το μόνο που χρησιμοποιεί τριών διαστάσεων φίλτρα ανά επίπεδο (δηλ. 11x11, 5x5, 3x3). Αυτό συμβαίνει διότι λαμβάνει ως είσοδο εικόνες μεγάλων διαστάσεων (224x224 pixels). Ακόμη, είναι το πρώτο που αξιοποιεί τη μη γραμμικότητα της ReLU. Επίσης, είναι το μοναδικό εκ των τριών που κάνει χρήση τεχνικών Dropout για την αντιμετώπιση φαινομένων overfitting. Το Dropout, αφαιρώντας ουσιαστικά τυχαίους κόμβους από την διαδικασία εκπαίδευσης κάθε φορά, έχει ως αποτέλεσμα ότι ένας νευρώνας δεν μπορεί τελικά να βασίζεται σημαντικά σε έναν άλλο, αφού οι συνδέσεις δεν είναι πάντα σταθερές, και οδηγεί τελικά σε σημαντική μείωση του overfitting.\n",
        "- **VGG**: είναι το μεγαλύτερο δίκτυο (σε βάθος), αφού έχει πολλά επίπεδα και παραμέτρους. Συνεπώς, είναι πιο αργό κατά την εκπαίδευση, ενώ φαίνεται να λειτουργεί καλύτερα με Stochastic Gradient Descent Optimizers. Μάλιστα, χρησιμοποιεί πολλαπλά stacked 3x3 convolutional layers αντί για ένα μεγαλύτερο, το οποίο είναι ιδιαίτερα χρήσιμο για την βελτίωση της επίδοσης του, γεγονός που αντιστοιχεί σε ένα είδος regularization, ενώ παράλληλα, επιτρέπει και την μείωση του πλήθους των παραμέτρων που πρέπει να προσδιοριστούν. Τέλος, είναι το μόνο δίκτυο που στο τελευταίο layer χρησιμοποιεί την συνάρτηση ενεργοποίησης Softmax.\n",
        "\n",
        "Εν κατακλείδι, η σταδιακή αύξηση της ακρίβειας ταξινόμησης οφείλεται, κατά κύριο λόγο, στη χρήση συναρτήσεων ενεργοποίησης, καθώς μέσω αυτών μοντελοποιείται η μη γραμμικότητα του προβλήματος. Επιπροσθέτως, η διαδικασία εκπαίδευσης καθίσταται ευκολότερη με την αξιοποίηση πολλαπλών επιπέδων εκπαίδευσης, καθώς εισάγονται/εξάγονται απευθείας ολόκληρες εικόνες, οι οποίες \"αποσυντίθενται\" εντός του νευρωνικού σε επιμέρους features και εξυπηρετούν classification tasks. Επίσης, το πλήθος των παραμέτρων διατηρείται όσο το δυνατόν ελάχιστο, ώστε η εκπαίδευση τους να γίνεται γρήγορα και αξιοποιώντας τεχνολογίες GPU. Τέλος, τα αυξημένα ποσοστά ευστοχίας οφείλονται στο γεγονός ότι και οι τρεις αρχιτεκτονικές μπορούν εύκολα να προσαρμοστούν με την εισαγωγή και τροποποίηση επιπέδων καθώς και τεχνικών pooling & Dropout που φάνηκαν ιδιαίτερα αποτελεσματικές στην αντιμετώπιση φαινομένων overfitting & vanishing gradient."
      ],
      "metadata": {
        "id": "mtpOJwC62czt"
      }
    },
    {
      "cell_type": "markdown",
      "source": [
        "### **2. Υλοποίηση αλγορίθμου**"
      ],
      "metadata": {
        "id": "JfGooMb8uhbK"
      }
    },
    {
      "cell_type": "markdown",
      "source": [
        "Σας δίνεται ένα [αρχικό notebook](https://colab.research.google.com/drive/1Ct0hTXIgtKCn8_SA-N8mNZt2Tc1ehyG7) για την εισαγωγή και επισκόπηση του συνόλου των δεδομένων που θα χρησιμοποιήσετε στην άσκηση. Θα δουλέψετε με ένα υποσύνολο του συνόλου δεδομένων [CIFAR-100](https://www.cs.toronto.edu/~kriz/cifar.html). Στο αρχικό notebook υπάρχει η παράμετρο team_seed όπου θα της ορίσετε ως τιμή τον αριθμό της ομάδας σας (π.χ. Αν Μ25 τότε team_seed=25) με σκοπό να λάβετε το υποσύνολο που αντιστοιχεί με μοναδικό τρόπο στην ομάδα σας.\n",
        "\n",
        "Αποθηκεύστε αυτό το notebook στο drive σας και ακολουθήστε τα βήματα που παρουσιάζονται σε αυτό. Καλείστε να υλοποιήσετε κώδικα και να απαντήσετε στα σχετικά ερωτήματα.\n",
        "\n",
        "Το παραδοτέο θα είναι ένα .ipynb αρχείο όπου θα περιλαμβάνει τα εξής:\n",
        "1. τις απαντήσεις του θεωρητικού μέρους (σε markdown - text κελί).\n",
        "2. τις υλοποιήσεις των συναρτήσεων του εργαστηριακού μέρους (σε code κελί) και σε markdown-text κελί τους σχολιασμούς των αποτελεσμάτων σας.\n",
        "\n",
        "Προσοχή: Θα πρέπει να έχετε αποθηκεύσει το αρχείο ipynb έχοντας τυπωμένη όλη την εκτέλεσή του (δηλαδή να το τρέξετε και να το αποθηκεύσετε και να το “κατεβάσετε” από το cloud έτσι ώστε να είναι εμφανής η εκτέλεσή του). Όσοι επιθυμούν, αντί για ανέβασμα του notebook τους στο eclass, μπορούν να διαμοιράσουν το notebook της εργασίας του και να ανεβάζουν το link στο eclass (δεν θα ληφθούν υπόψη αλλαγές που θα γίνουν μετά την ημερομηνία υποβολής της εργασίας τους στο eclass)."
      ],
      "metadata": {
        "id": "AOum0o3cusue"
      }
    },
    {
      "cell_type": "markdown",
      "source": [
        "Installation of packages & libraries"
      ],
      "metadata": {
        "id": "RrldIgIP7fst"
      }
    },
    {
      "cell_type": "code",
      "source": [
        "from __future__ import absolute_import, division, print_function, unicode_literals # legacy compatibility\n",
        "\n",
        "import numpy as np\n",
        "import pandas as pd\n",
        "import matplotlib.pyplot as plt\n",
        "\n",
        "import tensorflow as tf\n",
        "import tensorflow_datasets as tfds\n",
        "from keras.preprocessing.image import ImageDataGenerator\n",
        "from tensorflow.keras.utils import to_categorical\n",
        "from keras.callbacks import EarlyStopping, ModelCheckpoint\n",
        "from keras.models import load_model\n",
        "\n",
        "import datetime\n",
        "# data augmentation\n",
        "!pip install h5py"
      ],
      "metadata": {
        "id": "beNSUUlpvcYd",
        "colab": {
          "base_uri": "https://localhost:8080/"
        },
        "outputId": "92adc643-01f9-4dd1-e7a5-02cc23bffebd"
      },
      "execution_count": null,
      "outputs": [
        {
          "output_type": "stream",
          "name": "stdout",
          "text": [
            "Looking in indexes: https://pypi.org/simple, https://us-python.pkg.dev/colab-wheels/public/simple/\n",
            "Requirement already satisfied: h5py in /usr/local/lib/python3.7/dist-packages (3.1.0)\n",
            "Requirement already satisfied: cached-property in /usr/local/lib/python3.7/dist-packages (from h5py) (1.5.2)\n",
            "Requirement already satisfied: numpy>=1.14.5 in /usr/local/lib/python3.7/dist-packages (from h5py) (1.21.6)\n"
          ]
        }
      ]
    },
    {
      "cell_type": "markdown",
      "source": [
        "The following cell implements some helper functions"
      ],
      "metadata": {
        "id": "PExZTU8C7mHz"
      }
    },
    {
      "cell_type": "markdown",
      "source": [
        "The following cell selects from from_list elements with index in index_list"
      ],
      "metadata": {
        "id": "7NmFNVidGJf0"
      }
    },
    {
      "cell_type": "code",
      "source": [
        "def select_from_list(from_list, index_list):\n",
        "    filtered_list= [from_list[i] for i in index_list]\n",
        "    return(filtered_list)"
      ],
      "metadata": {
        "id": "2yAgLDSlGFri"
      },
      "execution_count": null,
      "outputs": []
    },
    {
      "cell_type": "markdown",
      "source": [
        "The following cell appends in filtered_list the index of each element of unfilterd_list if it exists in in target_list\n"
      ],
      "metadata": {
        "id": "nHFGIomjGOsh"
      }
    },
    {
      "cell_type": "code",
      "source": [
        "def get_ds_index(unfiliterd_list, target_list):\n",
        "    index = 0\n",
        "    filtered_list = []\n",
        "    for i_ in unfiliterd_list:\n",
        "        if i_[0] in target_list:\n",
        "            filtered_list.append(index)\n",
        "        index += 1\n",
        "    return(filtered_list)"
      ],
      "metadata": {
        "id": "7mwVH5lWGHsm"
      },
      "execution_count": null,
      "outputs": []
    },
    {
      "cell_type": "markdown",
      "source": [
        "The following cell plots learning curve of model history"
      ],
      "metadata": {
        "id": "RhyUJLOLGWct"
      }
    },
    {
      "cell_type": "code",
      "source": [
        "def plot_accuracy(history):\n",
        "    plt.figure(figsize=(8, 5))\n",
        "    plt.title('Classification Accuracy Curve')\n",
        "    plt.xlabel('Epochs')\n",
        "    plt.ylabel('Accuracy (%)')\n",
        "    plt.plot(history.history['accuracy'], color='blue', label='train')\n",
        "    plt.plot(history.history['val_accuracy'], color='red', label='val')\n",
        "    plt.legend(loc='upper right')\n",
        "    return plt"
      ],
      "metadata": {
        "id": "58SGKs5GGVZG"
      },
      "execution_count": null,
      "outputs": []
    },
    {
      "cell_type": "markdown",
      "source": [
        "The following cell evaluates Model on its Accuracy\n"
      ],
      "metadata": {
        "id": "2bcvaMOoGehR"
      }
    },
    {
      "cell_type": "code",
      "source": [
        "def model_evaluation(model, eval_steps):\n",
        "    print('\\nTest set Evaluation metrics')\n",
        "    loss, accuracy = model.evaluate(x_test, y_test, steps = eval_steps)\n",
        "    print(\"Loss: {:.2f}\".format(loss))\n",
        "    print(\"Accuracy: {:.2f}\".format(accuracy))"
      ],
      "metadata": {
        "id": "ZDX5ygsc7jH6"
      },
      "execution_count": null,
      "outputs": []
    },
    {
      "cell_type": "markdown",
      "source": [
        "Load the entire dataset"
      ],
      "metadata": {
        "id": "YVhZzwM6AJzA"
      }
    },
    {
      "cell_type": "code",
      "source": [
        "import tensorflow as tf\n",
        "from tensorflow.keras import datasets, layers, models\n",
        "\n",
        "(x_train_all, y_train_all), (x_test_all, y_test_all) = tf.keras.datasets.cifar100.load_data(label_mode='fine')"
      ],
      "metadata": {
        "id": "cOVfhDNQ8Bgg",
        "colab": {
          "base_uri": "https://localhost:8080/"
        },
        "outputId": "c533ced9-4170-46f3-feb4-1e38e95f5fcc"
      },
      "execution_count": null,
      "outputs": [
        {
          "output_type": "stream",
          "name": "stdout",
          "text": [
            "Downloading data from https://www.cs.toronto.edu/~kriz/cifar-100-python.tar.gz\n",
            "169009152/169001437 [==============================] - 2s 0us/step\n",
            "169017344/169001437 [==============================] - 2s 0us/step\n"
          ]
        }
      ]
    },
    {
      "cell_type": "code",
      "source": [
        "print(x_train_all.shape)"
      ],
      "metadata": {
        "id": "dVUdGUKa8Im3",
        "colab": {
          "base_uri": "https://localhost:8080/"
        },
        "outputId": "8dc549d8-7880-4c28-fc9d-78c111e6fabf"
      },
      "execution_count": null,
      "outputs": [
        {
          "output_type": "stream",
          "name": "stdout",
          "text": [
            "(50000, 32, 32, 3)\n"
          ]
        }
      ]
    },
    {
      "cell_type": "markdown",
      "source": [
        "Η κάθε ομάδα θα δουλέψει με διαφορετικό υποσύνολο του dataset.\n",
        "Στο επόμενο κελί, αντικαταστήστε την τιμή της μεταβλητής `team_seed` με τον αριθμό που αντιστοιχεί στην ομάδας σας. "
      ],
      "metadata": {
        "id": "Z008wQ248Jfv"
      }
    },
    {
      "cell_type": "code",
      "source": [
        "# REPLACE WITH YOUR TEAM NUMBER\n",
        "team_seed = 83"
      ],
      "metadata": {
        "id": "05jQbKHm8TGs"
      },
      "execution_count": null,
      "outputs": []
    },
    {
      "cell_type": "code",
      "source": [
        "# select from CIFAR100 20 classes\n",
        "cifar100_classes_url = \"https://pastebin.com/raw/nzE1n98V\"\n",
        "classes_num = 20"
      ],
      "metadata": {
        "id": "UbDJjgFe8VPX"
      },
      "execution_count": null,
      "outputs": []
    },
    {
      "cell_type": "markdown",
      "source": [
        "Δημιουργούμε το μοναδικό dataset της ομάδας μας:"
      ],
      "metadata": {
        "id": "1_Ymjtc38gkn"
      }
    },
    {
      "cell_type": "code",
      "source": [
        "team_classes = pd.read_csv(cifar100_classes_url, sep=',', header=None)\n",
        "CIFAR100_LABELS_LIST = pd.read_csv('https://pastebin.com/raw/qgDaNggt', sep=',', header=None).astype(str).values.tolist()[0]\n",
        "\n",
        "our_index = team_classes.iloc[team_seed,:].values.tolist()\n",
        "our_classes = select_from_list(CIFAR100_LABELS_LIST, our_index)\n",
        "train_index = get_ds_index(y_train_all, our_index)\n",
        "test_index = get_ds_index(y_test_all, our_index)\n",
        "\n",
        "x_train_ds = np.asarray(select_from_list(x_train_all, train_index))\n",
        "y_train_ds = np.asarray(select_from_list(y_train_all, train_index))\n",
        "x_test_ds = np.asarray(select_from_list(x_test_all, test_index))\n",
        "y_test_ds = np.asarray(select_from_list(y_test_all, test_index))"
      ],
      "metadata": {
        "id": "icwiXbJL8hAM"
      },
      "execution_count": null,
      "outputs": []
    },
    {
      "cell_type": "code",
      "source": [
        "# print our classes\n",
        "print(our_classes)"
      ],
      "metadata": {
        "id": "KXoi_m008lJh",
        "colab": {
          "base_uri": "https://localhost:8080/"
        },
        "outputId": "1d517db3-cb1f-448a-c8c1-c8633c85f3fa"
      },
      "execution_count": null,
      "outputs": [
        {
          "output_type": "stream",
          "name": "stdout",
          "text": [
            "[' baby', ' boy', ' butterfly', ' can', ' crab', ' fox', ' house', ' lamp', ' lawn_mower', ' pickup_truck', ' porcupine', ' skyscraper', ' snail', ' sunflower', ' telephone', ' television', ' tractor', ' train', ' wardrobe', ' woman']\n"
          ]
        }
      ]
    },
    {
      "cell_type": "code",
      "source": [
        "print(x_train_ds[1].shape)"
      ],
      "metadata": {
        "id": "hlrnI_6H8mse",
        "colab": {
          "base_uri": "https://localhost:8080/"
        },
        "outputId": "b9c18f0f-06f9-41e5-e2db-d8c965306050"
      },
      "execution_count": null,
      "outputs": [
        {
          "output_type": "stream",
          "name": "stdout",
          "text": [
            "(32, 32, 3)\n"
          ]
        }
      ]
    },
    {
      "cell_type": "code",
      "source": [
        "# get (train) dataset dimensions\n",
        "data_size, img_rows, img_cols, img_channels = x_train_ds.shape\n",
        "\n",
        "# set validation set percentage (wrt the training set size)\n",
        "validation_percentage = 0.15\n",
        "val_size = round(validation_percentage * data_size)\n",
        "\n",
        "# Reserve val_size samples for validation and normalize all values\n",
        "x_val = x_train_ds[-val_size:]/255\n",
        "y_val = y_train_ds[-val_size:]\n",
        "x_train = x_train_ds[:-val_size]/255\n",
        "y_train = y_train_ds[:-val_size]\n",
        "x_test = x_test_ds/255\n",
        "y_test = y_test_ds\n",
        "\n",
        "# summarize loaded dataset\n",
        "print('Train: X=%s, y=%s' % (x_train.shape, y_train.shape))\n",
        "print('Validation: X=%s, y=%s' % (x_val.shape, y_val.shape))\n",
        "print('Test: X=%s, y=%s' % (x_test.shape, y_test.shape))\n",
        "\n",
        "# get class label from class index\n",
        "def class_label_from_index(fine_category):\n",
        "    return(CIFAR100_LABELS_LIST[fine_category.item(0)])\n",
        "\n",
        "# plot first few images\n",
        "plt.figure(figsize=(6, 6))\n",
        "for i in range(9):\n",
        "    # define subplot\n",
        "    plt.subplot(330 + 1 + i).set_title(class_label_from_index(y_train[i]))\n",
        "    # plot raw pixel data\n",
        "    plt.imshow(x_train[i], cmap=plt.get_cmap('gray'))\n",
        "    #show the figure\n",
        "plt.show()"
      ],
      "metadata": {
        "id": "QcTxQbn78peM",
        "colab": {
          "base_uri": "https://localhost:8080/",
          "height": 444
        },
        "outputId": "70c45cd2-1e5a-4d9b-b84c-b476fb8ec890"
      },
      "execution_count": null,
      "outputs": [
        {
          "output_type": "stream",
          "name": "stdout",
          "text": [
            "Train: X=(8500, 32, 32, 3), y=(8500, 1)\n",
            "Validation: X=(1500, 32, 32, 3), y=(1500, 1)\n",
            "Test: X=(2000, 32, 32, 3), y=(2000, 1)\n"
          ]
        },
        {
          "output_type": "display_data",
          "data": {
            "text/plain": [
              "<Figure size 432x432 with 9 Axes>"
            ],
            "image/png": "[encoded data removed]"
          },
          "metadata": {
            "needs_background": "light"
          }
        }
      ]
    },
    {
      "cell_type": "code",
      "source": [
        "# Map Image Labels to [0, classes_num-1] = [0, 19]\n",
        "def create_dictionary(label_ds):\n",
        "    dictionary = {}\n",
        "    i = 0\n",
        "    for label in label_ds:\n",
        "        if label not in dictionary.keys():\n",
        "          dictionary[label] = i\n",
        "          i+=1\n",
        "    return dictionary\n",
        "\n",
        "def mapping(label_ds,dictionary): \n",
        "    return [dictionary[x] for x in label_ds]"
      ],
      "metadata": {
        "id": "qipJzLji8_Ix"
      },
      "execution_count": null,
      "outputs": []
    },
    {
      "cell_type": "code",
      "source": [
        "# Create Label Dict\n",
        "label_dict = create_dictionary(y_train.reshape(1,-1)[0])\n",
        "# Apply mapping\n",
        "y_train = mapping(y_train.reshape(1,-1)[0], label_dict)\n",
        "y_test = mapping(y_test.reshape(1,-1)[0], label_dict)\n",
        "y_val = mapping(y_val.reshape(1,-1)[0], label_dict)\n",
        "\n",
        "y_train = np.array([[i] for i in y_train])\n",
        "y_test = np.array([[i] for i in y_test])\n",
        "y_val = np.array([[i] for i in y_val])"
      ],
      "metadata": {
        "id": "BaEddsdu9Cs8"
      },
      "execution_count": null,
      "outputs": []
    },
    {
      "cell_type": "markdown",
      "source": [
        "### Διαχείριση μνήμης (TFRecord)\n",
        "Η φόρτωση δεδομένων με τον τρόπο που το κάναμε παραπάνω στο απλό παράδειγμα υλοποίησης είναι πολύ βολική αλλά δεν είναι αποτελεσματική ως προς τη διαχείριση της μνήμης. Συγκεκριμένα, με τον τρόπο αυτό, τα δεδομένα αποθηκεύονται απευθείας σε μεταβλητές, οι οποίες όλες μαζί καταλαμβάνουν τη RAM της CPU ή της GPU, κάτι που κάνει αδύνατη τη διαχείριση μεγάλων datasets ή τον μεταχηματισμό των δεδομένων όπως όταν κάνουμε αύξηση δεδομένων (data augmentation).\n",
        "\n",
        "Για να παρακαμφθεί αυτό το πρόβλημα, υπάρχει η δυνατότητα της σειριοποίησης των δεδομένων (serialization) και της αποθήκευσής τους σε αρχεία μεσαίου μεγέθους (κάποιων MB) τα οποία μπορούν να αναγνωστούν γραμμικά.\n",
        "\n",
        "Το φορμάτ TFRecord είναι ένα φορμάτ που επιτρέπει την αποθήκευση σειράς δυαδικών εγγραφών. Διαβάστε σχετικά για το [TFRecord and tf.Example](https://www.tensorflow.org/tutorials/load_data/tfrecord) και [tf.data: Build TensorFlow input pipelines](https://www.tensorflow.org/guide/data). \n",
        "\n",
        "Σημειώστε ότι με τη μέθοδο αυτή θα πρέπει να γίνει import η `tensorflow_datasets` και να χρησιμοποιήσουμε την `tfds.load` ώστε να αποθηκευθεί το σύνολο δεδομένων σε αρχεία tfrecord στο δίσκο (δείτε [εδώ](https://colab.research.google.com/github/tensorflow/datasets/blob/master/docs/overview.ipynb) ένα παράδειγμα). Φυσικά μπορούμε να μετατρέψουμε και τα πρωτογενή δεδομένα (raw data) του dataset όπως αρχεία jpg σε φορματ tfrecord όπως [εδώ](https://towardsdatascience.com/working-with-tfrecords-and-tf-train-example-36d111b3ff4d).\n"
      ],
      "metadata": {
        "id": "bDAO09Sj9PmP"
      }
    },
    {
      "cell_type": "code",
      "source": [
        "(ds_train, ds_test), ds_info = tfds.load('cifar100', split=['train', 'test'], shuffle_files=True, as_supervised=True, with_info=True)\n",
        "assert isinstance(ds_train, tf.data.Dataset)\n",
        "assert isinstance(ds_test, tf.data.Dataset)"
      ],
      "metadata": {
        "id": "mIPPspTt-ia5",
        "colab": {
          "base_uri": "https://localhost:8080/",
          "height": 304,
          "referenced_widgets": [
            "7fc5f04e855d42a9baeb06cdd0540cdb",
            "0a682cbafdbd484db87bfd2b59013174",
            "418c3e2eb9a84bb5a0e3f6625bdaf4bc",
            "9ac6ba4e301f4086a458edc56d57579e",
            "5c742af89a2944d284753638f87b6896",
            "0b2e643ad4b441f89569947dbe065a05",
            "c1efd13eec7a493cb8043f564a756489",
            "01b3e8105b4e49fd8b4c2992856ce8c6",
            "a497347da62742649b9c5bd325aea5d8",
            "a38eaeab53df4a47ae6c909fbbef78b9",
            "053b72c9a6694a5bb494493d1812241a",
            "74a88dcf50aa44e3bba4f91ad41352ff",
            "11fa9ffa262849aea8b541bd955b103c",
            "255e53e885394c83807908a4679d1a4e",
            "e661fc30b55d4d38ad220afed9f9913f",
            "c4254032c0fd40d39f6fee4a03715963",
            "08d15aefcd494d1f9992817081cd8d4c",
            "7eef1ede47db4302b9cef5ad9d275fba",
            "b9a2a5963fca40b5a289b217bca195d0",
            "4fdc126f4b59444dabcaeaa5205e8042",
            "76798237a6274dd68563c4317b89e56c",
            "d158d9791b2f49fbb96888539c092161",
            "812b61ae746e4b958d74223d8113a768",
            "0112c0aab5c649a2b3dbe816cfbcfd9e",
            "3a4e7a88663a415d8e6072faad58326d",
            "88f9eedae0a44872952790e9616a625e",
            "bc6100e2b38b41e5abd61014f4361859",
            "56065eaec924499783885e1ebcbd3a99",
            "ff9b36bd480844879d8d66302215e5d1",
            "762415f01c114edaaa94f3f497cf07f4",
            "f542da29453644fb8d3181549d6b1d7f",
            "2eb2798c7bc34ae889925e5996f8e892",
            "e5a66eca95bf483fa16ad1d983ce33c7",
            "31ed0423b5ab48b999f743b93ca94895",
            "7daea745dd7e4d1589d0c67149150451",
            "b3bd789ae72543f29f3464bdb7cd9ff0",
            "5236b111ba2e4d91bd03fac9153325cc",
            "092e4e4326b948bdac86d199f26fa532",
            "8b85dfca83cf47248b4b4153b49534d9",
            "55a4046d0eeb489c944af4ec756eaea4",
            "5140744299e04ea4b89a46ed903a0f73",
            "f23e91b7eb304770b6bf6073a7c0fca8",
            "7670ff6fc5e441539fda1feef52f4694",
            "f517f9b8402e41649ae2ebbc6a87d9ad",
            "14e76e989c4142aca6d28f8566b4558a",
            "893a7c032f654b65916b20c06ce25544",
            "a7554d8229f14c56bd2de5579547cd91",
            "549bfa7b547e46d2b46930eae049886e",
            "8895f0b031fe4ef19a6852d4c256b87c",
            "5a2558d7c7f643ebb5fa2cdac3f5e85d",
            "7040f13929ab487e884dfbeb77a08ca1",
            "3905b705dafd40cca26b851ea0670d1e",
            "d6301bbcae674d2b8767b17738bc75d7",
            "9212454c69824dbea7a178bd888164e2",
            "6aea97b1c83c4b0f9cfae999208b6927",
            "9e4ae9c6b72647cfa01d993faf221043",
            "34357bf5a2c4445b8364e0c1d9df815e",
            "9e6699c462934594b489c8c90b5bbedf",
            "e7f06d9079dc423cac2f278552ddb04a",
            "3fd7fbb3fec8417bb596b503904fff99",
            "5511f80fb0f146dda807e015eea63baf",
            "8eec35f95dcc4b2584226b74c97b9995",
            "4e94604261304a2c9d2e31dd20698ac4",
            "1dc72e241be747b2abc71350597fc44b",
            "71d86233d83a4df3a70222ba8d1341d4",
            "e33edcc639634528bd9ff7fe6d13641a",
            "157f1eba4c844e69b14b19225025a1d7",
            "9b05a14f15d141c180b94cf7bea60b14",
            "af945bfe223a41b78f520ed14afc39ae",
            "733954b1b06f48ddb81ff0b041276ff1",
            "e3e76b35079c45149b6f430a988358ba",
            "130e23266c64472d8d9612e63e5848bd",
            "89548ecefaa8477bb05184d0ae22ff7e",
            "97bb83fe23714572b6264bfe4f0c979d",
            "1059d0bcb75f47f2a4abe002497b6098",
            "3422c2096d37445c8d524afe4df8cb6c",
            "c5d3e73d7119461c904031c2a1c3182a"
          ]
        },
        "outputId": "69fffaeb-0f62-4837-89d2-0f59a8756a12"
      },
      "execution_count": null,
      "outputs": [
        {
          "output_type": "stream",
          "name": "stdout",
          "text": [
            "\u001b[1mDownloading and preparing dataset cifar100/3.0.2 (download: 160.71 MiB, generated: 132.03 MiB, total: 292.74 MiB) to /root/tensorflow_datasets/cifar100/3.0.2...\u001b[0m\n"
          ]
        },
        {
          "output_type": "display_data",
          "data": {
            "text/plain": [
              "Dl Completed...: 0 url [00:00, ? url/s]"
            ],
            "application/vnd.jupyter.widget-view+json": {
              "version_major": 2,
              "version_minor": 0,
              "model_id": "7fc5f04e855d42a9baeb06cdd0540cdb"
            }
          },
          "metadata": {}
        },
        {
          "output_type": "display_data",
          "data": {
            "text/plain": [
              "Dl Size...: 0 MiB [00:00, ? MiB/s]"
            ],
            "application/vnd.jupyter.widget-view+json": {
              "version_major": 2,
              "version_minor": 0,
              "model_id": "74a88dcf50aa44e3bba4f91ad41352ff"
            }
          },
          "metadata": {}
        },
        {
          "output_type": "display_data",
          "data": {
            "text/plain": [
              "Extraction completed...: 0 file [00:00, ? file/s]"
            ],
            "application/vnd.jupyter.widget-view+json": {
              "version_major": 2,
              "version_minor": 0,
              "model_id": "812b61ae746e4b958d74223d8113a768"
            }
          },
          "metadata": {}
        },
        {
          "output_type": "stream",
          "name": "stdout",
          "text": [
            "\n",
            "\n",
            "\n"
          ]
        },
        {
          "output_type": "display_data",
          "data": {
            "text/plain": [
              "0 examples [00:00, ? examples/s]"
            ],
            "application/vnd.jupyter.widget-view+json": {
              "version_major": 2,
              "version_minor": 0,
              "model_id": "31ed0423b5ab48b999f743b93ca94895"
            }
          },
          "metadata": {}
        },
        {
          "output_type": "stream",
          "name": "stdout",
          "text": [
            "Shuffling and writing examples to /root/tensorflow_datasets/cifar100/3.0.2.incomplete3198WI/cifar100-train.tfrecord\n"
          ]
        },
        {
          "output_type": "display_data",
          "data": {
            "text/plain": [
              "  0%|          | 0/50000 [00:00<?, ? examples/s]"
            ],
            "application/vnd.jupyter.widget-view+json": {
              "version_major": 2,
              "version_minor": 0,
              "model_id": "14e76e989c4142aca6d28f8566b4558a"
            }
          },
          "metadata": {}
        },
        {
          "output_type": "display_data",
          "data": {
            "text/plain": [
              "0 examples [00:00, ? examples/s]"
            ],
            "application/vnd.jupyter.widget-view+json": {
              "version_major": 2,
              "version_minor": 0,
              "model_id": "9e4ae9c6b72647cfa01d993faf221043"
            }
          },
          "metadata": {}
        },
        {
          "output_type": "stream",
          "name": "stdout",
          "text": [
            "Shuffling and writing examples to /root/tensorflow_datasets/cifar100/3.0.2.incomplete3198WI/cifar100-test.tfrecord\n"
          ]
        },
        {
          "output_type": "display_data",
          "data": {
            "text/plain": [
              "  0%|          | 0/10000 [00:00<?, ? examples/s]"
            ],
            "application/vnd.jupyter.widget-view+json": {
              "version_major": 2,
              "version_minor": 0,
              "model_id": "157f1eba4c844e69b14b19225025a1d7"
            }
          },
          "metadata": {}
        },
        {
          "output_type": "stream",
          "name": "stdout",
          "text": [
            "\u001b[1mDataset cifar100 downloaded and prepared to /root/tensorflow_datasets/cifar100/3.0.2. Subsequent calls will reuse this data.\u001b[0m\n"
          ]
        }
      ]
    },
    {
      "cell_type": "markdown",
      "source": [
        "### **Ερώτημα 1**"
      ],
      "metadata": {
        "id": "VHYppSO5-reu"
      }
    },
    {
      "cell_type": "markdown",
      "source": [
        "#### **Βήμα 1: Σχεδίαση, μεταγλώττιση και εκπαίδευση των μοντέλων**\n",
        "\n",
        " 1. Σχεδίαστε, μεταγλωττίστε και εκπαιδεύστε τα μοντέλα  **LeNet, AlexNet και  VGG**, καθώς και ένα δικό σας μοντέλο (ονομάστε το π.χ. **MyCNN**) χρησιμοποιώντας διαφορετικούς συνδυασμούς (τουλάχιστον 2 ανά μοντέλο) για [optimizer](https://keras.io/api/optimizers/), [loss](https://keras.io/api/losses/), batch size και epoch.  Για [metrics](https://keras.io/api/metrics/) να χρησιμοποιήσετε την ορθότητα (όπως στο Lab8.1)."
      ],
      "metadata": {
        "id": "_-qnJPWgBCSu"
      }
    },
    {
      "cell_type": "markdown",
      "source": [
        "#### **LeNet Model**\n",
        "\n",
        "Σημειώνεται ότι ως συνάρτηση ενεργοποίησης επιλέχθηκε η ReLU και όχι η Sigmoid, με την οποία ορίστηκε το Lenet στο Θεωρητικό Μέρος, καθώς η πρώτη αποδίδει πολύ καλύτερα σε τεχνικές gradient descent (SGD optimizer)."
      ],
      "metadata": {
        "id": "EAUNKlBzB1Pn"
      }
    },
    {
      "cell_type": "code",
      "source": [
        "def LeNet_model(combination = 1):\n",
        "  \n",
        "    if combination == 1:\n",
        "        optimizer = 'adam'\n",
        "        loss = tf.keras.losses.sparse_categorical_crossentropy\n",
        "    else:\n",
        "        optimizer = 'sgd'\n",
        "        loss = tf.keras.losses.sparse_categorical_crossentropy\n",
        "\n",
        "    model = models.Sequential()\n",
        "    model.add(layers.Conv2D(32, (3, 3), activation='sigmoid', input_shape=(32, 32, 3)))\n",
        "    model.add(layers.AveragePooling2D((2, 2)))\n",
        "    model.add(layers.Conv2D(32, (3, 3), activation='sigmoid'))\n",
        "    model.add(layers.AveragePooling2D((2, 2)))\n",
        "    model.add(layers.Flatten())\n",
        "    model.add(layers.Dense(120, activation='sigmoid'))\n",
        "    model.add(layers.Dense(84, activation='sigmoid'))\n",
        "    model.add(layers.Dense(classes_num, activation='softmax'))\n",
        "    \n",
        "    model.compile(optimizer=optimizer, loss=loss, metrics=[\"accuracy\"])\n",
        "    \n",
        "    model.summary()\n",
        "\n",
        "    return model"
      ],
      "metadata": {
        "id": "j8BmBqox-sNd"
      },
      "execution_count": null,
      "outputs": []
    },
    {
      "cell_type": "markdown",
      "source": [
        "1st Combination of LeNet Model - Adam Optimizer, Cross Entropy Loss\n"
      ],
      "metadata": {
        "id": "TTmmQ0cQCGWR"
      }
    },
    {
      "cell_type": "code",
      "source": [
        "LeNet1 = LeNet_model(combination=1)"
      ],
      "metadata": {
        "id": "Ln5jgCr3CES-",
        "colab": {
          "base_uri": "https://localhost:8080/"
        },
        "outputId": "c9aca5aa-d05d-4c70-a867-d2b68794b70b"
      },
      "execution_count": null,
      "outputs": [
        {
          "output_type": "stream",
          "name": "stdout",
          "text": [
            "Model: \"sequential\"\n",
            "_________________________________________________________________\n",
            " Layer (type)                Output Shape              Param #   \n",
            "=================================================================\n",
            " conv2d (Conv2D)             (None, 30, 30, 32)        896       \n",
            "                                                                 \n",
            " average_pooling2d (AverageP  (None, 15, 15, 32)       0         \n",
            " ooling2D)                                                       \n",
            "                                                                 \n",
            " conv2d_1 (Conv2D)           (None, 13, 13, 32)        9248      \n",
            "                                                                 \n",
            " average_pooling2d_1 (Averag  (None, 6, 6, 32)         0         \n",
            " ePooling2D)                                                     \n",
            "                                                                 \n",
            " flatten (Flatten)           (None, 1152)              0         \n",
            "                                                                 \n",
            " dense (Dense)               (None, 120)               138360    \n",
            "                                                                 \n",
            " dense_1 (Dense)             (None, 84)                10164     \n",
            "                                                                 \n",
            " dense_2 (Dense)             (None, 20)                1700      \n",
            "                                                                 \n",
            "=================================================================\n",
            "Total params: 160,368\n",
            "Trainable params: 160,368\n",
            "Non-trainable params: 0\n",
            "_________________________________________________________________\n"
          ]
        }
      ]
    },
    {
      "cell_type": "code",
      "source": [
        "model_history1 = LeNet1.fit(x_train, y_train, epochs=30, batch_size=64, validation_data=(x_val, y_val))\n",
        "LeNet1.save('lenet1.h5')"
      ],
      "metadata": {
        "id": "tUvljMc6CJq7",
        "colab": {
          "base_uri": "https://localhost:8080/"
        },
        "outputId": "05537e6b-6ee3-42d3-db9b-b9172e02760d"
      },
      "execution_count": null,
      "outputs": [
        {
          "output_type": "stream",
          "name": "stdout",
          "text": [
            "Epoch 1/30\n",
            "133/133 [==============================] - 12s 7ms/step - loss: 3.0098 - accuracy: 0.0471 - val_loss: 3.0060 - val_accuracy: 0.0513\n",
            "Epoch 2/30\n",
            "133/133 [==============================] - 1s 5ms/step - loss: 3.0041 - accuracy: 0.0480 - val_loss: 3.0034 - val_accuracy: 0.0427\n",
            "Epoch 3/30\n",
            "133/133 [==============================] - 1s 5ms/step - loss: 3.0045 - accuracy: 0.0481 - val_loss: 3.0097 - val_accuracy: 0.0553\n",
            "Epoch 4/30\n",
            "133/133 [==============================] - 1s 5ms/step - loss: 3.0042 - accuracy: 0.0498 - val_loss: 3.0041 - val_accuracy: 0.0520\n",
            "Epoch 5/30\n",
            "133/133 [==============================] - 1s 5ms/step - loss: 3.0034 - accuracy: 0.0474 - val_loss: 3.0042 - val_accuracy: 0.0387\n",
            "Epoch 6/30\n",
            "133/133 [==============================] - 1s 5ms/step - loss: 3.0021 - accuracy: 0.0512 - val_loss: 2.9999 - val_accuracy: 0.0547\n",
            "Epoch 7/30\n",
            "133/133 [==============================] - 1s 5ms/step - loss: 2.9975 - accuracy: 0.0522 - val_loss: 2.9558 - val_accuracy: 0.0753\n",
            "Epoch 8/30\n",
            "133/133 [==============================] - 1s 5ms/step - loss: 2.7722 - accuracy: 0.1387 - val_loss: 2.6498 - val_accuracy: 0.1853\n",
            "Epoch 9/30\n",
            "133/133 [==============================] - 1s 5ms/step - loss: 2.5852 - accuracy: 0.2005 - val_loss: 2.5484 - val_accuracy: 0.2240\n",
            "Epoch 10/30\n",
            "133/133 [==============================] - 1s 5ms/step - loss: 2.4937 - accuracy: 0.2339 - val_loss: 2.4918 - val_accuracy: 0.2353\n",
            "Epoch 11/30\n",
            "133/133 [==============================] - 1s 5ms/step - loss: 2.4298 - accuracy: 0.2533 - val_loss: 2.4083 - val_accuracy: 0.2807\n",
            "Epoch 12/30\n",
            "133/133 [==============================] - 1s 5ms/step - loss: 2.3596 - accuracy: 0.2793 - val_loss: 2.3835 - val_accuracy: 0.2713\n",
            "Epoch 13/30\n",
            "133/133 [==============================] - 1s 5ms/step - loss: 2.3193 - accuracy: 0.2889 - val_loss: 2.3312 - val_accuracy: 0.2840\n",
            "Epoch 14/30\n",
            "133/133 [==============================] - 1s 5ms/step - loss: 2.2700 - accuracy: 0.3082 - val_loss: 2.3066 - val_accuracy: 0.3073\n",
            "Epoch 15/30\n",
            "133/133 [==============================] - 1s 5ms/step - loss: 2.2361 - accuracy: 0.3120 - val_loss: 2.2778 - val_accuracy: 0.3007\n",
            "Epoch 16/30\n",
            "133/133 [==============================] - 1s 5ms/step - loss: 2.2014 - accuracy: 0.3231 - val_loss: 2.2515 - val_accuracy: 0.3240\n",
            "Epoch 17/30\n",
            "133/133 [==============================] - 1s 5ms/step - loss: 2.1691 - accuracy: 0.3291 - val_loss: 2.2235 - val_accuracy: 0.3253\n",
            "Epoch 18/30\n",
            "133/133 [==============================] - 1s 5ms/step - loss: 2.1329 - accuracy: 0.3413 - val_loss: 2.2125 - val_accuracy: 0.3300\n",
            "Epoch 19/30\n",
            "133/133 [==============================] - 1s 5ms/step - loss: 2.1024 - accuracy: 0.3521 - val_loss: 2.2038 - val_accuracy: 0.3360\n",
            "Epoch 20/30\n",
            "133/133 [==============================] - 1s 5ms/step - loss: 2.0715 - accuracy: 0.3611 - val_loss: 2.1918 - val_accuracy: 0.3453\n",
            "Epoch 21/30\n",
            "133/133 [==============================] - 1s 5ms/step - loss: 2.0427 - accuracy: 0.3655 - val_loss: 2.1594 - val_accuracy: 0.3507\n",
            "Epoch 22/30\n",
            "133/133 [==============================] - 1s 5ms/step - loss: 2.0173 - accuracy: 0.3734 - val_loss: 2.1410 - val_accuracy: 0.3587\n",
            "Epoch 23/30\n",
            "133/133 [==============================] - 1s 5ms/step - loss: 1.9877 - accuracy: 0.3820 - val_loss: 2.1281 - val_accuracy: 0.3553\n",
            "Epoch 24/30\n",
            "133/133 [==============================] - 1s 5ms/step - loss: 1.9627 - accuracy: 0.3902 - val_loss: 2.1464 - val_accuracy: 0.3627\n",
            "Epoch 25/30\n",
            "133/133 [==============================] - 1s 5ms/step - loss: 1.9482 - accuracy: 0.3872 - val_loss: 2.1204 - val_accuracy: 0.3573\n",
            "Epoch 26/30\n",
            "133/133 [==============================] - 1s 5ms/step - loss: 1.9184 - accuracy: 0.4029 - val_loss: 2.1205 - val_accuracy: 0.3580\n",
            "Epoch 27/30\n",
            "133/133 [==============================] - 1s 5ms/step - loss: 1.8893 - accuracy: 0.4140 - val_loss: 2.1039 - val_accuracy: 0.3627\n",
            "Epoch 28/30\n",
            "133/133 [==============================] - 1s 5ms/step - loss: 1.8713 - accuracy: 0.4155 - val_loss: 2.0977 - val_accuracy: 0.3740\n",
            "Epoch 29/30\n",
            "133/133 [==============================] - 1s 5ms/step - loss: 1.8420 - accuracy: 0.4241 - val_loss: 2.1006 - val_accuracy: 0.3720\n",
            "Epoch 30/30\n",
            "133/133 [==============================] - 1s 5ms/step - loss: 1.8147 - accuracy: 0.4356 - val_loss: 2.0760 - val_accuracy: 0.3653\n"
          ]
        }
      ]
    },
    {
      "cell_type": "markdown",
      "source": [
        "2nd Combination of LeNet Model - Stochastic Gradient Descent Optimizer, Cross Entropy Loss"
      ],
      "metadata": {
        "id": "vQg5uP1ICMsm"
      }
    },
    {
      "cell_type": "code",
      "source": [
        "LeNet2 = LeNet_model(combination=2)"
      ],
      "metadata": {
        "id": "heDAY1cYCL0L",
        "colab": {
          "base_uri": "https://localhost:8080/"
        },
        "outputId": "c727a3bd-f6e0-4c69-fe5f-22529a1d6c8f"
      },
      "execution_count": null,
      "outputs": [
        {
          "output_type": "stream",
          "name": "stdout",
          "text": [
            "Model: \"sequential_1\"\n",
            "_________________________________________________________________\n",
            " Layer (type)                Output Shape              Param #   \n",
            "=================================================================\n",
            " conv2d_2 (Conv2D)           (None, 30, 30, 32)        896       \n",
            "                                                                 \n",
            " average_pooling2d_2 (Averag  (None, 15, 15, 32)       0         \n",
            " ePooling2D)                                                     \n",
            "                                                                 \n",
            " conv2d_3 (Conv2D)           (None, 13, 13, 32)        9248      \n",
            "                                                                 \n",
            " average_pooling2d_3 (Averag  (None, 6, 6, 32)         0         \n",
            " ePooling2D)                                                     \n",
            "                                                                 \n",
            " flatten_1 (Flatten)         (None, 1152)              0         \n",
            "                                                                 \n",
            " dense_3 (Dense)             (None, 120)               138360    \n",
            "                                                                 \n",
            " dense_4 (Dense)             (None, 84)                10164     \n",
            "                                                                 \n",
            " dense_5 (Dense)             (None, 20)                1700      \n",
            "                                                                 \n",
            "=================================================================\n",
            "Total params: 160,368\n",
            "Trainable params: 160,368\n",
            "Non-trainable params: 0\n",
            "_________________________________________________________________\n"
          ]
        }
      ]
    },
    {
      "cell_type": "code",
      "source": [
        "model_history2 = LeNet2.fit(x_train, y_train, epochs=50, batch_size=256, validation_data=(x_val, y_val))\n",
        "LeNet2.save('lenet2.h5')"
      ],
      "metadata": {
        "id": "lRy4NfyKCQfJ",
        "colab": {
          "base_uri": "https://localhost:8080/"
        },
        "outputId": "544e1084-b9a9-40b9-d45b-60e1a2508887"
      },
      "execution_count": null,
      "outputs": [
        {
          "output_type": "stream",
          "name": "stdout",
          "text": [
            "Epoch 1/50\n",
            "34/34 [==============================] - 1s 17ms/step - loss: 3.1312 - accuracy: 0.0508 - val_loss: 3.0588 - val_accuracy: 0.0453\n",
            "Epoch 2/50\n",
            "34/34 [==============================] - 0s 8ms/step - loss: 3.0566 - accuracy: 0.0508 - val_loss: 3.0196 - val_accuracy: 0.0453\n",
            "Epoch 3/50\n",
            "34/34 [==============================] - 0s 8ms/step - loss: 3.0237 - accuracy: 0.0508 - val_loss: 3.0038 - val_accuracy: 0.0453\n",
            "Epoch 4/50\n",
            "34/34 [==============================] - 0s 8ms/step - loss: 3.0084 - accuracy: 0.0508 - val_loss: 2.9979 - val_accuracy: 0.0453\n",
            "Epoch 5/50\n",
            "34/34 [==============================] - 0s 8ms/step - loss: 3.0012 - accuracy: 0.0475 - val_loss: 2.9961 - val_accuracy: 0.0453\n",
            "Epoch 6/50\n",
            "34/34 [==============================] - 0s 8ms/step - loss: 2.9980 - accuracy: 0.0518 - val_loss: 2.9962 - val_accuracy: 0.0407\n",
            "Epoch 7/50\n",
            "34/34 [==============================] - 0s 8ms/step - loss: 2.9968 - accuracy: 0.0514 - val_loss: 2.9967 - val_accuracy: 0.0407\n",
            "Epoch 8/50\n",
            "34/34 [==============================] - 0s 8ms/step - loss: 2.9962 - accuracy: 0.0516 - val_loss: 2.9975 - val_accuracy: 0.0407\n",
            "Epoch 9/50\n",
            "34/34 [==============================] - 0s 8ms/step - loss: 2.9961 - accuracy: 0.0499 - val_loss: 2.9977 - val_accuracy: 0.0407\n",
            "Epoch 10/50\n",
            "34/34 [==============================] - 0s 9ms/step - loss: 2.9960 - accuracy: 0.0505 - val_loss: 2.9984 - val_accuracy: 0.0407\n",
            "Epoch 11/50\n",
            "34/34 [==============================] - 0s 9ms/step - loss: 2.9959 - accuracy: 0.0518 - val_loss: 2.9983 - val_accuracy: 0.0447\n",
            "Epoch 12/50\n",
            "34/34 [==============================] - 0s 8ms/step - loss: 2.9960 - accuracy: 0.0485 - val_loss: 2.9985 - val_accuracy: 0.0460\n",
            "Epoch 13/50\n",
            "34/34 [==============================] - 0s 9ms/step - loss: 2.9959 - accuracy: 0.0499 - val_loss: 2.9986 - val_accuracy: 0.0427\n",
            "Epoch 14/50\n",
            "34/34 [==============================] - 0s 8ms/step - loss: 2.9959 - accuracy: 0.0478 - val_loss: 2.9984 - val_accuracy: 0.0427\n",
            "Epoch 15/50\n",
            "34/34 [==============================] - 0s 8ms/step - loss: 2.9959 - accuracy: 0.0494 - val_loss: 2.9987 - val_accuracy: 0.0387\n",
            "Epoch 16/50\n",
            "34/34 [==============================] - 0s 8ms/step - loss: 2.9959 - accuracy: 0.0504 - val_loss: 2.9988 - val_accuracy: 0.0387\n",
            "Epoch 17/50\n",
            "34/34 [==============================] - 0s 8ms/step - loss: 2.9960 - accuracy: 0.0505 - val_loss: 2.9987 - val_accuracy: 0.0387\n",
            "Epoch 18/50\n",
            "34/34 [==============================] - 0s 8ms/step - loss: 2.9959 - accuracy: 0.0479 - val_loss: 2.9984 - val_accuracy: 0.0387\n",
            "Epoch 19/50\n",
            "34/34 [==============================] - 0s 9ms/step - loss: 2.9959 - accuracy: 0.0481 - val_loss: 2.9985 - val_accuracy: 0.0453\n",
            "Epoch 20/50\n",
            "34/34 [==============================] - 0s 9ms/step - loss: 2.9959 - accuracy: 0.0491 - val_loss: 2.9985 - val_accuracy: 0.0387\n",
            "Epoch 21/50\n",
            "34/34 [==============================] - 0s 8ms/step - loss: 2.9959 - accuracy: 0.0511 - val_loss: 2.9988 - val_accuracy: 0.0387\n",
            "Epoch 22/50\n",
            "34/34 [==============================] - 0s 9ms/step - loss: 2.9959 - accuracy: 0.0507 - val_loss: 2.9987 - val_accuracy: 0.0387\n",
            "Epoch 23/50\n",
            "34/34 [==============================] - 0s 8ms/step - loss: 2.9959 - accuracy: 0.0506 - val_loss: 2.9988 - val_accuracy: 0.0387\n",
            "Epoch 24/50\n",
            "34/34 [==============================] - 0s 8ms/step - loss: 2.9959 - accuracy: 0.0499 - val_loss: 2.9988 - val_accuracy: 0.0427\n",
            "Epoch 25/50\n",
            "34/34 [==============================] - 0s 9ms/step - loss: 2.9959 - accuracy: 0.0502 - val_loss: 2.9987 - val_accuracy: 0.0427\n",
            "Epoch 26/50\n",
            "34/34 [==============================] - 0s 8ms/step - loss: 2.9959 - accuracy: 0.0479 - val_loss: 2.9991 - val_accuracy: 0.0427\n",
            "Epoch 27/50\n",
            "34/34 [==============================] - 0s 8ms/step - loss: 2.9959 - accuracy: 0.0480 - val_loss: 2.9989 - val_accuracy: 0.0387\n",
            "Epoch 28/50\n",
            "34/34 [==============================] - 0s 8ms/step - loss: 2.9959 - accuracy: 0.0495 - val_loss: 2.9991 - val_accuracy: 0.0407\n",
            "Epoch 29/50\n",
            "34/34 [==============================] - 0s 8ms/step - loss: 2.9959 - accuracy: 0.0516 - val_loss: 2.9992 - val_accuracy: 0.0387\n",
            "Epoch 30/50\n",
            "34/34 [==============================] - 0s 9ms/step - loss: 2.9959 - accuracy: 0.0502 - val_loss: 2.9986 - val_accuracy: 0.0407\n",
            "Epoch 31/50\n",
            "34/34 [==============================] - 0s 8ms/step - loss: 2.9960 - accuracy: 0.0516 - val_loss: 2.9988 - val_accuracy: 0.0413\n",
            "Epoch 32/50\n",
            "34/34 [==============================] - 0s 8ms/step - loss: 2.9959 - accuracy: 0.0496 - val_loss: 2.9991 - val_accuracy: 0.0387\n",
            "Epoch 33/50\n",
            "34/34 [==============================] - 0s 9ms/step - loss: 2.9959 - accuracy: 0.0493 - val_loss: 2.9988 - val_accuracy: 0.0427\n",
            "Epoch 34/50\n",
            "34/34 [==============================] - 0s 9ms/step - loss: 2.9960 - accuracy: 0.0502 - val_loss: 2.9988 - val_accuracy: 0.0387\n",
            "Epoch 35/50\n",
            "34/34 [==============================] - 0s 8ms/step - loss: 2.9959 - accuracy: 0.0507 - val_loss: 2.9986 - val_accuracy: 0.0407\n",
            "Epoch 36/50\n",
            "34/34 [==============================] - 0s 9ms/step - loss: 2.9959 - accuracy: 0.0476 - val_loss: 2.9988 - val_accuracy: 0.0407\n",
            "Epoch 37/50\n",
            "34/34 [==============================] - 0s 8ms/step - loss: 2.9959 - accuracy: 0.0514 - val_loss: 2.9987 - val_accuracy: 0.0447\n",
            "Epoch 38/50\n",
            "34/34 [==============================] - 0s 9ms/step - loss: 2.9960 - accuracy: 0.0453 - val_loss: 2.9991 - val_accuracy: 0.0427\n",
            "Epoch 39/50\n",
            "34/34 [==============================] - 0s 10ms/step - loss: 2.9959 - accuracy: 0.0515 - val_loss: 2.9991 - val_accuracy: 0.0387\n",
            "Epoch 40/50\n",
            "34/34 [==============================] - 0s 8ms/step - loss: 2.9959 - accuracy: 0.0468 - val_loss: 2.9988 - val_accuracy: 0.0387\n",
            "Epoch 41/50\n",
            "34/34 [==============================] - 0s 8ms/step - loss: 2.9959 - accuracy: 0.0509 - val_loss: 2.9989 - val_accuracy: 0.0387\n",
            "Epoch 42/50\n",
            "34/34 [==============================] - 0s 8ms/step - loss: 2.9959 - accuracy: 0.0492 - val_loss: 2.9984 - val_accuracy: 0.0387\n",
            "Epoch 43/50\n",
            "34/34 [==============================] - 0s 8ms/step - loss: 2.9959 - accuracy: 0.0499 - val_loss: 2.9988 - val_accuracy: 0.0487\n",
            "Epoch 44/50\n",
            "34/34 [==============================] - 0s 8ms/step - loss: 2.9959 - accuracy: 0.0499 - val_loss: 2.9989 - val_accuracy: 0.0387\n",
            "Epoch 45/50\n",
            "34/34 [==============================] - 0s 8ms/step - loss: 2.9959 - accuracy: 0.0504 - val_loss: 2.9987 - val_accuracy: 0.0387\n",
            "Epoch 46/50\n",
            "34/34 [==============================] - 0s 8ms/step - loss: 2.9959 - accuracy: 0.0452 - val_loss: 2.9988 - val_accuracy: 0.0407\n",
            "Epoch 47/50\n",
            "34/34 [==============================] - 0s 8ms/step - loss: 2.9959 - accuracy: 0.0471 - val_loss: 2.9991 - val_accuracy: 0.0387\n",
            "Epoch 48/50\n",
            "34/34 [==============================] - 0s 10ms/step - loss: 2.9959 - accuracy: 0.0515 - val_loss: 2.9992 - val_accuracy: 0.0407\n",
            "Epoch 49/50\n",
            "34/34 [==============================] - 0s 8ms/step - loss: 2.9959 - accuracy: 0.0515 - val_loss: 2.9987 - val_accuracy: 0.0407\n",
            "Epoch 50/50\n",
            "34/34 [==============================] - 0s 8ms/step - loss: 2.9959 - accuracy: 0.0491 - val_loss: 2.9989 - val_accuracy: 0.0427\n"
          ]
        }
      ]
    },
    {
      "cell_type": "markdown",
      "source": [
        "#### **AlexNet Model**"
      ],
      "metadata": {
        "id": "xKYyHMxyClrq"
      }
    },
    {
      "cell_type": "code",
      "source": [
        "def AlexNet_model(combination = 1):\n",
        "  \n",
        "    if combination == 1:\n",
        "        optimizer = 'adam'\n",
        "        loss = tf.keras.losses.sparse_categorical_crossentropy\n",
        "    else:\n",
        "        optimizer = 'sgd'\n",
        "        loss = tf.keras.losses.sparse_categorical_crossentropy\n",
        "  \n",
        "    model = models.Sequential()\n",
        "    model.add(layers.experimental.preprocessing.Resizing(224, 224, interpolation=\"bilinear\", input_shape=x_train.shape[1:]))\n",
        "    model.add(layers.Conv2D(96, 11, strides=4, padding='same'))\n",
        "    model.add(tf.keras.layers.BatchNormalization(momentum=0.8))\n",
        "    model.add(layers.Lambda(tf.nn.local_response_normalization))\n",
        "    model.add(layers.Activation('relu'))\n",
        "    model.add(layers.MaxPooling2D(3, strides=2))\n",
        "    model.add(layers.Conv2D(256, 5, strides=4, padding='same'))\n",
        "    model.add(tf.keras.layers.BatchNormalization(momentum=0.8))\n",
        "    model.add(layers.Lambda(tf.nn.local_response_normalization))\n",
        "    model.add(layers.Activation('relu'))\n",
        "    model.add(layers.MaxPooling2D(3, strides=2))\n",
        "    model.add(layers.Conv2D(384, 3, strides=4, padding='same'))\n",
        "    model.add(tf.keras.layers.BatchNormalization(momentum=0.8))\n",
        "    model.add(layers.Activation('relu'))\n",
        "    model.add(layers.Conv2D(384, 3, strides=4, padding='same'))\n",
        "    model.add(tf.keras.layers.BatchNormalization(momentum=0.8))\n",
        "    model.add(layers.Activation('relu'))\n",
        "    model.add(layers.Conv2D(256, 3, strides=4, padding='same'))\n",
        "    model.add(tf.keras.layers.BatchNormalization(momentum=0.8))\n",
        "    model.add(layers.Activation('relu'))\n",
        "    model.add(layers.Flatten())\n",
        "    model.add(layers.Dense(4096, activation='relu'))\n",
        "    model.add(layers.Dropout(0.5))\n",
        "    model.add(layers.Dense(4096, activation='relu'))\n",
        "    model.add(layers.Dropout(0.5))\n",
        "    model.add(layers.Dense(classes_num, activation='softmax'))\n",
        "\n",
        "    model.compile(optimizer=optimizer, loss=loss, metrics=['accuracy'])\n",
        "\n",
        "    model.summary()\n",
        "    \n",
        "    return model"
      ],
      "metadata": {
        "id": "b90dBt_zCnHk"
      },
      "execution_count": null,
      "outputs": []
    },
    {
      "cell_type": "markdown",
      "source": [
        "1st Combination of AlexNet Model"
      ],
      "metadata": {
        "id": "ZVdDWji3Cq8H"
      }
    },
    {
      "cell_type": "code",
      "source": [
        "AlexNet1 = AlexNet_model(combination=1)"
      ],
      "metadata": {
        "id": "AVzSNmhaCqPP",
        "colab": {
          "base_uri": "https://localhost:8080/"
        },
        "outputId": "fb967707-3c11-472d-965e-619ce3f411de"
      },
      "execution_count": null,
      "outputs": [
        {
          "output_type": "stream",
          "name": "stdout",
          "text": [
            "Model: \"sequential_2\"\n",
            "_________________________________________________________________\n",
            " Layer (type)                Output Shape              Param #   \n",
            "=================================================================\n",
            " resizing (Resizing)         (None, 224, 224, 3)       0         \n",
            "                                                                 \n",
            " conv2d_4 (Conv2D)           (None, 56, 56, 96)        34944     \n",
            "                                                                 \n",
            " batch_normalization (BatchN  (None, 56, 56, 96)       384       \n",
            " ormalization)                                                   \n",
            "                                                                 \n",
            " lambda (Lambda)             (None, 56, 56, 96)        0         \n",
            "                                                                 \n",
            " activation (Activation)     (None, 56, 56, 96)        0         \n",
            "                                                                 \n",
            " max_pooling2d (MaxPooling2D  (None, 27, 27, 96)       0         \n",
            " )                                                               \n",
            "                                                                 \n",
            " conv2d_5 (Conv2D)           (None, 7, 7, 256)         614656    \n",
            "                                                                 \n",
            " batch_normalization_1 (Batc  (None, 7, 7, 256)        1024      \n",
            " hNormalization)                                                 \n",
            "                                                                 \n",
            " lambda_1 (Lambda)           (None, 7, 7, 256)         0         \n",
            "                                                                 \n",
            " activation_1 (Activation)   (None, 7, 7, 256)         0         \n",
            "                                                                 \n",
            " max_pooling2d_1 (MaxPooling  (None, 3, 3, 256)        0         \n",
            " 2D)                                                             \n",
            "                                                                 \n",
            " conv2d_6 (Conv2D)           (None, 1, 1, 384)         885120    \n",
            "                                                                 \n",
            " batch_normalization_2 (Batc  (None, 1, 1, 384)        1536      \n",
            " hNormalization)                                                 \n",
            "                                                                 \n",
            " activation_2 (Activation)   (None, 1, 1, 384)         0         \n",
            "                                                                 \n",
            " conv2d_7 (Conv2D)           (None, 1, 1, 384)         1327488   \n",
            "                                                                 \n",
            " batch_normalization_3 (Batc  (None, 1, 1, 384)        1536      \n",
            " hNormalization)                                                 \n",
            "                                                                 \n",
            " activation_3 (Activation)   (None, 1, 1, 384)         0         \n",
            "                                                                 \n",
            " conv2d_8 (Conv2D)           (None, 1, 1, 256)         884992    \n",
            "                                                                 \n",
            " batch_normalization_4 (Batc  (None, 1, 1, 256)        1024      \n",
            " hNormalization)                                                 \n",
            "                                                                 \n",
            " activation_4 (Activation)   (None, 1, 1, 256)         0         \n",
            "                                                                 \n",
            " flatten_2 (Flatten)         (None, 256)               0         \n",
            "                                                                 \n",
            " dense_6 (Dense)             (None, 4096)              1052672   \n",
            "                                                                 \n",
            " dropout (Dropout)           (None, 4096)              0         \n",
            "                                                                 \n",
            " dense_7 (Dense)             (None, 4096)              16781312  \n",
            "                                                                 \n",
            " dropout_1 (Dropout)         (None, 4096)              0         \n",
            "                                                                 \n",
            " dense_8 (Dense)             (None, 20)                81940     \n",
            "                                                                 \n",
            "=================================================================\n",
            "Total params: 21,668,628\n",
            "Trainable params: 21,665,876\n",
            "Non-trainable params: 2,752\n",
            "_________________________________________________________________\n"
          ]
        }
      ]
    },
    {
      "cell_type": "code",
      "source": [
        "model_history3 = AlexNet1.fit(x_train, y_train,  epochs=15, validation_data=(x_val, y_val))\n",
        "AlexNet1.save('alexnet1.h5')"
      ],
      "metadata": {
        "id": "0LygH26VCss3",
        "colab": {
          "base_uri": "https://localhost:8080/"
        },
        "outputId": "7fe6f385-270e-4f9d-b514-46df51204a7a"
      },
      "execution_count": null,
      "outputs": [
        {
          "output_type": "stream",
          "name": "stdout",
          "text": [
            "Epoch 1/15\n",
            "266/266 [==============================] - 20s 70ms/step - loss: 2.5106 - accuracy: 0.2394 - val_loss: 2.1834 - val_accuracy: 0.3253\n",
            "Epoch 2/15\n",
            "266/266 [==============================] - 18s 69ms/step - loss: 2.1661 - accuracy: 0.3369 - val_loss: 2.0403 - val_accuracy: 0.3527\n",
            "Epoch 3/15\n",
            "266/266 [==============================] - 18s 68ms/step - loss: 1.9226 - accuracy: 0.4066 - val_loss: 1.9097 - val_accuracy: 0.4200\n",
            "Epoch 4/15\n",
            "266/266 [==============================] - 18s 68ms/step - loss: 1.7229 - accuracy: 0.4724 - val_loss: 1.8007 - val_accuracy: 0.4380\n",
            "Epoch 5/15\n",
            "266/266 [==============================] - 18s 68ms/step - loss: 1.5506 - accuracy: 0.5178 - val_loss: 1.7915 - val_accuracy: 0.4827\n",
            "Epoch 6/15\n",
            "266/266 [==============================] - 18s 68ms/step - loss: 1.4117 - accuracy: 0.5619 - val_loss: 1.5633 - val_accuracy: 0.5313\n",
            "Epoch 7/15\n",
            "266/266 [==============================] - 18s 68ms/step - loss: 1.2891 - accuracy: 0.6008 - val_loss: 1.4644 - val_accuracy: 0.5487\n",
            "Epoch 8/15\n",
            "266/266 [==============================] - 18s 68ms/step - loss: 1.1670 - accuracy: 0.6407 - val_loss: 1.4808 - val_accuracy: 0.5440\n",
            "Epoch 9/15\n",
            "266/266 [==============================] - 18s 69ms/step - loss: 1.0346 - accuracy: 0.6773 - val_loss: 1.4023 - val_accuracy: 0.5613\n",
            "Epoch 10/15\n",
            "266/266 [==============================] - 18s 69ms/step - loss: 0.9629 - accuracy: 0.7042 - val_loss: 1.4041 - val_accuracy: 0.5793\n",
            "Epoch 11/15\n",
            "266/266 [==============================] - 18s 69ms/step - loss: 0.8553 - accuracy: 0.7369 - val_loss: 1.4422 - val_accuracy: 0.5967\n",
            "Epoch 12/15\n",
            "266/266 [==============================] - 18s 68ms/step - loss: 0.8148 - accuracy: 0.7453 - val_loss: 1.5024 - val_accuracy: 0.5747\n",
            "Epoch 13/15\n",
            "266/266 [==============================] - 18s 68ms/step - loss: 0.7020 - accuracy: 0.7816 - val_loss: 1.5012 - val_accuracy: 0.5993\n",
            "Epoch 14/15\n",
            "266/266 [==============================] - 18s 69ms/step - loss: 0.6410 - accuracy: 0.8022 - val_loss: 1.5052 - val_accuracy: 0.5867\n",
            "Epoch 15/15\n",
            "266/266 [==============================] - 18s 69ms/step - loss: 0.6208 - accuracy: 0.8147 - val_loss: 1.5316 - val_accuracy: 0.5853\n"
          ]
        }
      ]
    },
    {
      "cell_type": "markdown",
      "source": [
        "2nd Combination of AlexNet Model"
      ],
      "metadata": {
        "id": "b3GSirllCwwQ"
      }
    },
    {
      "cell_type": "code",
      "source": [
        "AlexNet2 = AlexNet_model(combination=2)"
      ],
      "metadata": {
        "id": "YBEeK7r1Cvuz",
        "colab": {
          "base_uri": "https://localhost:8080/"
        },
        "outputId": "bda8511c-71c5-40af-e64e-522a5491a01a"
      },
      "execution_count": null,
      "outputs": [
        {
          "output_type": "stream",
          "name": "stdout",
          "text": [
            "Model: \"sequential_3\"\n",
            "_________________________________________________________________\n",
            " Layer (type)                Output Shape              Param #   \n",
            "=================================================================\n",
            " resizing_1 (Resizing)       (None, 224, 224, 3)       0         \n",
            "                                                                 \n",
            " conv2d_9 (Conv2D)           (None, 56, 56, 96)        34944     \n",
            "                                                                 \n",
            " batch_normalization_5 (Batc  (None, 56, 56, 96)       384       \n",
            " hNormalization)                                                 \n",
            "                                                                 \n",
            " lambda_2 (Lambda)           (None, 56, 56, 96)        0         \n",
            "                                                                 \n",
            " activation_5 (Activation)   (None, 56, 56, 96)        0         \n",
            "                                                                 \n",
            " max_pooling2d_2 (MaxPooling  (None, 27, 27, 96)       0         \n",
            " 2D)                                                             \n",
            "                                                                 \n",
            " conv2d_10 (Conv2D)          (None, 7, 7, 256)         614656    \n",
            "                                                                 \n",
            " batch_normalization_6 (Batc  (None, 7, 7, 256)        1024      \n",
            " hNormalization)                                                 \n",
            "                                                                 \n",
            " lambda_3 (Lambda)           (None, 7, 7, 256)         0         \n",
            "                                                                 \n",
            " activation_6 (Activation)   (None, 7, 7, 256)         0         \n",
            "                                                                 \n",
            " max_pooling2d_3 (MaxPooling  (None, 3, 3, 256)        0         \n",
            " 2D)                                                             \n",
            "                                                                 \n",
            " conv2d_11 (Conv2D)          (None, 1, 1, 384)         885120    \n",
            "                                                                 \n",
            " batch_normalization_7 (Batc  (None, 1, 1, 384)        1536      \n",
            " hNormalization)                                                 \n",
            "                                                                 \n",
            " activation_7 (Activation)   (None, 1, 1, 384)         0         \n",
            "                                                                 \n",
            " conv2d_12 (Conv2D)          (None, 1, 1, 384)         1327488   \n",
            "                                                                 \n",
            " batch_normalization_8 (Batc  (None, 1, 1, 384)        1536      \n",
            " hNormalization)                                                 \n",
            "                                                                 \n",
            " activation_8 (Activation)   (None, 1, 1, 384)         0         \n",
            "                                                                 \n",
            " conv2d_13 (Conv2D)          (None, 1, 1, 256)         884992    \n",
            "                                                                 \n",
            " batch_normalization_9 (Batc  (None, 1, 1, 256)        1024      \n",
            " hNormalization)                                                 \n",
            "                                                                 \n",
            " activation_9 (Activation)   (None, 1, 1, 256)         0         \n",
            "                                                                 \n",
            " flatten_3 (Flatten)         (None, 256)               0         \n",
            "                                                                 \n",
            " dense_9 (Dense)             (None, 4096)              1052672   \n",
            "                                                                 \n",
            " dropout_2 (Dropout)         (None, 4096)              0         \n",
            "                                                                 \n",
            " dense_10 (Dense)            (None, 4096)              16781312  \n",
            "                                                                 \n",
            " dropout_3 (Dropout)         (None, 4096)              0         \n",
            "                                                                 \n",
            " dense_11 (Dense)            (None, 20)                81940     \n",
            "                                                                 \n",
            "=================================================================\n",
            "Total params: 21,668,628\n",
            "Trainable params: 21,665,876\n",
            "Non-trainable params: 2,752\n",
            "_________________________________________________________________\n"
          ]
        }
      ]
    },
    {
      "cell_type": "code",
      "source": [
        "model_history4 = AlexNet2.fit(x_train, y_train,  epochs=25, validation_data=(x_val, y_val))\n",
        "AlexNet2.save('alexnet2.h5')"
      ],
      "metadata": {
        "id": "J_bveb_yCyDF",
        "colab": {
          "base_uri": "https://localhost:8080/"
        },
        "outputId": "3bde7dc9-99fa-4843-b2be-1505b09f5b75"
      },
      "execution_count": null,
      "outputs": [
        {
          "output_type": "stream",
          "name": "stdout",
          "text": [
            "Epoch 1/25\n",
            "266/266 [==============================] - 18s 67ms/step - loss: 2.6933 - accuracy: 0.1813 - val_loss: 2.3516 - val_accuracy: 0.2813\n",
            "Epoch 2/25\n",
            "266/266 [==============================] - 17s 66ms/step - loss: 2.1891 - accuracy: 0.3198 - val_loss: 2.0136 - val_accuracy: 0.3747\n",
            "Epoch 3/25\n",
            "266/266 [==============================] - 18s 66ms/step - loss: 1.9001 - accuracy: 0.4068 - val_loss: 1.9068 - val_accuracy: 0.4113\n",
            "Epoch 4/25\n",
            "266/266 [==============================] - 17s 66ms/step - loss: 1.6607 - accuracy: 0.4796 - val_loss: 2.1394 - val_accuracy: 0.3747\n",
            "Epoch 5/25\n",
            "266/266 [==============================] - 18s 66ms/step - loss: 1.4513 - accuracy: 0.5365 - val_loss: 2.0369 - val_accuracy: 0.4100\n",
            "Epoch 6/25\n",
            "266/266 [==============================] - 17s 66ms/step - loss: 1.2543 - accuracy: 0.5974 - val_loss: 1.8800 - val_accuracy: 0.4400\n",
            "Epoch 7/25\n",
            "266/266 [==============================] - 18s 66ms/step - loss: 1.0709 - accuracy: 0.6579 - val_loss: 2.2384 - val_accuracy: 0.4280\n",
            "Epoch 8/25\n",
            "266/266 [==============================] - 18s 67ms/step - loss: 0.9260 - accuracy: 0.6972 - val_loss: 2.5426 - val_accuracy: 0.4087\n",
            "Epoch 9/25\n",
            "266/266 [==============================] - 18s 66ms/step - loss: 0.7733 - accuracy: 0.7454 - val_loss: 1.7353 - val_accuracy: 0.5287\n",
            "Epoch 10/25\n",
            "266/266 [==============================] - 18s 66ms/step - loss: 0.6605 - accuracy: 0.7838 - val_loss: 1.6625 - val_accuracy: 0.5453\n",
            "Epoch 11/25\n",
            "266/266 [==============================] - 18s 67ms/step - loss: 0.5436 - accuracy: 0.8239 - val_loss: 1.7282 - val_accuracy: 0.5487\n",
            "Epoch 12/25\n",
            "266/266 [==============================] - 18s 66ms/step - loss: 0.4512 - accuracy: 0.8524 - val_loss: 3.3042 - val_accuracy: 0.3747\n",
            "Epoch 13/25\n",
            "266/266 [==============================] - 18s 66ms/step - loss: 0.3780 - accuracy: 0.8764 - val_loss: 1.8292 - val_accuracy: 0.5420\n",
            "Epoch 14/25\n",
            "266/266 [==============================] - 18s 66ms/step - loss: 0.3248 - accuracy: 0.8941 - val_loss: 2.0159 - val_accuracy: 0.5267\n",
            "Epoch 15/25\n",
            "266/266 [==============================] - 17s 66ms/step - loss: 0.2795 - accuracy: 0.9107 - val_loss: 2.1270 - val_accuracy: 0.5313\n",
            "Epoch 16/25\n",
            "266/266 [==============================] - 17s 66ms/step - loss: 0.2370 - accuracy: 0.9209 - val_loss: 2.4339 - val_accuracy: 0.5067\n",
            "Epoch 17/25\n",
            "266/266 [==============================] - 18s 66ms/step - loss: 0.1808 - accuracy: 0.9371 - val_loss: 2.1033 - val_accuracy: 0.5473\n",
            "Epoch 18/25\n",
            "266/266 [==============================] - 17s 66ms/step - loss: 0.1639 - accuracy: 0.9466 - val_loss: 2.0888 - val_accuracy: 0.5680\n",
            "Epoch 19/25\n",
            "266/266 [==============================] - 18s 67ms/step - loss: 0.1648 - accuracy: 0.9464 - val_loss: 2.6556 - val_accuracy: 0.5140\n",
            "Epoch 20/25\n",
            "266/266 [==============================] - 17s 66ms/step - loss: 0.1617 - accuracy: 0.9469 - val_loss: 2.7231 - val_accuracy: 0.5100\n",
            "Epoch 21/25\n",
            "266/266 [==============================] - 17s 66ms/step - loss: 0.1476 - accuracy: 0.9531 - val_loss: 2.3795 - val_accuracy: 0.5133\n",
            "Epoch 22/25\n",
            "266/266 [==============================] - 17s 66ms/step - loss: 0.1107 - accuracy: 0.9644 - val_loss: 2.4147 - val_accuracy: 0.5660\n",
            "Epoch 23/25\n",
            "266/266 [==============================] - 17s 66ms/step - loss: 0.1004 - accuracy: 0.9682 - val_loss: 2.2101 - val_accuracy: 0.5627\n",
            "Epoch 24/25\n",
            "266/266 [==============================] - 18s 66ms/step - loss: 0.0878 - accuracy: 0.9698 - val_loss: 2.9276 - val_accuracy: 0.4953\n",
            "Epoch 25/25\n",
            "266/266 [==============================] - 18s 66ms/step - loss: 0.0868 - accuracy: 0.9741 - val_loss: 2.3485 - val_accuracy: 0.5580\n"
          ]
        }
      ]
    },
    {
      "cell_type": "markdown",
      "source": [
        "#### **VGG Model**"
      ],
      "metadata": {
        "id": "sAEy8HFQC2rf"
      }
    },
    {
      "cell_type": "code",
      "source": [
        "def VGG_model(combination = 1):\n",
        "\n",
        "    if combination == 1:\n",
        "        optimizer = 'adam'\n",
        "        loss = tf.keras.losses.sparse_categorical_crossentropy\n",
        "    else:\n",
        "        optimizer = 'sgd'\n",
        "        loss = tf.keras.losses.sparse_categorical_crossentropy\n",
        "\n",
        "    model = models.Sequential()\n",
        "    model.add(layers.experimental.preprocessing.Resizing(224, 224, interpolation=\"bilinear\", input_shape=x_train.shape[1:]))\n",
        "    model.add(layers.Conv2D(input_shape=(224,224,3),filters=64,kernel_size=(3,3),padding=\"same\", activation=\"relu\"))\n",
        "    model.add(tf.keras.layers.BatchNormalization(momentum=0.8))\n",
        "    model.add(layers.Conv2D(filters=64,kernel_size=(3,3),padding=\"same\", activation=\"relu\"))\n",
        "    model.add(tf.keras.layers.BatchNormalization(momentum=0.8))\n",
        "    model.add(layers.MaxPool2D(pool_size=(2,2),strides=(2,2)))\n",
        "    model.add(layers.Conv2D(filters=128, kernel_size=(3,3), padding=\"same\", activation=\"relu\"))\n",
        "    model.add(tf.keras.layers.BatchNormalization(momentum=0.8))\n",
        "    model.add(layers.Conv2D(filters=128, kernel_size=(3,3), padding=\"same\", activation=\"relu\"))\n",
        "    model.add(tf.keras.layers.BatchNormalization(momentum=0.8))\n",
        "    model.add(layers.MaxPool2D(pool_size=(2,2),strides=(2,2)))\n",
        "    model.add(layers.Conv2D(filters=256, kernel_size=(3,3), padding=\"same\", activation=\"relu\"))\n",
        "    model.add(tf.keras.layers.BatchNormalization(momentum=0.8))\n",
        "    model.add(layers.Conv2D(filters=256, kernel_size=(3,3), padding=\"same\", activation=\"relu\"))\n",
        "    model.add(tf.keras.layers.BatchNormalization(momentum=0.8))\n",
        "    model.add(layers.Conv2D(filters=256, kernel_size=(3,3), padding=\"same\", activation=\"relu\"))\n",
        "    model.add(tf.keras.layers.BatchNormalization(momentum=0.8))\n",
        "    model.add(layers.MaxPool2D(pool_size=(2,2),strides=(2,2)))\n",
        "    model.add(layers.Conv2D(filters=512, kernel_size=(3,3), padding=\"same\", activation=\"relu\"))\n",
        "    model.add(tf.keras.layers.BatchNormalization(momentum=0.8))\n",
        "    model.add(layers.Conv2D(filters=512, kernel_size=(3,3), padding=\"same\", activation=\"relu\"))\n",
        "    model.add(tf.keras.layers.BatchNormalization(momentum=0.8))\n",
        "    model.add(layers.Conv2D(filters=512, kernel_size=(3,3), padding=\"same\", activation=\"relu\"))\n",
        "    model.add(tf.keras.layers.BatchNormalization(momentum=0.8))\n",
        "    model.add(layers.MaxPool2D(pool_size=(2,2),strides=(2,2)))\n",
        "    model.add(layers.Conv2D(filters=512, kernel_size=(3,3), padding=\"same\", activation=\"relu\"))\n",
        "    model.add(tf.keras.layers.BatchNormalization(momentum=0.8))\n",
        "    model.add(layers.Conv2D(filters=512, kernel_size=(3,3), padding=\"same\", activation=\"relu\"))\n",
        "    model.add(tf.keras.layers.BatchNormalization(momentum=0.8))\n",
        "    model.add(layers.Conv2D(filters=512, kernel_size=(3,3), padding=\"same\", activation=\"relu\"))\n",
        "    model.add(tf.keras.layers.BatchNormalization(momentum=0.8))\n",
        "    model.add(layers.MaxPool2D(pool_size=(2,2),strides=(2,2)))\n",
        "    model.add(layers.Flatten())\n",
        "    model.add(layers.Dense(units=4096,activation=\"relu\"))\n",
        "    model.add(layers.Dense(units=4096,activation=\"relu\"))\n",
        "    model.add(layers.Dense(classes_num, activation=\"softmax\"))\n",
        "    \n",
        "    model.compile(optimizer=optimizer, loss=loss, metrics=['accuracy'])\n",
        "\n",
        "    model.summary()\n",
        "    \n",
        "    return model"
      ],
      "metadata": {
        "id": "UXEChyPTC311"
      },
      "execution_count": null,
      "outputs": []
    },
    {
      "cell_type": "markdown",
      "source": [
        "1st Combination of VGG Model - Adam optimizer, sparse categorical crossentropy loss"
      ],
      "metadata": {
        "id": "l7k-mYwXC-a-"
      }
    },
    {
      "cell_type": "code",
      "source": [
        "vgg1 = VGG_model(1)"
      ],
      "metadata": {
        "id": "VVsCvnReC5SY",
        "colab": {
          "base_uri": "https://localhost:8080/"
        },
        "outputId": "bc5f32a3-b6ba-4e6c-ee8e-1c7b486b1268"
      },
      "execution_count": null,
      "outputs": [
        {
          "output_type": "stream",
          "name": "stdout",
          "text": [
            "Model: \"sequential_4\"\n",
            "_________________________________________________________________\n",
            " Layer (type)                Output Shape              Param #   \n",
            "=================================================================\n",
            " resizing_2 (Resizing)       (None, 224, 224, 3)       0         \n",
            "                                                                 \n",
            " conv2d_14 (Conv2D)          (None, 224, 224, 64)      1792      \n",
            "                                                                 \n",
            " batch_normalization_10 (Bat  (None, 224, 224, 64)     256       \n",
            " chNormalization)                                                \n",
            "                                                                 \n",
            " conv2d_15 (Conv2D)          (None, 224, 224, 64)      36928     \n",
            "                                                                 \n",
            " batch_normalization_11 (Bat  (None, 224, 224, 64)     256       \n",
            " chNormalization)                                                \n",
            "                                                                 \n",
            " max_pooling2d_4 (MaxPooling  (None, 112, 112, 64)     0         \n",
            " 2D)                                                             \n",
            "                                                                 \n",
            " conv2d_16 (Conv2D)          (None, 112, 112, 128)     73856     \n",
            "                                                                 \n",
            " batch_normalization_12 (Bat  (None, 112, 112, 128)    512       \n",
            " chNormalization)                                                \n",
            "                                                                 \n",
            " conv2d_17 (Conv2D)          (None, 112, 112, 128)     147584    \n",
            "                                                                 \n",
            " batch_normalization_13 (Bat  (None, 112, 112, 128)    512       \n",
            " chNormalization)                                                \n",
            "                                                                 \n",
            " max_pooling2d_5 (MaxPooling  (None, 56, 56, 128)      0         \n",
            " 2D)                                                             \n",
            "                                                                 \n",
            " conv2d_18 (Conv2D)          (None, 56, 56, 256)       295168    \n",
            "                                                                 \n",
            " batch_normalization_14 (Bat  (None, 56, 56, 256)      1024      \n",
            " chNormalization)                                                \n",
            "                                                                 \n",
            " conv2d_19 (Conv2D)          (None, 56, 56, 256)       590080    \n",
            "                                                                 \n",
            " batch_normalization_15 (Bat  (None, 56, 56, 256)      1024      \n",
            " chNormalization)                                                \n",
            "                                                                 \n",
            " conv2d_20 (Conv2D)          (None, 56, 56, 256)       590080    \n",
            "                                                                 \n",
            " batch_normalization_16 (Bat  (None, 56, 56, 256)      1024      \n",
            " chNormalization)                                                \n",
            "                                                                 \n",
            " max_pooling2d_6 (MaxPooling  (None, 28, 28, 256)      0         \n",
            " 2D)                                                             \n",
            "                                                                 \n",
            " conv2d_21 (Conv2D)          (None, 28, 28, 512)       1180160   \n",
            "                                                                 \n",
            " batch_normalization_17 (Bat  (None, 28, 28, 512)      2048      \n",
            " chNormalization)                                                \n",
            "                                                                 \n",
            " conv2d_22 (Conv2D)          (None, 28, 28, 512)       2359808   \n",
            "                                                                 \n",
            " batch_normalization_18 (Bat  (None, 28, 28, 512)      2048      \n",
            " chNormalization)                                                \n",
            "                                                                 \n",
            " conv2d_23 (Conv2D)          (None, 28, 28, 512)       2359808   \n",
            "                                                                 \n",
            " batch_normalization_19 (Bat  (None, 28, 28, 512)      2048      \n",
            " chNormalization)                                                \n",
            "                                                                 \n",
            " max_pooling2d_7 (MaxPooling  (None, 14, 14, 512)      0         \n",
            " 2D)                                                             \n",
            "                                                                 \n",
            " conv2d_24 (Conv2D)          (None, 14, 14, 512)       2359808   \n",
            "                                                                 \n",
            " batch_normalization_20 (Bat  (None, 14, 14, 512)      2048      \n",
            " chNormalization)                                                \n",
            "                                                                 \n",
            " conv2d_25 (Conv2D)          (None, 14, 14, 512)       2359808   \n",
            "                                                                 \n",
            " batch_normalization_21 (Bat  (None, 14, 14, 512)      2048      \n",
            " chNormalization)                                                \n",
            "                                                                 \n",
            " conv2d_26 (Conv2D)          (None, 14, 14, 512)       2359808   \n",
            "                                                                 \n",
            " batch_normalization_22 (Bat  (None, 14, 14, 512)      2048      \n",
            " chNormalization)                                                \n",
            "                                                                 \n",
            " max_pooling2d_8 (MaxPooling  (None, 7, 7, 512)        0         \n",
            " 2D)                                                             \n",
            "                                                                 \n",
            " flatten_4 (Flatten)         (None, 25088)             0         \n",
            "                                                                 \n",
            " dense_12 (Dense)            (None, 4096)              102764544 \n",
            "                                                                 \n",
            " dense_13 (Dense)            (None, 4096)              16781312  \n",
            "                                                                 \n",
            " dense_14 (Dense)            (None, 20)                81940     \n",
            "                                                                 \n",
            "=================================================================\n",
            "Total params: 134,359,380\n",
            "Trainable params: 134,350,932\n",
            "Non-trainable params: 8,448\n",
            "_________________________________________________________________\n"
          ]
        }
      ]
    },
    {
      "cell_type": "code",
      "source": [
        "model_history5 = vgg1.fit(x_train, y_train, epochs=15, batch_size=64, validation_data=(x_val, y_val))\n",
        "vgg1.save('vgg1.h5')"
      ],
      "metadata": {
        "id": "G_KF4KLQC8Uv",
        "colab": {
          "base_uri": "https://localhost:8080/"
        },
        "outputId": "60ffef63-949b-4aaf-f39a-e6d40ac62874"
      },
      "execution_count": null,
      "outputs": [
        {
          "output_type": "stream",
          "name": "stdout",
          "text": [
            "Epoch 1/15\n",
            "133/133 [==============================] - 182s 1s/step - loss: 8.4368 - accuracy: 0.1745 - val_loss: 2.8384 - val_accuracy: 0.2113\n",
            "Epoch 2/15\n",
            "133/133 [==============================] - 141s 1s/step - loss: 2.5498 - accuracy: 0.2434 - val_loss: 2.4128 - val_accuracy: 0.2853\n",
            "Epoch 3/15\n",
            "133/133 [==============================] - 141s 1s/step - loss: 2.3247 - accuracy: 0.2959 - val_loss: 2.2948 - val_accuracy: 0.3173\n",
            "Epoch 4/15\n",
            "133/133 [==============================] - 141s 1s/step - loss: 2.1510 - accuracy: 0.3411 - val_loss: 2.1709 - val_accuracy: 0.3440\n",
            "Epoch 5/15\n",
            "133/133 [==============================] - 141s 1s/step - loss: 2.0423 - accuracy: 0.3689 - val_loss: 2.1757 - val_accuracy: 0.3507\n",
            "Epoch 6/15\n",
            "133/133 [==============================] - 141s 1s/step - loss: 1.8946 - accuracy: 0.4107 - val_loss: 2.1958 - val_accuracy: 0.3553\n",
            "Epoch 7/15\n",
            "133/133 [==============================] - 141s 1s/step - loss: 1.7491 - accuracy: 0.4540 - val_loss: 2.1206 - val_accuracy: 0.3707\n",
            "Epoch 8/15\n",
            "133/133 [==============================] - 141s 1s/step - loss: 1.6550 - accuracy: 0.4795 - val_loss: 2.1250 - val_accuracy: 0.4040\n",
            "Epoch 9/15\n",
            "133/133 [==============================] - 141s 1s/step - loss: 1.5374 - accuracy: 0.5247 - val_loss: 2.1903 - val_accuracy: 0.3780\n",
            "Epoch 10/15\n",
            "133/133 [==============================] - 141s 1s/step - loss: 1.4150 - accuracy: 0.5549 - val_loss: 2.2017 - val_accuracy: 0.4127\n",
            "Epoch 11/15\n",
            "133/133 [==============================] - 141s 1s/step - loss: 1.2903 - accuracy: 0.5989 - val_loss: 2.3490 - val_accuracy: 0.4080\n",
            "Epoch 12/15\n",
            "133/133 [==============================] - 141s 1s/step - loss: 1.1456 - accuracy: 0.6441 - val_loss: 2.2365 - val_accuracy: 0.4320\n",
            "Epoch 13/15\n",
            "133/133 [==============================] - 141s 1s/step - loss: 1.0039 - accuracy: 0.6873 - val_loss: 2.3341 - val_accuracy: 0.4293\n",
            "Epoch 14/15\n",
            "133/133 [==============================] - 141s 1s/step - loss: 0.9043 - accuracy: 0.7221 - val_loss: 2.7048 - val_accuracy: 0.4180\n",
            "Epoch 15/15\n",
            "133/133 [==============================] - 141s 1s/step - loss: 0.8711 - accuracy: 0.7311 - val_loss: 2.8985 - val_accuracy: 0.3953\n"
          ]
        }
      ]
    },
    {
      "cell_type": "markdown",
      "source": [
        "2nd Combination of VGG Model - Adam optimizer, categorical crossentropy loss"
      ],
      "metadata": {
        "id": "qUEtMQ42C-04"
      }
    },
    {
      "cell_type": "code",
      "source": [
        "vgg2 = VGG_model(2)"
      ],
      "metadata": {
        "id": "lH84WIJFC_QX",
        "colab": {
          "base_uri": "https://localhost:8080/"
        },
        "outputId": "d361ad2c-62ee-4f1b-c61e-937d331b7c10"
      },
      "execution_count": null,
      "outputs": [
        {
          "output_type": "stream",
          "name": "stdout",
          "text": [
            "Model: \"sequential_5\"\n",
            "_________________________________________________________________\n",
            " Layer (type)                Output Shape              Param #   \n",
            "=================================================================\n",
            " resizing_3 (Resizing)       (None, 224, 224, 3)       0         \n",
            "                                                                 \n",
            " conv2d_27 (Conv2D)          (None, 224, 224, 64)      1792      \n",
            "                                                                 \n",
            " batch_normalization_23 (Bat  (None, 224, 224, 64)     256       \n",
            " chNormalization)                                                \n",
            "                                                                 \n",
            " conv2d_28 (Conv2D)          (None, 224, 224, 64)      36928     \n",
            "                                                                 \n",
            " batch_normalization_24 (Bat  (None, 224, 224, 64)     256       \n",
            " chNormalization)                                                \n",
            "                                                                 \n",
            " max_pooling2d_9 (MaxPooling  (None, 112, 112, 64)     0         \n",
            " 2D)                                                             \n",
            "                                                                 \n",
            " conv2d_29 (Conv2D)          (None, 112, 112, 128)     73856     \n",
            "                                                                 \n",
            " batch_normalization_25 (Bat  (None, 112, 112, 128)    512       \n",
            " chNormalization)                                                \n",
            "                                                                 \n",
            " conv2d_30 (Conv2D)          (None, 112, 112, 128)     147584    \n",
            "                                                                 \n",
            " batch_normalization_26 (Bat  (None, 112, 112, 128)    512       \n",
            " chNormalization)                                                \n",
            "                                                                 \n",
            " max_pooling2d_10 (MaxPoolin  (None, 56, 56, 128)      0         \n",
            " g2D)                                                            \n",
            "                                                                 \n",
            " conv2d_31 (Conv2D)          (None, 56, 56, 256)       295168    \n",
            "                                                                 \n",
            " batch_normalization_27 (Bat  (None, 56, 56, 256)      1024      \n",
            " chNormalization)                                                \n",
            "                                                                 \n",
            " conv2d_32 (Conv2D)          (None, 56, 56, 256)       590080    \n",
            "                                                                 \n",
            " batch_normalization_28 (Bat  (None, 56, 56, 256)      1024      \n",
            " chNormalization)                                                \n",
            "                                                                 \n",
            " conv2d_33 (Conv2D)          (None, 56, 56, 256)       590080    \n",
            "                                                                 \n",
            " batch_normalization_29 (Bat  (None, 56, 56, 256)      1024      \n",
            " chNormalization)                                                \n",
            "                                                                 \n",
            " max_pooling2d_11 (MaxPoolin  (None, 28, 28, 256)      0         \n",
            " g2D)                                                            \n",
            "                                                                 \n",
            " conv2d_34 (Conv2D)          (None, 28, 28, 512)       1180160   \n",
            "                                                                 \n",
            " batch_normalization_30 (Bat  (None, 28, 28, 512)      2048      \n",
            " chNormalization)                                                \n",
            "                                                                 \n",
            " conv2d_35 (Conv2D)          (None, 28, 28, 512)       2359808   \n",
            "                                                                 \n",
            " batch_normalization_31 (Bat  (None, 28, 28, 512)      2048      \n",
            " chNormalization)                                                \n",
            "                                                                 \n",
            " conv2d_36 (Conv2D)          (None, 28, 28, 512)       2359808   \n",
            "                                                                 \n",
            " batch_normalization_32 (Bat  (None, 28, 28, 512)      2048      \n",
            " chNormalization)                                                \n",
            "                                                                 \n",
            " max_pooling2d_12 (MaxPoolin  (None, 14, 14, 512)      0         \n",
            " g2D)                                                            \n",
            "                                                                 \n",
            " conv2d_37 (Conv2D)          (None, 14, 14, 512)       2359808   \n",
            "                                                                 \n",
            " batch_normalization_33 (Bat  (None, 14, 14, 512)      2048      \n",
            " chNormalization)                                                \n",
            "                                                                 \n",
            " conv2d_38 (Conv2D)          (None, 14, 14, 512)       2359808   \n",
            "                                                                 \n",
            " batch_normalization_34 (Bat  (None, 14, 14, 512)      2048      \n",
            " chNormalization)                                                \n",
            "                                                                 \n",
            " conv2d_39 (Conv2D)          (None, 14, 14, 512)       2359808   \n",
            "                                                                 \n",
            " batch_normalization_35 (Bat  (None, 14, 14, 512)      2048      \n",
            " chNormalization)                                                \n",
            "                                                                 \n",
            " max_pooling2d_13 (MaxPoolin  (None, 7, 7, 512)        0         \n",
            " g2D)                                                            \n",
            "                                                                 \n",
            " flatten_5 (Flatten)         (None, 25088)             0         \n",
            "                                                                 \n",
            " dense_15 (Dense)            (None, 4096)              102764544 \n",
            "                                                                 \n",
            " dense_16 (Dense)            (None, 4096)              16781312  \n",
            "                                                                 \n",
            " dense_17 (Dense)            (None, 20)                81940     \n",
            "                                                                 \n",
            "=================================================================\n",
            "Total params: 134,359,380\n",
            "Trainable params: 134,350,932\n",
            "Non-trainable params: 8,448\n",
            "_________________________________________________________________\n"
          ]
        }
      ]
    },
    {
      "cell_type": "code",
      "source": [
        "model_history6 = vgg2.fit(x_train, y_train, epochs=20, batch_size=64, validation_data=(x_val, y_val))\n",
        "vgg2.save('vgg2.h5')"
      ],
      "metadata": {
        "id": "INsYR9xFDHC0",
        "colab": {
          "base_uri": "https://localhost:8080/"
        },
        "outputId": "ed7f954d-e82e-4709-80ad-a59675f1b373"
      },
      "execution_count": null,
      "outputs": [
        {
          "output_type": "stream",
          "name": "stdout",
          "text": [
            "Epoch 1/20\n",
            "133/133 [==============================] - 142s 1s/step - loss: 2.5305 - accuracy: 0.2949 - val_loss: 2.1115 - val_accuracy: 0.3727\n",
            "Epoch 2/20\n",
            "133/133 [==============================] - 140s 1s/step - loss: 1.6421 - accuracy: 0.4887 - val_loss: 1.7315 - val_accuracy: 0.4780\n",
            "Epoch 3/20\n",
            "133/133 [==============================] - 140s 1s/step - loss: 1.1277 - accuracy: 0.6445 - val_loss: 1.6173 - val_accuracy: 0.5100\n",
            "Epoch 4/20\n",
            "133/133 [==============================] - 141s 1s/step - loss: 0.6638 - accuracy: 0.8088 - val_loss: 1.6296 - val_accuracy: 0.5120\n",
            "Epoch 5/20\n",
            "133/133 [==============================] - 140s 1s/step - loss: 0.3031 - accuracy: 0.9382 - val_loss: 1.5957 - val_accuracy: 0.5427\n",
            "Epoch 6/20\n",
            "133/133 [==============================] - 141s 1s/step - loss: 0.1108 - accuracy: 0.9880 - val_loss: 1.5927 - val_accuracy: 0.5547\n",
            "Epoch 7/20\n",
            "133/133 [==============================] - 140s 1s/step - loss: 0.0483 - accuracy: 0.9980 - val_loss: 1.5549 - val_accuracy: 0.5660\n",
            "Epoch 8/20\n",
            "133/133 [==============================] - 141s 1s/step - loss: 0.0257 - accuracy: 0.9998 - val_loss: 1.5409 - val_accuracy: 0.5793\n",
            "Epoch 9/20\n",
            "133/133 [==============================] - 140s 1s/step - loss: 0.0187 - accuracy: 0.9999 - val_loss: 1.5776 - val_accuracy: 0.5647\n",
            "Epoch 10/20\n",
            "133/133 [==============================] - 141s 1s/step - loss: 0.0142 - accuracy: 0.9999 - val_loss: 1.5718 - val_accuracy: 0.5827\n",
            "Epoch 11/20\n",
            "133/133 [==============================] - 140s 1s/step - loss: 0.0118 - accuracy: 0.9995 - val_loss: 1.5842 - val_accuracy: 0.5687\n",
            "Epoch 12/20\n",
            "133/133 [==============================] - 141s 1s/step - loss: 0.0097 - accuracy: 0.9998 - val_loss: 1.5769 - val_accuracy: 0.5847\n",
            "Epoch 13/20\n",
            "133/133 [==============================] - 140s 1s/step - loss: 0.0084 - accuracy: 1.0000 - val_loss: 1.5991 - val_accuracy: 0.5840\n",
            "Epoch 14/20\n",
            "133/133 [==============================] - 141s 1s/step - loss: 0.0087 - accuracy: 0.9998 - val_loss: 1.6139 - val_accuracy: 0.5907\n",
            "Epoch 15/20\n",
            "133/133 [==============================] - 141s 1s/step - loss: 0.0085 - accuracy: 0.9998 - val_loss: 1.6216 - val_accuracy: 0.5880\n",
            "Epoch 16/20\n",
            "133/133 [==============================] - 141s 1s/step - loss: 0.0068 - accuracy: 1.0000 - val_loss: 1.6288 - val_accuracy: 0.5887\n",
            "Epoch 17/20\n",
            "133/133 [==============================] - 141s 1s/step - loss: 0.0055 - accuracy: 1.0000 - val_loss: 1.6280 - val_accuracy: 0.5960\n",
            "Epoch 18/20\n",
            "133/133 [==============================] - 140s 1s/step - loss: 0.0049 - accuracy: 0.9999 - val_loss: 1.6371 - val_accuracy: 0.5887\n",
            "Epoch 19/20\n",
            "133/133 [==============================] - 141s 1s/step - loss: 0.0043 - accuracy: 1.0000 - val_loss: 1.6423 - val_accuracy: 0.5793\n",
            "Epoch 20/20\n",
            "133/133 [==============================] - 140s 1s/step - loss: 0.0040 - accuracy: 1.0000 - val_loss: 1.6534 - val_accuracy: 0.5873\n"
          ]
        }
      ]
    },
    {
      "cell_type": "markdown",
      "source": [
        "**Σχολιασμός**\n",
        "\n",
        "---\n",
        "\n",
        "Παρατηρείται ότι:\n",
        "- Στο LeNet, στο 1st Combination, με τη χρήση του Adam optimizer, επιτυγχάνονται καλύτερα αποτελέσματα, ενώ ο SGD optimizer αποτυγχάνει, καθώς γίνεται χρήση της μη γραμμικής συνάρτησης Sigmoid, η οποία δεν ενδείκνυται για τεχνικές gradient descent. Επίσης, φαίνεται πως η ReLU γενικά αποδίδει και με optimizers SGD.\n",
        "- Στο VGG, ο SGD optimizer φαίνεται να παρέχει καλύτερα ποσοστά ευστοχίας, γεγονός που οφείλεται στην εσωτερική αρχιτεκτονική πολλών επιπέδων του συγκεκριμένου δικτύου."
      ],
      "metadata": {
        "id": "xHJ-wMG0CTNE"
      }
    },
    {
      "cell_type": "markdown",
      "source": [
        "#### **My CNN Model**\n",
        "\n",
        "Στην συνέχεια δημιουργείται ένα CNN, το οποίο αποτελείται από convolutional layers το μέγεθος των οποίων σταδιακά μειώνεται, ενώ ανάμεσά τους παρεμβάλλονται max-pooling layers και μη γραμμικές συναρτήσεις ενεργοποίησης της μορφής Leaky ReLU. Έτσι, δεν χρειάζεται να ανησυχεί κανείς για την αρχικοποίηση του δικτύου ή την κανονικοποίηση των δεδομένων εισόδου."
      ],
      "metadata": {
        "id": "T9s5qrfUDlFo"
      }
    },
    {
      "cell_type": "code",
      "source": [
        "def MyCNN(combination = 1):\n",
        "\n",
        "    if combination == 1:\n",
        "        optimizer = 'adam'\n",
        "        loss = tf.keras.losses.sparse_categorical_crossentropy\n",
        "    else:\n",
        "        optimizer = 'adagrad'\n",
        "        loss = tf.keras.losses.sparse_categorical_crossentropy\n",
        "\n",
        "    model = models.Sequential()\n",
        "    model.add(layers.Conv2D(128, (3,3), padding=\"same\",input_shape=(32, 32, 3)))\n",
        "    model.add(tf.keras.layers.LeakyReLU())\n",
        "    model.add(layers.Conv2D(128, (3, 3), padding='same'))\n",
        "    model.add(layers.MaxPooling2D((2, 2)))\n",
        "    model.add(tf.keras.layers.LeakyReLU())\n",
        "    model.add(layers.Conv2D(256, (3, 3), padding='same'))\n",
        "    model.add(tf.keras.layers.LeakyReLU())\n",
        "    model.add(layers.MaxPooling2D((2, 2)))\n",
        "    model.add(layers.Conv2D(512, (3, 3), padding='same'))\n",
        "    model.add(tf.keras.layers.LeakyReLU())\n",
        "    model.add(layers.Conv2D(256, (3, 3)))\n",
        "    model.add(tf.keras.layers.LeakyReLU())\n",
        "    model.add(layers.MaxPooling2D((2, 2)))\n",
        "    model.add(layers.Flatten())\n",
        "    model.add(layers.Dense(1024))\n",
        "    model.add(tf.keras.layers.LeakyReLU())\n",
        "    model.add(layers.Dense(200))\n",
        "    model.add(layers.Dense(classes_num, activation='softmax'))\n",
        "\n",
        "    model.compile(optimizer=optimizer, loss=loss, metrics=['accuracy'])\n",
        "    \n",
        "    model.summary()\n",
        "    \n",
        "    return model"
      ],
      "metadata": {
        "id": "9BtRjVkwEcfN"
      },
      "execution_count": null,
      "outputs": []
    },
    {
      "cell_type": "markdown",
      "source": [
        "1st Combination of My CNN Model"
      ],
      "metadata": {
        "id": "TA54pYpIEgql"
      }
    },
    {
      "cell_type": "code",
      "source": [
        "mycnn1 = MyCNN(1)"
      ],
      "metadata": {
        "id": "CWyZgNbSEgRA",
        "colab": {
          "base_uri": "https://localhost:8080/"
        },
        "outputId": "3f4ac50b-f843-4107-85d4-126228b3f9b8"
      },
      "execution_count": null,
      "outputs": [
        {
          "output_type": "stream",
          "name": "stdout",
          "text": [
            "Model: \"sequential_6\"\n",
            "_________________________________________________________________\n",
            " Layer (type)                Output Shape              Param #   \n",
            "=================================================================\n",
            " conv2d_40 (Conv2D)          (None, 32, 32, 128)       3584      \n",
            "                                                                 \n",
            " leaky_re_lu (LeakyReLU)     (None, 32, 32, 128)       0         \n",
            "                                                                 \n",
            " conv2d_41 (Conv2D)          (None, 32, 32, 128)       147584    \n",
            "                                                                 \n",
            " max_pooling2d_14 (MaxPoolin  (None, 16, 16, 128)      0         \n",
            " g2D)                                                            \n",
            "                                                                 \n",
            " leaky_re_lu_1 (LeakyReLU)   (None, 16, 16, 128)       0         \n",
            "                                                                 \n",
            " conv2d_42 (Conv2D)          (None, 16, 16, 256)       295168    \n",
            "                                                                 \n",
            " leaky_re_lu_2 (LeakyReLU)   (None, 16, 16, 256)       0         \n",
            "                                                                 \n",
            " max_pooling2d_15 (MaxPoolin  (None, 8, 8, 256)        0         \n",
            " g2D)                                                            \n",
            "                                                                 \n",
            " conv2d_43 (Conv2D)          (None, 8, 8, 512)         1180160   \n",
            "                                                                 \n",
            " leaky_re_lu_3 (LeakyReLU)   (None, 8, 8, 512)         0         \n",
            "                                                                 \n",
            " conv2d_44 (Conv2D)          (None, 6, 6, 256)         1179904   \n",
            "                                                                 \n",
            " leaky_re_lu_4 (LeakyReLU)   (None, 6, 6, 256)         0         \n",
            "                                                                 \n",
            " max_pooling2d_16 (MaxPoolin  (None, 3, 3, 256)        0         \n",
            " g2D)                                                            \n",
            "                                                                 \n",
            " flatten_6 (Flatten)         (None, 2304)              0         \n",
            "                                                                 \n",
            " dense_18 (Dense)            (None, 1024)              2360320   \n",
            "                                                                 \n",
            " leaky_re_lu_5 (LeakyReLU)   (None, 1024)              0         \n",
            "                                                                 \n",
            " dense_19 (Dense)            (None, 200)               205000    \n",
            "                                                                 \n",
            " dense_20 (Dense)            (None, 20)                4020      \n",
            "                                                                 \n",
            "=================================================================\n",
            "Total params: 5,375,740\n",
            "Trainable params: 5,375,740\n",
            "Non-trainable params: 0\n",
            "_________________________________________________________________\n"
          ]
        }
      ]
    },
    {
      "cell_type": "code",
      "source": [
        "model_history7 = mycnn1.fit(x_train, y_train, epochs=10, batch_size=128, validation_data=(x_val, y_val))\n",
        "mycnn1.save('mycnn1.h5')"
      ],
      "metadata": {
        "id": "J8HcDbW9El4X",
        "colab": {
          "base_uri": "https://localhost:8080/"
        },
        "outputId": "5c308a56-248c-4b3a-dd09-03a6e351e186"
      },
      "execution_count": null,
      "outputs": [
        {
          "output_type": "stream",
          "name": "stdout",
          "text": [
            "Epoch 1/10\n",
            "67/67 [==============================] - 6s 67ms/step - loss: 2.7259 - accuracy: 0.1672 - val_loss: 2.3350 - val_accuracy: 0.2933\n",
            "Epoch 2/10\n",
            "67/67 [==============================] - 3s 48ms/step - loss: 2.0870 - accuracy: 0.3524 - val_loss: 1.9496 - val_accuracy: 0.4107\n",
            "Epoch 3/10\n",
            "67/67 [==============================] - 3s 48ms/step - loss: 1.7207 - accuracy: 0.4571 - val_loss: 1.8108 - val_accuracy: 0.4600\n",
            "Epoch 4/10\n",
            "67/67 [==============================] - 3s 48ms/step - loss: 1.4464 - accuracy: 0.5375 - val_loss: 1.4739 - val_accuracy: 0.5527\n",
            "Epoch 5/10\n",
            "67/67 [==============================] - 3s 48ms/step - loss: 1.1587 - accuracy: 0.6269 - val_loss: 1.3753 - val_accuracy: 0.5793\n",
            "Epoch 6/10\n",
            "67/67 [==============================] - 3s 50ms/step - loss: 0.9527 - accuracy: 0.6895 - val_loss: 1.3260 - val_accuracy: 0.6060\n",
            "Epoch 7/10\n",
            "67/67 [==============================] - 3s 48ms/step - loss: 0.7586 - accuracy: 0.7496 - val_loss: 1.2868 - val_accuracy: 0.6287\n",
            "Epoch 8/10\n",
            "67/67 [==============================] - 3s 48ms/step - loss: 0.5409 - accuracy: 0.8169 - val_loss: 1.5214 - val_accuracy: 0.6167\n",
            "Epoch 9/10\n",
            "67/67 [==============================] - 3s 48ms/step - loss: 0.4220 - accuracy: 0.8581 - val_loss: 1.8210 - val_accuracy: 0.5953\n",
            "Epoch 10/10\n",
            "67/67 [==============================] - 3s 48ms/step - loss: 0.3519 - accuracy: 0.8859 - val_loss: 1.9750 - val_accuracy: 0.6027\n"
          ]
        }
      ]
    },
    {
      "cell_type": "markdown",
      "source": [
        "2nd Combination of My CNN Model"
      ],
      "metadata": {
        "id": "Vt0dPDOREmP4"
      }
    },
    {
      "cell_type": "code",
      "source": [
        "mycnn2 = MyCNN(2)"
      ],
      "metadata": {
        "id": "HCtSVvhPEnpG",
        "colab": {
          "base_uri": "https://localhost:8080/"
        },
        "outputId": "90baaeaa-a679-4e89-a549-6dfc9bcae7b2"
      },
      "execution_count": null,
      "outputs": [
        {
          "output_type": "stream",
          "name": "stdout",
          "text": [
            "Model: \"sequential_7\"\n",
            "_________________________________________________________________\n",
            " Layer (type)                Output Shape              Param #   \n",
            "=================================================================\n",
            " conv2d_45 (Conv2D)          (None, 32, 32, 128)       3584      \n",
            "                                                                 \n",
            " leaky_re_lu_6 (LeakyReLU)   (None, 32, 32, 128)       0         \n",
            "                                                                 \n",
            " conv2d_46 (Conv2D)          (None, 32, 32, 128)       147584    \n",
            "                                                                 \n",
            " max_pooling2d_17 (MaxPoolin  (None, 16, 16, 128)      0         \n",
            " g2D)                                                            \n",
            "                                                                 \n",
            " leaky_re_lu_7 (LeakyReLU)   (None, 16, 16, 128)       0         \n",
            "                                                                 \n",
            " conv2d_47 (Conv2D)          (None, 16, 16, 256)       295168    \n",
            "                                                                 \n",
            " leaky_re_lu_8 (LeakyReLU)   (None, 16, 16, 256)       0         \n",
            "                                                                 \n",
            " max_pooling2d_18 (MaxPoolin  (None, 8, 8, 256)        0         \n",
            " g2D)                                                            \n",
            "                                                                 \n",
            " conv2d_48 (Conv2D)          (None, 8, 8, 512)         1180160   \n",
            "                                                                 \n",
            " leaky_re_lu_9 (LeakyReLU)   (None, 8, 8, 512)         0         \n",
            "                                                                 \n",
            " conv2d_49 (Conv2D)          (None, 6, 6, 256)         1179904   \n",
            "                                                                 \n",
            " leaky_re_lu_10 (LeakyReLU)  (None, 6, 6, 256)         0         \n",
            "                                                                 \n",
            " max_pooling2d_19 (MaxPoolin  (None, 3, 3, 256)        0         \n",
            " g2D)                                                            \n",
            "                                                                 \n",
            " flatten_7 (Flatten)         (None, 2304)              0         \n",
            "                                                                 \n",
            " dense_21 (Dense)            (None, 1024)              2360320   \n",
            "                                                                 \n",
            " leaky_re_lu_11 (LeakyReLU)  (None, 1024)              0         \n",
            "                                                                 \n",
            " dense_22 (Dense)            (None, 200)               205000    \n",
            "                                                                 \n",
            " dense_23 (Dense)            (None, 20)                4020      \n",
            "                                                                 \n",
            "=================================================================\n",
            "Total params: 5,375,740\n",
            "Trainable params: 5,375,740\n",
            "Non-trainable params: 0\n",
            "_________________________________________________________________\n"
          ]
        }
      ]
    },
    {
      "cell_type": "code",
      "source": [
        "model_history8 = mycnn2.fit(x_train, y_train, epochs=10, batch_size=64, validation_data=(x_val, y_val))\n",
        "mycnn2.save('mycnn2.h5')"
      ],
      "metadata": {
        "id": "-SQujyyuEqiQ",
        "colab": {
          "base_uri": "https://localhost:8080/"
        },
        "outputId": "91a029b1-fd84-4eec-fb86-9a0b9f41fc48"
      },
      "execution_count": null,
      "outputs": [
        {
          "output_type": "stream",
          "name": "stdout",
          "text": [
            "Epoch 1/10\n",
            "133/133 [==============================] - 5s 29ms/step - loss: 2.9923 - accuracy: 0.0751 - val_loss: 2.9917 - val_accuracy: 0.0853\n",
            "Epoch 2/10\n",
            "133/133 [==============================] - 3s 26ms/step - loss: 2.9868 - accuracy: 0.0845 - val_loss: 2.9860 - val_accuracy: 0.0833\n",
            "Epoch 3/10\n",
            "133/133 [==============================] - 3s 26ms/step - loss: 2.9807 - accuracy: 0.0875 - val_loss: 2.9791 - val_accuracy: 0.0953\n",
            "Epoch 4/10\n",
            "133/133 [==============================] - 3s 26ms/step - loss: 2.9723 - accuracy: 0.0987 - val_loss: 2.9691 - val_accuracy: 0.1080\n",
            "Epoch 5/10\n",
            "133/133 [==============================] - 4s 27ms/step - loss: 2.9596 - accuracy: 0.1032 - val_loss: 2.9525 - val_accuracy: 0.1380\n",
            "Epoch 6/10\n",
            "133/133 [==============================] - 4s 27ms/step - loss: 2.9368 - accuracy: 0.1253 - val_loss: 2.9176 - val_accuracy: 0.1640\n",
            "Epoch 7/10\n",
            "133/133 [==============================] - 4s 27ms/step - loss: 2.8912 - accuracy: 0.1520 - val_loss: 2.8509 - val_accuracy: 0.1700\n",
            "Epoch 8/10\n",
            "133/133 [==============================] - 4s 27ms/step - loss: 2.7956 - accuracy: 0.1719 - val_loss: 2.7136 - val_accuracy: 0.1873\n",
            "Epoch 9/10\n",
            "133/133 [==============================] - 4s 27ms/step - loss: 2.6732 - accuracy: 0.1958 - val_loss: 2.6208 - val_accuracy: 0.2047\n",
            "Epoch 10/10\n",
            "133/133 [==============================] - 4s 28ms/step - loss: 2.5920 - accuracy: 0.2140 - val_loss: 2.5402 - val_accuracy: 0.2380\n"
          ]
        }
      ]
    },
    {
      "cell_type": "markdown",
      "source": [
        "#### **Βήμα 2: Αξιολόγηση των μοντέλων**\n",
        "\n",
        "1. Για κάθε ένα από τα μοντέλα που εκπαιδεύσατε, απεικονίστε σε κοινό διάγραμμα την ορθότητα εκπαίδευσης και την ορθότητα επικύρωσης στο σύνολο των εποχών, για κάθε διαφορετικό συνδυασμό του βήματος 1 και επιλέξτε αυτό με την καλύτερη ορθότητα από κάθε μοντέλο (ένα από κάθε αρχιτεκτονική, συνολικά 4).\n",
        "2. Για κάθε ένα από τα μοντέλα με την καλύτερη ορθότητα (συνολικά **4**), απεικονίστε σε κοινό διάγραμμα την ορθότητα εκπαίδευσης και την ορθότητα επικύρωσης στο σύνολο των εποχών.\n",
        "3. Αξιολογήστε, αναλυτικά, τα αποτελέσματά σας ως προς τα εξής:\n",
        " - Επίδραση του πλήθους των δεδομένων/κλάσεων στην απόδοση του μοντέλου\n",
        " - Επίδραση του αλγόριθμου βελτιστοποίησης (optimizer)\n",
        " - Επίδραση του μεγέθους δέσμης (batch size)"
      ],
      "metadata": {
        "id": "kRPE05Q5A0Z2"
      }
    },
    {
      "cell_type": "markdown",
      "source": [
        "#### **LeNet Model**"
      ],
      "metadata": {
        "id": "LH0LguDXFBOG"
      }
    },
    {
      "cell_type": "markdown",
      "source": [
        "1st combination of LeNet Model"
      ],
      "metadata": {
        "id": "vRg3giHEFFpI"
      }
    },
    {
      "cell_type": "code",
      "source": [
        "plot_accuracy(model_history1)\n",
        "plt.show()"
      ],
      "metadata": {
        "id": "Sx9gFVlsA3pS",
        "colab": {
          "base_uri": "https://localhost:8080/",
          "height": 350
        },
        "outputId": "7f43b5b5-58e6-4a1f-f63a-460a81a045de"
      },
      "execution_count": null,
      "outputs": [
        {
          "output_type": "display_data",
          "data": {
            "text/plain": [
              "<Figure size 576x360 with 1 Axes>"
            ],
            "image/png": "[encoded data removed]"
          },
          "metadata": {
            "needs_background": "light"
          }
        }
      ]
    },
    {
      "cell_type": "markdown",
      "source": [
        "2nd combination of LeNet Model"
      ],
      "metadata": {
        "id": "N7fVISACFMxb"
      }
    },
    {
      "cell_type": "code",
      "source": [
        "plot_accuracy(model_history2)\n",
        "plt.show()"
      ],
      "metadata": {
        "id": "SEwI8OquFMYm",
        "colab": {
          "base_uri": "https://localhost:8080/",
          "height": 350
        },
        "outputId": "d912487d-b8af-47db-c3fb-feccda9700a8"
      },
      "execution_count": null,
      "outputs": [
        {
          "output_type": "display_data",
          "data": {
            "text/plain": [
              "<Figure size 576x360 with 1 Axes>"
            ],
            "image/png": "[encoded data removed]"
          },
          "metadata": {
            "needs_background": "light"
          }
        }
      ]
    },
    {
      "cell_type": "markdown",
      "source": [
        "#### **AlexNet Model**"
      ],
      "metadata": {
        "id": "X_xnL-dTFnw6"
      }
    },
    {
      "cell_type": "markdown",
      "source": [
        "1st combination of AlexNet Model"
      ],
      "metadata": {
        "id": "PskcnOH4Fq2D"
      }
    },
    {
      "cell_type": "code",
      "source": [
        "plot_accuracy(model_history3)\n",
        "plt.show()"
      ],
      "metadata": {
        "id": "eXYxxeDnFo6z",
        "colab": {
          "base_uri": "https://localhost:8080/",
          "height": 350
        },
        "outputId": "53e2deec-2e57-4337-cf65-3353a65cc608"
      },
      "execution_count": null,
      "outputs": [
        {
          "output_type": "display_data",
          "data": {
            "text/plain": [
              "<Figure size 576x360 with 1 Axes>"
            ],
            "image/png": "[encoded data removed]"
          },
          "metadata": {
            "needs_background": "light"
          }
        }
      ]
    },
    {
      "cell_type": "markdown",
      "source": [
        "2nd combination of AlexNet Model"
      ],
      "metadata": {
        "id": "C4TKdBkWFwmb"
      }
    },
    {
      "cell_type": "code",
      "source": [
        "plot_accuracy(model_history4)\n",
        "plt.show()"
      ],
      "metadata": {
        "id": "3FVpmGX-FwPO",
        "colab": {
          "base_uri": "https://localhost:8080/",
          "height": 350
        },
        "outputId": "c91b1312-8943-4d7c-b3c0-e3ea9144d1d2"
      },
      "execution_count": null,
      "outputs": [
        {
          "output_type": "display_data",
          "data": {
            "text/plain": [
              "<Figure size 576x360 with 1 Axes>"
            ],
            "image/png": "[encoded data removed]"
          },
          "metadata": {
            "needs_background": "light"
          }
        }
      ]
    },
    {
      "cell_type": "markdown",
      "source": [
        "#### **VGG Model**"
      ],
      "metadata": {
        "id": "FcRZ-7yMF_VJ"
      }
    },
    {
      "cell_type": "markdown",
      "source": [
        "1st combination of VGG Model"
      ],
      "metadata": {
        "id": "8yMFnEPQGCbr"
      }
    },
    {
      "cell_type": "code",
      "source": [
        "plot_accuracy(model_history5)\n",
        "plt.show()"
      ],
      "metadata": {
        "id": "_aVUNUx8GAiG",
        "colab": {
          "base_uri": "https://localhost:8080/",
          "height": 350
        },
        "outputId": "d4cb4220-a98a-47fb-adfb-afbc67d40b84"
      },
      "execution_count": null,
      "outputs": [
        {
          "output_type": "display_data",
          "data": {
            "text/plain": [
              "<Figure size 576x360 with 1 Axes>"
            ],
            "image/png": "[encoded data removed]"
          },
          "metadata": {
            "needs_background": "light"
          }
        }
      ]
    },
    {
      "cell_type": "markdown",
      "source": [
        "2nd combination of VGG Model"
      ],
      "metadata": {
        "id": "fe7UDKb-GF_Y"
      }
    },
    {
      "cell_type": "code",
      "source": [
        "plot_accuracy(model_history6)\n",
        "plt.show()"
      ],
      "metadata": {
        "id": "ZXfTEgdfGHyr",
        "colab": {
          "base_uri": "https://localhost:8080/",
          "height": 350
        },
        "outputId": "e568b1d8-476e-4841-c4f8-7da8ec6a491b"
      },
      "execution_count": null,
      "outputs": [
        {
          "output_type": "display_data",
          "data": {
            "text/plain": [
              "<Figure size 576x360 with 1 Axes>"
            ],
            "image/png": "[encoded data removed]"
          },
          "metadata": {
            "needs_background": "light"
          }
        }
      ]
    },
    {
      "cell_type": "markdown",
      "source": [
        "#### **My CNN Model**"
      ],
      "metadata": {
        "id": "7ZSGOwsDGUqc"
      }
    },
    {
      "cell_type": "markdown",
      "source": [
        "1st combination of My CNN Model"
      ],
      "metadata": {
        "id": "l8LfDai8GZeL"
      }
    },
    {
      "cell_type": "code",
      "source": [
        "plot_accuracy(model_history7)\n",
        "plt.show()"
      ],
      "metadata": {
        "id": "1VM-hq6IGWbe",
        "colab": {
          "base_uri": "https://localhost:8080/",
          "height": 350
        },
        "outputId": "eb9cdfb6-5b1c-4dab-c9f1-4af995bdc4d4"
      },
      "execution_count": null,
      "outputs": [
        {
          "output_type": "display_data",
          "data": {
            "text/plain": [
              "<Figure size 576x360 with 1 Axes>"
            ],
            "image/png": "[encoded data removed]"
          },
          "metadata": {
            "needs_background": "light"
          }
        }
      ]
    },
    {
      "cell_type": "markdown",
      "source": [
        "2nd combination of My CNN Model"
      ],
      "metadata": {
        "id": "QnAM3M7GGbXC"
      }
    },
    {
      "cell_type": "code",
      "source": [
        "plot_accuracy(model_history8)\n",
        "plt.show()"
      ],
      "metadata": {
        "id": "Z1yT9Om-GcyB",
        "colab": {
          "base_uri": "https://localhost:8080/",
          "height": 350
        },
        "outputId": "98fa5b07-c26c-4d3b-e935-a4eed746ee26"
      },
      "execution_count": null,
      "outputs": [
        {
          "output_type": "display_data",
          "data": {
            "text/plain": [
              "<Figure size 576x360 with 1 Axes>"
            ],
            "image/png": "[encoded data removed]"
          },
          "metadata": {
            "needs_background": "light"
          }
        }
      ]
    },
    {
      "cell_type": "markdown",
      "source": [
        "**Σχολιασμός**\n",
        "\n",
        "---\n",
        "\n",
        "Παρατηρείται ότι:\n",
        "- LeNet: ο 1st Combination για το Lenet δίνει καλύτερο αποτελέσματα ευστοχίας, ενώ ο 2nd Combination αποτυγχάνει, καθώς χρησιμοποιείται η sigmoid με μεθόδους gradient descent.\n",
        "- AlexNet: Ομοίως με το πρώτο μοντέλο, ο Adam optimizer υπερτερεί του SGD, ο οποίος φαίνεται να οδηγεί το μοντέλο πιο γρήγορο προς φαινόμενα overfitting.\n",
        "- VGG: σε αντίθεση με τα δύο πρώτα μοντέλα, ο 2nd Combination με τον SGD optimizer φαίνεται να δίνει καλύτερα ποσοστά ευστοχίας.\n",
        "- My CNN: ο 1st Combination για το MyCNN δίνει καλύτερο αποτελέσματα accuracy."
      ],
      "metadata": {
        "id": "xFW9l4FdFTKk"
      }
    },
    {
      "cell_type": "markdown",
      "source": [
        "#### **Ευστοχία Μοντέλων σε Κοινό Διάγραμμα**\n",
        "\n",
        "Έπειτα, σε κοινό διάγραμμα σχεδιάζονται οι καμπύλες ευστοχίας για όλα τα μοντέλα που εκπαιδεύτηκαν ανά εποχή - τόσο για το train dataset όσο και για το validation set. \n",
        "\n",
        "Για κάθε μοντέλο, διατηρείται η παραμετροποίηση με τα καλύτερα ποσοστά ευστοχίας."
      ],
      "metadata": {
        "id": "9ZEzWNiLGrfv"
      }
    },
    {
      "cell_type": "code",
      "source": [
        "def plot_all(histories, labels):\n",
        "    fig = plt.figure(figsize=(9,9))\n",
        "    plt.title(\"Train and Validation Accuracy of Neural Network Models\")\n",
        "    i=0\n",
        "    colors = ['b','r','g','m','y']\n",
        "    for history in histories:\n",
        "        plt.plot(history.history['accuracy'], label=labels[i]+': accuracy', color=colors[i%5])\n",
        "        plt.plot(history.history['val_accuracy'], linestyle='dashed', label = labels[i] + ': val_accuracy',color=colors[i%5])\n",
        "        i+=1\n",
        "\n",
        "    plt.xlabel('Epochs')\n",
        "    plt.ylabel('Accuracy')\n",
        "    plt.legend(loc='lower right')"
      ],
      "metadata": {
        "id": "evpu0CzeGwGx"
      },
      "execution_count": null,
      "outputs": []
    },
    {
      "cell_type": "code",
      "source": [
        "plot_all([model_history1, model_history3, model_history6, model_history7], ['LeNet','AlexNet','VGG','MyCNN'])"
      ],
      "metadata": {
        "id": "autN0y-RGx0G",
        "colab": {
          "base_uri": "https://localhost:8080/",
          "height": 567
        },
        "outputId": "5b6b8b3b-7009-424e-fef7-ff2695953cfe"
      },
      "execution_count": null,
      "outputs": [
        {
          "output_type": "display_data",
          "data": {
            "text/plain": [
              "<Figure size 648x648 with 1 Axes>"
            ],
            "image/png": "[encoded data removed]"
          },
          "metadata": {
            "needs_background": "light"
          }
        }
      ]
    },
    {
      "cell_type": "markdown",
      "source": [
        "**Σχολιασμός**\n",
        "\n",
        "---\n",
        "\n",
        "- **Επίδραση του πλήθους των δεδομένων/κλάσεων στην απόδοση του μοντέλου:**<br> Παρατηρείται ότι, όπως είναι γνωστό από την θεωρία, αυξάνοντας το πλήθος των εικόνων εισόδου της βάσης CIFAR-100 για την εκπαίδευση του CNN, η απόδοση του δικτύου μειώνεται, ενώ αυξάνεται ο χρόνος που απαιτείται για την ολοκλήρωση κάθε εποχής. Αυτό συμβαίνει διότι, εισάγοντας περισσότερες εικόνες δημιουργούνται επιπλέον κλάσεις και άρα το πρόβλημα του image classification γίνεται πιο σύνθετο (επιτάσσει τη χρήση μεγαλύτερων training sets), επιφέροντας μικρότερη ευστοχία. Δηλαδή, όσον αφορά το πλήθος των δεδομένων, οδηγεί σε μεγαλύτερη ακρίβεια μιας και όταν υπάρχει ένας μικρός αριθμός παραδειγμάτων εκπαίδευσης το μοντέλο μερικές φορές μαθαίνει από θορύβους ή ανεπιθύμητες λεπτομέρειες από παραδείγματα του συνόλου εκπαίδευσης σε βαθμό που επηρεάζει αρνητικά την απόδοση του μοντέλου σε νέα παραδείγματα (overfitting). Αναφορικά με το πλήθος των κλάσεων, όσο περισσότερες κλάσεις έχουμε τόσο μειώνεται η ακρίβεια, καθώς με την αύξηση του αριθμού των κλάσεων, εικόνες που ανήκουν σε κλάσεις οι οποίες έχουν αρκετά κοινά στοιχεία είναι πιο δύσκολο να ταξινομηθούν μιας και αυξάνονται οι λεπτομέρειες οι οποίες οφείλονται για τον διαχωρισμό αυτό. Επιπλέον, η φόρτωση επιπλέον εικόνων επιβαρύνει αισθητά τη μνήμη του συστήματος και άρα την ταχύτητα εκπαίδευσης του δικτύου, γι'αυτό και όπως θα φανεί στη συνέχεια προτιμάται η χρήση κάποιας μεθόδου data augmentation.\n",
        "\n",
        "- **Επίδραση του αλγόριθμου βελτιστοποίησης (optimizer):**<br>\n",
        "Στα πειράματα, φάνηκε ότι από τους optimizers Adam, Adamax, Nadam και RMSprop, ο optimizer Adam έδωσε πολύ καλύτερα αποτελέσματα από τους υπόλοιπους οδηγώντας σε μεγαλύτερες τιμές accuracy ενώ αντίθετα οι υπόλοιποι optimizers έδωσαν ένα χαμηλό accuracy. Μάλιστα, ο Adam optimizer επιτυγχάνει πιο γρήγορη σύγκλιση σε σύγκριση με τον SGD Optimizer, ο οποίος απαιτεί τη διέλευση πολλών εποχών για την επίτευξη ικανοποιητικών ποσοστών ευστοχίας. Επιπλέον, με εξαίρεση το VGG δίκτυο, o Adam optimizer επιφέρει καλύτερα ποσοστά ευστοχίας από τον SGD, ο οποίος πιο εύκολα \"εγκλωβίζεται\" σε τοπικά ελάχιστα της συνάρτησης κόστους ή σε φαινόμενα overfitting. Σημειώνεται ακόμη ότι ο Adagrad optimizer επιτυγχάνει μεγαλύτερη ευρωστία από τον SGD. Όσον αφορά την μορφή που έχει η γραφική παράσταση για κάθε optimizer, παρατηρείται ότι για όλους τους optimizers η ευθεία της ορθότητας εκπαίδευσης δεν είχε απότομες μεταβολές, αλλά η ευθεία της ορθότητας επικύρωσης είχε έντονες μεταβολές στις περισσότερες περιπτώσεις για τον optimizer Adam και ήταν ομαλή για τους υπολοίπους optimizers. Υπογραμμίζεται ότι η μορφή των ευθειών έχει να κάνει με το πόσο γρήγορα κλιμακώνει η εκάστοτε ορθότητα και αν παρουσιάζει έντονες αυξομοιώσεις κατά την διάρκεια της μεταγλώττισης που μπορεί να οφείλονται σε δυσκολίες εκπαίδευσης του νευρωνικού για συγκεκριμένες κλάσεις.\n",
        "\n",
        "- **Επίδραση του μεγέθους δέσμης (batch size):**<br>\n",
        "Είναι γνωστό ότι αυξάνοντας το batch size (μέγεθος παρτίδας: το πλήθος των δειγμάτων εκπαίδευσης σε ένα πέρασμα εμπρός / πίσω) παρατηρείται ότι η εκπαίδευση του νευρωνικού ανά εποχή τερματίζει πιο γρήγορα, ωστόσο η συνολική σύγκλιση σε ικανοποιητικά ποσοστά ευστοχίας επιβραδύνεται. Αυτό έχει σαν αποτέλεσμα για μεγαλύτερο batch size να χρειάζονται λιγότερες επαναλήψεις ανά epoch και άρα μεγαλύτερη ταχύτητα στην εκπαίδευση του νευρωνικού, κάτι το οποίο έγινε αντιληπτό κατά την διάρκεια της εκπαίδευσης των νευρωνικών όπου οι πειραματισμοί με μεγάλο batch size καθυστερούσαν αρκετά να δώσουν αποτέλεσμα. Υπάρχει ωστόσο ένα trade-off μεταξύ ταχύτητας και ακρίβειας όσον αφορά το batch size. Πιο συγκεκριμένα, για μικρό batch size γίνονται περισσότερες επαναλήψεις ανά epoche, όπου σε κάθε επανάληψη το νευρωνικό τροφοδοτείται με περισσότερη πληροφορία, κάτι το οποίο, όπως είναι λογικό οδηγεί σε αύξηση του accuracy.Γενικότερα μεγαλύτερο batch size επιτυγχάνει μικρότερο variance στο μοντέλο αφού κάθε φορά η ενημέρωση γίνεται βάσει πολλών εικόνων εισόδου. Από την άλλη, επιλέγοντας μικρότερο batch size σε συνδυασμό με τεχνικές μάθησης gradient descent, προστίθεται επιπλέον θόρυβος στην εκπαίδευση του μοντέλου, ώστε αυτό να απεγκλωβίζεται με ευκολία από τοπικά ελάχιστα της συνάρτησης κριτηρίου. Στην πράξη, βέβαια, αποφεύγεται η επιλογή πάρα πολύ μικρού batch size, καθώς τα ποσοστά accuracy δεν θα είναι ικανοποιητικά.\n",
        "\n",
        "- **Επίδραση της συνάρτησης κόστους (loss function):**<br>\n",
        "Τέλος, η συνάρτηση κόστους που χρησιμοποιείται είναι η sparse categorical crossentropy, καθώς πρόκειται για ένα multiclass image classification πρόβλημα. \n"
      ],
      "metadata": {
        "id": "TYJx6z1aG1fw"
      }
    },
    {
      "cell_type": "markdown",
      "source": [
        "#### **Βήμα 3: Αξιολόγηση ορθότητας**\n",
        "\n",
        "Αξιολογήστε την ορθότητα για το test set σας."
      ],
      "metadata": {
        "id": "0n_KSlAqA4FX"
      }
    },
    {
      "cell_type": "markdown",
      "source": [
        "#### **LeNet Model**"
      ],
      "metadata": {
        "id": "7JPvrm3_G9sG"
      }
    },
    {
      "cell_type": "code",
      "source": [
        "print(\"1st combination of LeNet Model\")\n",
        "model_evaluation(LeNet1, 20)\n",
        "print(\"\\n\")\n",
        "print(\"2nd combination of LeNet Model\")\n",
        "model_evaluation(LeNet2, 20)"
      ],
      "metadata": {
        "id": "hiEXjnEDA6ih",
        "colab": {
          "base_uri": "https://localhost:8080/"
        },
        "outputId": "3ea2a0c7-7112-4667-d953-1aa1359dca47"
      },
      "execution_count": null,
      "outputs": [
        {
          "output_type": "stream",
          "name": "stdout",
          "text": [
            "1st combination of LeNet Model\n",
            "\n",
            "Test set Evaluation metrics\n",
            "20/20 [==============================] - 0s 4ms/step - loss: 2.0306 - accuracy: 0.3740\n",
            "Loss: 2.03\n",
            "Accuracy: 0.37\n",
            "\n",
            "\n",
            "2nd combination of LeNet Model\n",
            "\n",
            "Test set Evaluation metrics\n",
            "20/20 [==============================] - 0s 3ms/step - loss: 2.9960 - accuracy: 0.0500\n",
            "Loss: 3.00\n",
            "Accuracy: 0.05\n"
          ]
        }
      ]
    },
    {
      "cell_type": "markdown",
      "source": [
        "#### **AlexNet Model**"
      ],
      "metadata": {
        "id": "t2ISz5t4HWXw"
      }
    },
    {
      "cell_type": "code",
      "source": [
        "print(\"1st combination of AlexNet Model\")\n",
        "model_evaluation(AlexNet1, 20)\n",
        "print(\"\\n\")\n",
        "print(\"2nd combination of AlexNet Model\")\n",
        "model_evaluation(AlexNet2, 20)"
      ],
      "metadata": {
        "id": "fZ9wyBivHfiS",
        "colab": {
          "base_uri": "https://localhost:8080/"
        },
        "outputId": "9f6dcc7f-2ba9-41f3-f005-48e600ebe083"
      },
      "execution_count": null,
      "outputs": [
        {
          "output_type": "stream",
          "name": "stdout",
          "text": [
            "1st combination of AlexNet Model\n",
            "\n",
            "Test set Evaluation metrics\n",
            "20/20 [==============================] - 2s 66ms/step - loss: 1.5300 - accuracy: 0.5840\n",
            "Loss: 1.53\n",
            "Accuracy: 0.58\n",
            "\n",
            "\n",
            "2nd combination of AlexNet Model\n",
            "\n",
            "Test set Evaluation metrics\n",
            "20/20 [==============================] - 1s 67ms/step - loss: 2.2170 - accuracy: 0.5670\n",
            "Loss: 2.22\n",
            "Accuracy: 0.57\n"
          ]
        }
      ]
    },
    {
      "cell_type": "markdown",
      "source": [
        "#### **VGG Model**"
      ],
      "metadata": {
        "id": "W6VI61FJHq_X"
      }
    },
    {
      "cell_type": "code",
      "source": [
        "print(\"1st combination of VGG Model\")\n",
        "model_evaluation(vgg1, 20)\n",
        "print(\"\\n\")\n",
        "print(\"2nd combination of VGG Model\")\n",
        "model_evaluation(vgg2, 20)"
      ],
      "metadata": {
        "id": "-SvyHFHIHsr7",
        "colab": {
          "base_uri": "https://localhost:8080/"
        },
        "outputId": "1004d8d1-efee-4341-93f5-1c4e03385442"
      },
      "execution_count": null,
      "outputs": [
        {
          "output_type": "stream",
          "name": "stdout",
          "text": [
            "1st combination of VGG Model\n",
            "\n",
            "Test set Evaluation metrics\n",
            "20/20 [==============================] - 26s 475ms/step - loss: 2.7123 - accuracy: 0.4125\n",
            "Loss: 2.71\n",
            "Accuracy: 0.41\n",
            "\n",
            "\n",
            "2nd combination of VGG Model\n",
            "\n",
            "Test set Evaluation metrics\n",
            "20/20 [==============================] - 10s 476ms/step - loss: 1.6062 - accuracy: 0.6085\n",
            "Loss: 1.61\n",
            "Accuracy: 0.61\n"
          ]
        }
      ]
    },
    {
      "cell_type": "markdown",
      "source": [
        "#### **My CNN Model**"
      ],
      "metadata": {
        "id": "JuqYPEgvHyhY"
      }
    },
    {
      "cell_type": "code",
      "source": [
        "print(\"1st combination of My CNN Model\")\n",
        "model_evaluation(mycnn1, 20)\n",
        "print(\"\\n\")\n",
        "print(\"2nd combination of My CNN Model\")\n",
        "model_evaluation(mycnn2, 20)"
      ],
      "metadata": {
        "id": "dFAlmISuH4eB",
        "colab": {
          "base_uri": "https://localhost:8080/"
        },
        "outputId": "6b33fffa-0e15-46a1-c073-24cb4099a791"
      },
      "execution_count": null,
      "outputs": [
        {
          "output_type": "stream",
          "name": "stdout",
          "text": [
            "1st combination of My CNN Model\n",
            "\n",
            "Test set Evaluation metrics\n",
            "20/20 [==============================] - 1s 15ms/step - loss: 1.9549 - accuracy: 0.6070\n",
            "Loss: 1.95\n",
            "Accuracy: 0.61\n",
            "\n",
            "\n",
            "2nd combination of My CNN Model\n",
            "\n",
            "Test set Evaluation metrics\n",
            "20/20 [==============================] - 0s 15ms/step - loss: 2.5561 - accuracy: 0.2165\n",
            "Loss: 2.56\n",
            "Accuracy: 0.22\n"
          ]
        }
      ]
    },
    {
      "cell_type": "markdown",
      "source": [
        "**Σχολιασμός**\n",
        "\n",
        "---\n",
        "\n",
        "Παρατηρείται ότι το accuracy είναι αισθητά μικρότερο σε σχέση με το accuracy κατά την εκπαίδευση. Αυτό πιθανόν να οφείλεται στο φαινόμενο overfitting, ότι δηλαδή ενώ το μοντέλο μας έχει εκπαιδευτεί καλά (δηλαδή έχει μεγάλο accuracy), όταν πάει να εφαρμοστεί στις test εικόνες τότε μαθαίνει από θορύβους ή ανεπιθύμητες λεπτομέρειες και δυσκολεύεται να ανιχνεύσει καλά όσα χαρακτηριστικά χρειάζονται. Επιπροσθέτως, τα μεγέθη loss και accuracy δεν έχουν κάποια σταθερή σχέση αναλογίας μιας και σε μερικά μοντέλα με μεγαλύτερο accuracy το loss είναι μικρότερο ενώ σε άλλα, με μεγαλύτερο accuracy το loss είναι μεγαλύτερο. Αυτό αιτιολογείται από τον τρόπο με τον οποίο υλοποιείται το κάθε μοντέλο, ο οποίος επηρεάζει την συμπεριφορά που θα έχει το μοντέλο απέναντι σε συγκεκριμένες κλάσεις. Τέλος, φαίνεται πως το AlexNet και το VGG έχουν καλύτερο accuracy από το παλιότερο LeNet, ενώ το VGG έχει καλύτερο accuracy και από το AlexNet.\n"
      ],
      "metadata": {
        "id": "BdAHWqLdNHWi"
      }
    },
    {
      "cell_type": "markdown",
      "source": [
        "### **Ερώτημα 2**"
      ],
      "metadata": {
        "id": "Do7vH8fQII9r"
      }
    },
    {
      "cell_type": "markdown",
      "source": [
        "#### **Βήμα 1: Έλεγχος υπερεκπαίδευσης**\n",
        "\n",
        "Για τον καλύτερο συνδυασμό που λάβατε από το Ερώτημα 1 για μοντέλο σας  (MyCNN) και μόνο, δοκιμάστε διάφορους συνδυασμούς των ακόλουθων τεχνικών για τον έλεγχο της υπερεκπαίδευσης (overfitting), όπως: \n",
        "- Πρόωρος τερματισμός (early stopping [tf.keras.callbacks.EarlyStopping](https://www.tensorflow.org/api_docs/python/tf/keras/callbacks/EarlyStoppinghttps://)) \n",
        "\n",
        "- Dropout ([Dropout](https://www.tensorflow.org/tutorials/images/classification#dropout))\n",
        "\n",
        "- Επαύξηση δεδομένων ([Data augmentation](https://www.tensorflow.org/tutorials/images/classification#data_augmentation), [ImageDataGenerator](https://www.tensorflow.org/api_docs/python/tf/keras/preprocessing/image/ImageDataGenerator#class_imagedatagenerator)) \n",
        "\n",
        "ώστε το μοντέλο σας να γενικεύει καλύτερα."
      ],
      "metadata": {
        "id": "YhMJV0CJIXAm"
      }
    },
    {
      "cell_type": "markdown",
      "source": [
        "#### **Dropout**\n",
        "\n",
        "Με την τεχνικής αυτή αγνοούνται τυχαιοκρατικά συγκεκριμένες δομικές μονάδες του ΝΝ, κατά τη διάρκεια της εκπαίδευσης του, επιβάλλοντας σε αυτές μηδενικά βάρη. Έτσι, η κατανομή των τιμών που λαμβάνουν τα βάρη του νευρωνικού προσεγγίζουν την Κανονική Κατανομή (Gaussian), και τελικά περιορίζεται σε μεγάλο βαθμό το φαινόμενο του overfitting. \n",
        "\n",
        "Για αυτό το λόγο δημιουργείται εκ νέου το μοντέλο MyCNN που έδωσε τα καλύτερα αποτελέσματα με συμπλήρωμα τις τεχνικές dropout."
      ],
      "metadata": {
        "id": "QdkcMuRmIo09"
      }
    },
    {
      "cell_type": "code",
      "source": [
        "def MyCNN_dropout(combination = 1):\n",
        "\n",
        "    if combination == 1:\n",
        "        optimizer = 'adam'\n",
        "        loss = tf.keras.losses.sparse_categorical_crossentropy\n",
        "    else:\n",
        "        optimizer = 'adam'\n",
        "        loss = tf.keras.losses.categorical_crossentropy\n",
        "\n",
        "    model = models.Sequential()\n",
        "    model.add(layers.Conv2D(128, (3,3), padding=\"same\",input_shape=(32, 32, 3)))\n",
        "    model.add(tf.keras.layers.LeakyReLU())\n",
        "    model.add(layers.Conv2D(128, (3, 3), padding='same'))\n",
        "    model.add(layers.MaxPooling2D((2, 2)))\n",
        "    model.add(layers.Dropout(0.05))\n",
        "    model.add(tf.keras.layers.LeakyReLU())\n",
        "    model.add(layers.Conv2D(256, (3, 3), padding='same'))\n",
        "    model.add(tf.keras.layers.LeakyReLU())\n",
        "    model.add(layers.MaxPooling2D((2, 2)))\n",
        "    model.add(layers.Dropout(0.05))\n",
        "    model.add(layers.Conv2D(512, (3, 3), padding='same'))\n",
        "    model.add(tf.keras.layers.LeakyReLU())\n",
        "    model.add(layers.Conv2D(256, (3, 3)))\n",
        "    model.add(tf.keras.layers.LeakyReLU())\n",
        "    model.add(layers.MaxPooling2D((2, 2)))\n",
        "    model.add(layers.Dropout(0.05))\n",
        "    model.add(layers.Flatten())\n",
        "    model.add(layers.Dense(1024))\n",
        "    model.add(tf.keras.layers.LeakyReLU())\n",
        "    model.add(layers.Dropout(0.05))\n",
        "    model.add(layers.Dense(200))\n",
        "    model.add(tf.keras.layers.LeakyReLU())\n",
        "    model.add(layers.Dropout(0.05))\n",
        "    model.add(layers.Dense(classes_num, activation='softmax'))\n",
        "    model.add(layers.Dropout(0.05))\n",
        "\n",
        "    model.compile(optimizer=optimizer, loss=loss, metrics=['accuracy'])\n",
        "    \n",
        "    model.summary()\n",
        "    \n",
        "    return model"
      ],
      "metadata": {
        "id": "emMwHG77I1b4"
      },
      "execution_count": null,
      "outputs": []
    },
    {
      "cell_type": "markdown",
      "source": [
        "1st Combination of My CNN"
      ],
      "metadata": {
        "id": "vcC5a90RI3z1"
      }
    },
    {
      "cell_type": "code",
      "source": [
        "mycnn3 = MyCNN_dropout(combination = 1)"
      ],
      "metadata": {
        "id": "ygZDatosI3Zv",
        "colab": {
          "base_uri": "https://localhost:8080/"
        },
        "outputId": "59ff1604-4f70-4702-83e2-044fba3be3b1"
      },
      "execution_count": null,
      "outputs": [
        {
          "output_type": "stream",
          "name": "stdout",
          "text": [
            "Model: \"sequential_8\"\n",
            "_________________________________________________________________\n",
            " Layer (type)                Output Shape              Param #   \n",
            "=================================================================\n",
            " conv2d_50 (Conv2D)          (None, 32, 32, 128)       3584      \n",
            "                                                                 \n",
            " leaky_re_lu_12 (LeakyReLU)  (None, 32, 32, 128)       0         \n",
            "                                                                 \n",
            " conv2d_51 (Conv2D)          (None, 32, 32, 128)       147584    \n",
            "                                                                 \n",
            " max_pooling2d_20 (MaxPoolin  (None, 16, 16, 128)      0         \n",
            " g2D)                                                            \n",
            "                                                                 \n",
            " dropout_4 (Dropout)         (None, 16, 16, 128)       0         \n",
            "                                                                 \n",
            " leaky_re_lu_13 (LeakyReLU)  (None, 16, 16, 128)       0         \n",
            "                                                                 \n",
            " conv2d_52 (Conv2D)          (None, 16, 16, 256)       295168    \n",
            "                                                                 \n",
            " leaky_re_lu_14 (LeakyReLU)  (None, 16, 16, 256)       0         \n",
            "                                                                 \n",
            " max_pooling2d_21 (MaxPoolin  (None, 8, 8, 256)        0         \n",
            " g2D)                                                            \n",
            "                                                                 \n",
            " dropout_5 (Dropout)         (None, 8, 8, 256)         0         \n",
            "                                                                 \n",
            " conv2d_53 (Conv2D)          (None, 8, 8, 512)         1180160   \n",
            "                                                                 \n",
            " leaky_re_lu_15 (LeakyReLU)  (None, 8, 8, 512)         0         \n",
            "                                                                 \n",
            " conv2d_54 (Conv2D)          (None, 6, 6, 256)         1179904   \n",
            "                                                                 \n",
            " leaky_re_lu_16 (LeakyReLU)  (None, 6, 6, 256)         0         \n",
            "                                                                 \n",
            " max_pooling2d_22 (MaxPoolin  (None, 3, 3, 256)        0         \n",
            " g2D)                                                            \n",
            "                                                                 \n",
            " dropout_6 (Dropout)         (None, 3, 3, 256)         0         \n",
            "                                                                 \n",
            " flatten_8 (Flatten)         (None, 2304)              0         \n",
            "                                                                 \n",
            " dense_24 (Dense)            (None, 1024)              2360320   \n",
            "                                                                 \n",
            " leaky_re_lu_17 (LeakyReLU)  (None, 1024)              0         \n",
            "                                                                 \n",
            " dropout_7 (Dropout)         (None, 1024)              0         \n",
            "                                                                 \n",
            " dense_25 (Dense)            (None, 200)               205000    \n",
            "                                                                 \n",
            " leaky_re_lu_18 (LeakyReLU)  (None, 200)               0         \n",
            "                                                                 \n",
            " dropout_8 (Dropout)         (None, 200)               0         \n",
            "                                                                 \n",
            " dense_26 (Dense)            (None, 20)                4020      \n",
            "                                                                 \n",
            " dropout_9 (Dropout)         (None, 20)                0         \n",
            "                                                                 \n",
            "=================================================================\n",
            "Total params: 5,375,740\n",
            "Trainable params: 5,375,740\n",
            "Non-trainable params: 0\n",
            "_________________________________________________________________\n"
          ]
        }
      ]
    },
    {
      "cell_type": "markdown",
      "source": [
        "#### **Early Stopping**\n",
        "\n",
        "Με την τεχνική του Early Stopping, η εκπαίδευση του ΝΝ τερματίζεται όταν η απόδοση του παύει να βελτιώνεται μετά το πέρας κάποιων εποχών. Έτσι, αποτρέπεται η εμφάνιση φαινομένων overfitting, όμως το σφάλμα γενίκευσης τείνει να αυξηθεί. \n",
        "\n",
        "Πρώτα, γίνεται εκπαίδευση του εφοδιασμένου με dropouts MyCNN με χρήση τεχνικών Early Stopping, και ειδικότερα τερματίζοντας την διαδικασία έπειτα από 3 διαδοχικές μειώσεις της απόδοσης."
      ],
      "metadata": {
        "id": "sGM_YGRLJCHv"
      }
    },
    {
      "cell_type": "code",
      "source": [
        "callback = tf.keras.callbacks.EarlyStopping(monitor='loss', patience=3)\n",
        "\n",
        "model_history9 = mycnn3.fit(x_train, y_train, epochs=50, batch_size=128, validation_data=(x_val, y_val) ,callbacks = callback)\n",
        "\n",
        "mycnn3.save('mycnn3_earlystop.h5')"
      ],
      "metadata": {
        "id": "CGz0NXslJUBY",
        "colab": {
          "base_uri": "https://localhost:8080/"
        },
        "outputId": "189753a7-f61f-463c-d084-3b8bb776bf6f"
      },
      "execution_count": null,
      "outputs": [
        {
          "output_type": "stream",
          "name": "stdout",
          "text": [
            "Epoch 1/50\n",
            "67/67 [==============================] - 5s 53ms/step - loss: 3.4254 - accuracy: 0.1282 - val_loss: 2.4843 - val_accuracy: 0.2393\n",
            "Epoch 2/50\n",
            "67/67 [==============================] - 3s 49ms/step - loss: 2.8745 - accuracy: 0.2981 - val_loss: 2.0871 - val_accuracy: 0.3660\n",
            "Epoch 3/50\n",
            "67/67 [==============================] - 3s 49ms/step - loss: 2.5727 - accuracy: 0.3932 - val_loss: 1.8900 - val_accuracy: 0.4227\n",
            "Epoch 4/50\n",
            "67/67 [==============================] - 3s 49ms/step - loss: 2.2421 - accuracy: 0.4776 - val_loss: 1.7112 - val_accuracy: 0.4833\n",
            "Epoch 5/50\n",
            "67/67 [==============================] - 3s 51ms/step - loss: 2.0582 - accuracy: 0.5331 - val_loss: 1.5246 - val_accuracy: 0.5300\n",
            "Epoch 6/50\n",
            "67/67 [==============================] - 3s 49ms/step - loss: 1.8951 - accuracy: 0.5805 - val_loss: 1.4506 - val_accuracy: 0.5713\n",
            "Epoch 7/50\n",
            "67/67 [==============================] - 3s 49ms/step - loss: 1.6676 - accuracy: 0.6449 - val_loss: 1.5440 - val_accuracy: 0.5593\n",
            "Epoch 8/50\n",
            "67/67 [==============================] - 3s 49ms/step - loss: 1.4963 - accuracy: 0.6855 - val_loss: 1.5829 - val_accuracy: 0.5887\n",
            "Epoch 9/50\n",
            "67/67 [==============================] - 3s 49ms/step - loss: 1.3216 - accuracy: 0.7220 - val_loss: 1.5631 - val_accuracy: 0.6040\n",
            "Epoch 10/50\n",
            "67/67 [==============================] - 3s 49ms/step - loss: 1.2517 - accuracy: 0.7401 - val_loss: 1.6970 - val_accuracy: 0.6107\n",
            "Epoch 11/50\n",
            "67/67 [==============================] - 3s 49ms/step - loss: 1.0701 - accuracy: 0.7766 - val_loss: 1.9642 - val_accuracy: 0.6120\n",
            "Epoch 12/50\n",
            "67/67 [==============================] - 3s 49ms/step - loss: 1.0624 - accuracy: 0.7892 - val_loss: 2.0985 - val_accuracy: 0.6253\n",
            "Epoch 13/50\n",
            "67/67 [==============================] - 3s 51ms/step - loss: 1.0636 - accuracy: 0.7927 - val_loss: 2.3629 - val_accuracy: 0.5960\n",
            "Epoch 14/50\n",
            "67/67 [==============================] - 3s 49ms/step - loss: 1.1247 - accuracy: 0.7940 - val_loss: 2.5434 - val_accuracy: 0.5940\n",
            "Epoch 15/50\n",
            "67/67 [==============================] - 3s 49ms/step - loss: 0.8793 - accuracy: 0.8318 - val_loss: 2.7915 - val_accuracy: 0.5953\n",
            "Epoch 16/50\n",
            "67/67 [==============================] - 3s 51ms/step - loss: 0.7806 - accuracy: 0.8526 - val_loss: 3.1309 - val_accuracy: 0.6107\n",
            "Epoch 17/50\n",
            "67/67 [==============================] - 3s 48ms/step - loss: 0.7772 - accuracy: 0.8536 - val_loss: 3.5580 - val_accuracy: 0.6207\n",
            "Epoch 18/50\n",
            "67/67 [==============================] - 3s 48ms/step - loss: 0.7972 - accuracy: 0.8582 - val_loss: 3.5712 - val_accuracy: 0.6180\n",
            "Epoch 19/50\n",
            "67/67 [==============================] - 3s 49ms/step - loss: 0.9551 - accuracy: 0.8365 - val_loss: 3.5183 - val_accuracy: 0.6033\n",
            "Epoch 20/50\n",
            "67/67 [==============================] - 3s 49ms/step - loss: 0.7297 - accuracy: 0.8673 - val_loss: 3.6961 - val_accuracy: 0.6080\n",
            "Epoch 21/50\n",
            "67/67 [==============================] - 3s 48ms/step - loss: 0.7327 - accuracy: 0.8711 - val_loss: 3.5251 - val_accuracy: 0.6293\n",
            "Epoch 22/50\n",
            "67/67 [==============================] - 3s 50ms/step - loss: 0.6190 - accuracy: 0.8878 - val_loss: 3.9327 - val_accuracy: 0.6207\n",
            "Epoch 23/50\n",
            "67/67 [==============================] - 3s 50ms/step - loss: 0.6466 - accuracy: 0.8893 - val_loss: 4.2095 - val_accuracy: 0.6127\n",
            "Epoch 24/50\n",
            "67/67 [==============================] - 3s 48ms/step - loss: 0.7866 - accuracy: 0.8673 - val_loss: 4.6058 - val_accuracy: 0.5927\n",
            "Epoch 25/50\n",
            "67/67 [==============================] - 3s 50ms/step - loss: 1.6288 - accuracy: 0.8000 - val_loss: 5.8416 - val_accuracy: 0.5533\n"
          ]
        }
      ]
    },
    {
      "cell_type": "markdown",
      "source": [
        "#### **Data Augmentation**\n",
        "\n",
        "Με την τεχνικής του Data Augmentation, αντιμετωπίζεται το πρόβλημα ανεπάρκειας δεδομένων εκπαίδευσης καθώς δημιουργούνται νέα δεδομένα, εφαρμόζοντας τυχαίους μετασχηματισμούς στα ήδη υπάρχοντα και κατατάσσονται στην ίδια κλάση με αυτά από τα οποία προήλθαν."
      ],
      "metadata": {
        "id": "aVhisaE8JWs2"
      }
    },
    {
      "cell_type": "code",
      "source": [
        "from tensorflow.keras.utils import to_categorical"
      ],
      "metadata": {
        "id": "GAcngnReJb2j"
      },
      "execution_count": null,
      "outputs": []
    },
    {
      "cell_type": "code",
      "source": [
        "# Apply data augmentation\n",
        "y_train_aug = to_categorical(y_train, classes_num)\n",
        "y_test_aug = to_categorical(y_test, classes_num)\n",
        "y_val_aug = to_categorical(y_val, classes_num)\n",
        "\n",
        "# Data generator for train and validation set\n",
        "data_generator = tf.keras.preprocessing.image.ImageDataGenerator(\n",
        "    featurewise_center=True,\n",
        "    featurewise_std_normalization=True,\n",
        "    rotation_range=10,\n",
        "    width_shift_range=0.1,\n",
        "    height_shift_range=0.1,\n",
        "    horizontal_flip=True,\n",
        "    zoom_range=0.2)\n",
        "\n",
        "# Data generator for test set\n",
        "test_data_generator = tf.keras.preprocessing.image.ImageDataGenerator(rescale=1./255)\n",
        "\n",
        "# compute quantities required for featurewise normalization (std, mean, and principal components)\n",
        "data_generator.fit(x_train)"
      ],
      "metadata": {
        "id": "z4nKEi5_JdLg"
      },
      "execution_count": null,
      "outputs": []
    },
    {
      "cell_type": "markdown",
      "source": [
        "Ύστερα, εκπαιδεύεται εκ νέου το MyCNN πάνω στα επαυξημένα δεδομένα, συνδυάζοντας και τις τεχνικές Dropout και Early Stopping."
      ],
      "metadata": {
        "id": "fN8ehljWJfYO"
      }
    },
    {
      "cell_type": "markdown",
      "source": [
        "2nd Combination of My CNN Model - categorical crossentropy loss"
      ],
      "metadata": {
        "id": "cEcMU4nsJlKK"
      }
    },
    {
      "cell_type": "code",
      "source": [
        "mycnn4 = MyCNN_dropout(combination = 2)"
      ],
      "metadata": {
        "id": "GHIKTDNqJgCZ",
        "colab": {
          "base_uri": "https://localhost:8080/"
        },
        "outputId": "835a8209-7bf3-49bb-a9f8-891a700563d6"
      },
      "execution_count": null,
      "outputs": [
        {
          "output_type": "stream",
          "name": "stdout",
          "text": [
            "Model: \"sequential_9\"\n",
            "_________________________________________________________________\n",
            " Layer (type)                Output Shape              Param #   \n",
            "=================================================================\n",
            " conv2d_55 (Conv2D)          (None, 32, 32, 128)       3584      \n",
            "                                                                 \n",
            " leaky_re_lu_19 (LeakyReLU)  (None, 32, 32, 128)       0         \n",
            "                                                                 \n",
            " conv2d_56 (Conv2D)          (None, 32, 32, 128)       147584    \n",
            "                                                                 \n",
            " max_pooling2d_23 (MaxPoolin  (None, 16, 16, 128)      0         \n",
            " g2D)                                                            \n",
            "                                                                 \n",
            " dropout_10 (Dropout)        (None, 16, 16, 128)       0         \n",
            "                                                                 \n",
            " leaky_re_lu_20 (LeakyReLU)  (None, 16, 16, 128)       0         \n",
            "                                                                 \n",
            " conv2d_57 (Conv2D)          (None, 16, 16, 256)       295168    \n",
            "                                                                 \n",
            " leaky_re_lu_21 (LeakyReLU)  (None, 16, 16, 256)       0         \n",
            "                                                                 \n",
            " max_pooling2d_24 (MaxPoolin  (None, 8, 8, 256)        0         \n",
            " g2D)                                                            \n",
            "                                                                 \n",
            " dropout_11 (Dropout)        (None, 8, 8, 256)         0         \n",
            "                                                                 \n",
            " conv2d_58 (Conv2D)          (None, 8, 8, 512)         1180160   \n",
            "                                                                 \n",
            " leaky_re_lu_22 (LeakyReLU)  (None, 8, 8, 512)         0         \n",
            "                                                                 \n",
            " conv2d_59 (Conv2D)          (None, 6, 6, 256)         1179904   \n",
            "                                                                 \n",
            " leaky_re_lu_23 (LeakyReLU)  (None, 6, 6, 256)         0         \n",
            "                                                                 \n",
            " max_pooling2d_25 (MaxPoolin  (None, 3, 3, 256)        0         \n",
            " g2D)                                                            \n",
            "                                                                 \n",
            " dropout_12 (Dropout)        (None, 3, 3, 256)         0         \n",
            "                                                                 \n",
            " flatten_9 (Flatten)         (None, 2304)              0         \n",
            "                                                                 \n",
            " dense_27 (Dense)            (None, 1024)              2360320   \n",
            "                                                                 \n",
            " leaky_re_lu_24 (LeakyReLU)  (None, 1024)              0         \n",
            "                                                                 \n",
            " dropout_13 (Dropout)        (None, 1024)              0         \n",
            "                                                                 \n",
            " dense_28 (Dense)            (None, 200)               205000    \n",
            "                                                                 \n",
            " leaky_re_lu_25 (LeakyReLU)  (None, 200)               0         \n",
            "                                                                 \n",
            " dropout_14 (Dropout)        (None, 200)               0         \n",
            "                                                                 \n",
            " dense_29 (Dense)            (None, 20)                4020      \n",
            "                                                                 \n",
            " dropout_15 (Dropout)        (None, 20)                0         \n",
            "                                                                 \n",
            "=================================================================\n",
            "Total params: 5,375,740\n",
            "Trainable params: 5,375,740\n",
            "Non-trainable params: 0\n",
            "_________________________________________________________________\n"
          ]
        }
      ]
    },
    {
      "cell_type": "code",
      "source": [
        "callback = tf.keras.callbacks.EarlyStopping(monitor='loss', patience=3)\n",
        "\n",
        "model_history10 = mycnn4.fit(data_generator.flow(x_train, y_train_aug, batch_size=128), steps_per_epoch=len(x_train)/128, epochs=50, \n",
        "                             validation_data=data_generator.flow(x_val, y_val_aug, batch_size=128), validation_steps = len(x_val)/128, callbacks=callback)\n",
        "\n",
        "mycnn4.save('mycnn4_final.h5')"
      ],
      "metadata": {
        "id": "-1Ge-8esJp3H",
        "colab": {
          "base_uri": "https://localhost:8080/"
        },
        "outputId": "b90b1fab-b2b5-4cbf-ad91-04ab87703f66"
      },
      "execution_count": null,
      "outputs": [
        {
          "output_type": "stream",
          "name": "stdout",
          "text": [
            "Epoch 1/50\n",
            "66/66 [==============================] - 7s 88ms/step - loss: 3.2621 - accuracy: 0.1853 - val_loss: 2.3026 - val_accuracy: 0.3093\n",
            "Epoch 2/50\n",
            "66/66 [==============================] - 6s 86ms/step - loss: 2.7445 - accuracy: 0.3258 - val_loss: 2.0015 - val_accuracy: 0.4053\n",
            "Epoch 3/50\n",
            "66/66 [==============================] - 6s 84ms/step - loss: 2.5602 - accuracy: 0.3985 - val_loss: 1.8092 - val_accuracy: 0.4500\n",
            "Epoch 4/50\n",
            "66/66 [==============================] - 6s 86ms/step - loss: 2.3523 - accuracy: 0.4513 - val_loss: 1.6341 - val_accuracy: 0.4960\n",
            "Epoch 5/50\n",
            "66/66 [==============================] - 6s 84ms/step - loss: 2.2584 - accuracy: 0.4916 - val_loss: 1.4924 - val_accuracy: 0.5393\n",
            "Epoch 6/50\n",
            "66/66 [==============================] - 6s 85ms/step - loss: 2.0209 - accuracy: 0.5479 - val_loss: 1.4221 - val_accuracy: 0.5600\n",
            "Epoch 7/50\n",
            "66/66 [==============================] - 6s 86ms/step - loss: 1.9769 - accuracy: 0.5633 - val_loss: 1.3738 - val_accuracy: 0.5787\n",
            "Epoch 8/50\n",
            "66/66 [==============================] - 6s 84ms/step - loss: 1.9213 - accuracy: 0.5814 - val_loss: 1.3560 - val_accuracy: 0.5760\n",
            "Epoch 9/50\n",
            "66/66 [==============================] - 6s 84ms/step - loss: 1.9232 - accuracy: 0.5969 - val_loss: 1.1973 - val_accuracy: 0.6313\n",
            "Epoch 10/50\n",
            "66/66 [==============================] - 6s 86ms/step - loss: 1.7551 - accuracy: 0.6425 - val_loss: 1.2784 - val_accuracy: 0.6227\n",
            "Epoch 11/50\n",
            "66/66 [==============================] - 6s 85ms/step - loss: 1.7624 - accuracy: 0.6416 - val_loss: 1.1461 - val_accuracy: 0.6487\n",
            "Epoch 12/50\n",
            "66/66 [==============================] - 6s 86ms/step - loss: 1.7010 - accuracy: 0.6604 - val_loss: 1.1895 - val_accuracy: 0.6327\n",
            "Epoch 13/50\n",
            "66/66 [==============================] - 6s 84ms/step - loss: 1.6854 - accuracy: 0.6666 - val_loss: 1.2226 - val_accuracy: 0.6353\n",
            "Epoch 14/50\n",
            "66/66 [==============================] - 6s 87ms/step - loss: 1.7008 - accuracy: 0.6689 - val_loss: 1.1619 - val_accuracy: 0.6480\n",
            "Epoch 15/50\n",
            "66/66 [==============================] - 6s 87ms/step - loss: 1.6244 - accuracy: 0.6894 - val_loss: 1.1788 - val_accuracy: 0.6567\n",
            "Epoch 16/50\n",
            "66/66 [==============================] - 6s 87ms/step - loss: 1.6408 - accuracy: 0.6911 - val_loss: 1.1386 - val_accuracy: 0.6687\n",
            "Epoch 17/50\n",
            "66/66 [==============================] - 6s 86ms/step - loss: 1.5157 - accuracy: 0.7026 - val_loss: 1.2537 - val_accuracy: 0.6440\n",
            "Epoch 18/50\n",
            "66/66 [==============================] - 6s 85ms/step - loss: 1.5010 - accuracy: 0.7089 - val_loss: 1.1180 - val_accuracy: 0.6653\n",
            "Epoch 19/50\n",
            "66/66 [==============================] - 6s 86ms/step - loss: 1.5380 - accuracy: 0.7162 - val_loss: 1.2036 - val_accuracy: 0.6593\n",
            "Epoch 20/50\n",
            "66/66 [==============================] - 6s 86ms/step - loss: 1.5123 - accuracy: 0.7148 - val_loss: 1.1109 - val_accuracy: 0.6673\n",
            "Epoch 21/50\n",
            "66/66 [==============================] - 6s 85ms/step - loss: 1.4687 - accuracy: 0.7164 - val_loss: 1.0839 - val_accuracy: 0.6760\n",
            "Epoch 22/50\n",
            "66/66 [==============================] - 6s 85ms/step - loss: 1.4986 - accuracy: 0.7194 - val_loss: 1.1878 - val_accuracy: 0.6660\n",
            "Epoch 23/50\n",
            "66/66 [==============================] - 6s 84ms/step - loss: 1.4819 - accuracy: 0.7235 - val_loss: 1.2094 - val_accuracy: 0.6607\n",
            "Epoch 24/50\n",
            "66/66 [==============================] - 6s 85ms/step - loss: 1.5045 - accuracy: 0.7414 - val_loss: 1.1567 - val_accuracy: 0.6920\n"
          ]
        }
      ]
    },
    {
      "cell_type": "markdown",
      "source": [
        "#### **Βήμα 2: Αξιολόγηση**\n",
        "Αξιολογήστε της ορθότητας για το validation και το test set σας."
      ],
      "metadata": {
        "id": "PppSv2rLIeYd"
      }
    },
    {
      "cell_type": "markdown",
      "source": [
        "MyCNN Model - Dropout & Early Stopping"
      ],
      "metadata": {
        "id": "FJRs8rMSJwcA"
      }
    },
    {
      "cell_type": "code",
      "source": [
        "plot_accuracy(model_history9)\n",
        "plt.show()"
      ],
      "metadata": {
        "id": "BfPko259JuOJ",
        "colab": {
          "base_uri": "https://localhost:8080/",
          "height": 350
        },
        "outputId": "aac95211-7c01-470c-a704-34a2f1d72690"
      },
      "execution_count": null,
      "outputs": [
        {
          "output_type": "display_data",
          "data": {
            "text/plain": [
              "<Figure size 576x360 with 1 Axes>"
            ],
            "image/png": "[encoded data removed]"
          },
          "metadata": {
            "needs_background": "light"
          }
        }
      ]
    },
    {
      "cell_type": "markdown",
      "source": [
        "MyCNN Model - Dropout & Early Stopping & Data Augmentation"
      ],
      "metadata": {
        "id": "ccsZ7n35JxSh"
      }
    },
    {
      "cell_type": "code",
      "source": [
        "plot_accuracy(model_history10)\n",
        "plt.show()"
      ],
      "metadata": {
        "id": "4C9VdHAsJzgM",
        "colab": {
          "base_uri": "https://localhost:8080/",
          "height": 350
        },
        "outputId": "0b5e62a5-f3d0-4930-c384-9acdd3fa0bc6"
      },
      "execution_count": null,
      "outputs": [
        {
          "output_type": "display_data",
          "data": {
            "text/plain": [
              "<Figure size 576x360 with 1 Axes>"
            ],
            "image/png": "[encoded data removed]"
          },
          "metadata": {
            "needs_background": "light"
          }
        }
      ]
    },
    {
      "cell_type": "markdown",
      "source": [
        "MyCNN Model - Dropout, Early Stopping"
      ],
      "metadata": {
        "id": "XVO-VoS9KI58"
      }
    },
    {
      "cell_type": "code",
      "source": [
        "print('Validation set Evaluation metrics')\n",
        "loss, accuracy = mycnn3.evaluate(x_val, y_val)\n",
        "print(\"Loss: {:.2f}\".format(loss))\n",
        "print(\"Accuracy: {:.2f}\".format(accuracy))\n",
        "print(\"\\n\")\n",
        "print('Test set Evaluation metrics')\n",
        "loss, accuracy = mycnn3.evaluate(x_test, y_test)\n",
        "print(\"Loss: {:.2f}\".format(loss))\n",
        "print(\"Accuracy: {:.2f}\".format(accuracy))"
      ],
      "metadata": {
        "id": "cSfAnpD2J4p4",
        "colab": {
          "base_uri": "https://localhost:8080/"
        },
        "outputId": "4d52e1b0-2615-443b-b223-2c6dfac6f283"
      },
      "execution_count": null,
      "outputs": [
        {
          "output_type": "stream",
          "name": "stdout",
          "text": [
            "Validation set Evaluation metrics\n",
            "47/47 [==============================] - 1s 6ms/step - loss: 5.8416 - accuracy: 0.5533\n",
            "Loss: 5.84\n",
            "Accuracy: 0.55\n",
            "\n",
            "\n",
            "Test set Evaluation metrics\n",
            "63/63 [==============================] - 1s 9ms/step - loss: 5.9153 - accuracy: 0.5515\n",
            "Loss: 5.92\n",
            "Accuracy: 0.55\n"
          ]
        }
      ]
    },
    {
      "cell_type": "markdown",
      "source": [
        "MyCNN Model - Dropout, Early Stopping, Data Augmentation"
      ],
      "metadata": {
        "id": "5KH3aymkKL5b"
      }
    },
    {
      "cell_type": "code",
      "source": [
        "print('Validation set Evaluation metrics')\n",
        "loss, accuracy = mycnn4.evaluate(data_generator.flow(x_val, y_val_aug, batch_size=128))\n",
        "print(\"Loss: {:.2f}\".format(loss))\n",
        "print(\"Accuracy: {:.2f}\".format(accuracy))\n",
        "print(\"\\n\")\n",
        "print('Test set Evaluation metrics')\n",
        "loss, accuracy = mycnn4.evaluate(data_generator.flow(x_test, y_test_aug, batch_size=128))\n",
        "print(\"Loss: {:.2f}\".format(loss))\n",
        "print(\"Accuracy: {:.2f}\".format(accuracy))"
      ],
      "metadata": {
        "id": "WvWXYpD5KAsA",
        "colab": {
          "base_uri": "https://localhost:8080/"
        },
        "outputId": "5ea3cbdc-2a3d-43f1-bbdb-7915f143a7aa"
      },
      "execution_count": null,
      "outputs": [
        {
          "output_type": "stream",
          "name": "stdout",
          "text": [
            "Validation set Evaluation metrics\n",
            "12/12 [==============================] - 1s 66ms/step - loss: 1.2190 - accuracy: 0.6753\n",
            "Loss: 1.22\n",
            "Accuracy: 0.68\n",
            "\n",
            "\n",
            "Test set Evaluation metrics\n",
            "16/16 [==============================] - 1s 91ms/step - loss: 1.0855 - accuracy: 0.6880\n",
            "Loss: 1.09\n",
            "Accuracy: 0.69\n"
          ]
        }
      ]
    },
    {
      "cell_type": "markdown",
      "source": [
        "### **Ερώτημα 3**"
      ],
      "metadata": {
        "id": "s6XMTq6DLCek"
      }
    },
    {
      "cell_type": "markdown",
      "source": [
        "#### **Βήμα 1: Μεταφορά γνώσης**\n",
        "Εφαρμόστε μεταφορά γνώσης (transfer learning) στο δικό σας μοντέλο (MyCNN), που αξιολογήσατε ως καλύτερο προς την ορθότητα στην αντιμετώπιση της υπερεκπαίδεσης. \n",
        "\n",
        "Για το transfer learning, επιλέξτε το [VGG16](https://www.tensorflow.org/api_docs/python/tf/keras/applications/vgg16) για μεταφορά μάθησης.\n",
        "\n",
        "1. \"Παγώστε\" τη συνελικτική βάση και εκπαιδεύστε την κεφαλή ταξινόμησης (classification head - σημαία trainable = False).  \n",
        "\n",
        "2. Εκπαιδέστε μόνο ένα ποσοστό των επιπέδων, το οποίο βρίσκεται προς την έξοδο του δικτύου. Οι σημαίες trainable εδώ θα πρέπει να οριστούν ανά επίπεδο.\n",
        "\n",
        "3. Αξιολογήστε τα αποτελέσματά σας, βάσει της ορθότητας του validation set και του test set σας."
      ],
      "metadata": {
        "id": "1bDXyzYRKQH1"
      }
    },
    {
      "cell_type": "markdown",
      "source": [
        "#### **Transfer Learning 1: Load Pretrained Model and Freeze Convolutional Base**\n",
        "\n",
        "Πρώτα, γίνεται φόρτωση της κεφαλής του προεκπαιδευμένου νευρωνικού Δικτύου και μετά πάγωμα των βαρών της. Μετά, ενσωματώνεται η κεφαλή του MyCNN και εκπαιδεύονται μόνο τα βάρη της."
      ],
      "metadata": {
        "id": "NuG62YXRLODa"
      }
    },
    {
      "cell_type": "code",
      "source": [
        "pretrained_model = tf.keras.applications.VGG16(include_top=False, weights='imagenet', input_tensor=None, input_shape=(32,32,3),pooling=max, classes=classes_num)\n",
        "\n",
        "pretrained_model.trainable=False # Freeze Weights"
      ],
      "metadata": {
        "id": "Xbg1B4DcLOyP",
        "colab": {
          "base_uri": "https://localhost:8080/"
        },
        "outputId": "2b3c4810-6e39-4901-e6d3-8994783c0d23"
      },
      "execution_count": null,
      "outputs": [
        {
          "output_type": "stream",
          "name": "stdout",
          "text": [
            "Downloading data from https://storage.googleapis.com/tensorflow/keras-applications/vgg16/vgg16_weights_tf_dim_ordering_tf_kernels_notop.h5\n",
            "58892288/58889256 [==============================] - 1s 0us/step\n",
            "58900480/58889256 [==============================] - 1s 0us/step\n"
          ]
        }
      ]
    },
    {
      "cell_type": "markdown",
      "source": [
        "Combination of Pretrained Model with MyCNN"
      ],
      "metadata": {
        "id": "7OnRLD7RaV9D"
      }
    },
    {
      "cell_type": "code",
      "source": [
        "def transfer_model():\n",
        "    \n",
        "    model = models.Sequential([pretrained_model])\n",
        "    model.add(layers.Flatten()),\n",
        "    model.add(layers.Dense(1024)),\n",
        "    model.add(tf.keras.layers.LeakyReLU()),\n",
        "    model.add(layers.Dropout(0.15)),\n",
        "    model.add(layers.Dense(200))\n",
        "    model.add(tf.keras.layers.LeakyReLU())\n",
        "    model.add(layers.Dropout(0.18))\n",
        "    model.add(layers.Dense(classes_num, activation='softmax'))\n",
        "    model.add(layers.Dropout(0.2))\n",
        "    \n",
        "    model.compile(optimizer='adam', loss='categorical_crossentropy', metrics=['accuracy'])\n",
        "    \n",
        "    model.summary()\n",
        "    \n",
        "    return model"
      ],
      "metadata": {
        "id": "8Gww5tgMLQ-H"
      },
      "execution_count": null,
      "outputs": []
    },
    {
      "cell_type": "code",
      "source": [
        "transfer_model1 = transfer_model()"
      ],
      "metadata": {
        "id": "EqnmYe8OLS0V",
        "colab": {
          "base_uri": "https://localhost:8080/"
        },
        "outputId": "fdfb1a07-b5c8-44bd-cf27-cdb0aaec8013"
      },
      "execution_count": null,
      "outputs": [
        {
          "output_type": "stream",
          "name": "stdout",
          "text": [
            "Model: \"sequential_10\"\n",
            "_________________________________________________________________\n",
            " Layer (type)                Output Shape              Param #   \n",
            "=================================================================\n",
            " vgg16 (Functional)          (None, 1, 1, 512)         14714688  \n",
            "                                                                 \n",
            " flatten_10 (Flatten)        (None, 512)               0         \n",
            "                                                                 \n",
            " dense_30 (Dense)            (None, 1024)              525312    \n",
            "                                                                 \n",
            " leaky_re_lu_26 (LeakyReLU)  (None, 1024)              0         \n",
            "                                                                 \n",
            " dropout_16 (Dropout)        (None, 1024)              0         \n",
            "                                                                 \n",
            " dense_31 (Dense)            (None, 200)               205000    \n",
            "                                                                 \n",
            " leaky_re_lu_27 (LeakyReLU)  (None, 200)               0         \n",
            "                                                                 \n",
            " dropout_17 (Dropout)        (None, 200)               0         \n",
            "                                                                 \n",
            " dense_32 (Dense)            (None, 20)                4020      \n",
            "                                                                 \n",
            " dropout_18 (Dropout)        (None, 20)                0         \n",
            "                                                                 \n",
            "=================================================================\n",
            "Total params: 15,449,020\n",
            "Trainable params: 734,332\n",
            "Non-trainable params: 14,714,688\n",
            "_________________________________________________________________\n"
          ]
        }
      ]
    },
    {
      "cell_type": "markdown",
      "source": [
        "Train Model"
      ],
      "metadata": {
        "id": "QO7lz7_lajEX"
      }
    },
    {
      "cell_type": "code",
      "source": [
        "callback = tf.keras.callbacks.EarlyStopping(monitor='loss', patience=3)\n",
        "\n",
        "model_history11 = transfer_model1.fit(data_generator.flow(x_train, y_train_aug, batch_size=128), steps_per_epoch=len(x_train)/128, epochs=25, \n",
        "                                      validation_data=data_generator.flow(x_val, y_val_aug, batch_size=128), validation_steps = len(x_val)/128, callbacks=callback)\n",
        "\n",
        "transfer_model1.save('transfer1.h5')"
      ],
      "metadata": {
        "id": "nF4getWmLUfZ",
        "colab": {
          "base_uri": "https://localhost:8080/"
        },
        "outputId": "e099eb51-9269-4818-bba3-13e0db7303f0"
      },
      "execution_count": null,
      "outputs": [
        {
          "output_type": "stream",
          "name": "stdout",
          "text": [
            "Epoch 1/25\n",
            "66/66 [==============================] - 8s 95ms/step - loss: 4.6481 - accuracy: 0.3351 - val_loss: 1.6033 - val_accuracy: 0.5067\n",
            "Epoch 2/25\n",
            "66/66 [==============================] - 5s 77ms/step - loss: 4.3603 - accuracy: 0.4426 - val_loss: 1.5206 - val_accuracy: 0.5140\n",
            "Epoch 3/25\n",
            "66/66 [==============================] - 5s 80ms/step - loss: 4.4039 - accuracy: 0.4607 - val_loss: 1.5053 - val_accuracy: 0.5260\n",
            "Epoch 4/25\n",
            "66/66 [==============================] - 5s 80ms/step - loss: 4.1799 - accuracy: 0.4815 - val_loss: 1.4621 - val_accuracy: 0.5393\n",
            "Epoch 5/25\n",
            "66/66 [==============================] - 5s 80ms/step - loss: 4.1179 - accuracy: 0.4931 - val_loss: 1.4668 - val_accuracy: 0.5387\n",
            "Epoch 6/25\n",
            "66/66 [==============================] - 5s 79ms/step - loss: 4.0769 - accuracy: 0.5074 - val_loss: 1.4772 - val_accuracy: 0.5327\n",
            "Epoch 7/25\n",
            "66/66 [==============================] - 5s 81ms/step - loss: 4.1127 - accuracy: 0.5101 - val_loss: 1.4203 - val_accuracy: 0.5693\n",
            "Epoch 8/25\n",
            "66/66 [==============================] - 5s 82ms/step - loss: 4.1920 - accuracy: 0.5113 - val_loss: 1.4002 - val_accuracy: 0.5727\n",
            "Epoch 9/25\n",
            "66/66 [==============================] - 5s 81ms/step - loss: 4.1528 - accuracy: 0.5198 - val_loss: 1.4399 - val_accuracy: 0.5580\n"
          ]
        }
      ]
    },
    {
      "cell_type": "markdown",
      "source": [
        "#### **Transfer Learning 2: Train only a partion of outer layers**\n",
        "\n",
        "Έπειτα, γίνεται απόπειρα εκπαίδευσης μόνο ενός ποσοστού επιπέδων του ΝΝ που βρίσκεται κοντά στην έξοδο του."
      ],
      "metadata": {
        "id": "hFQLOixdLYMS"
      }
    },
    {
      "cell_type": "code",
      "source": [
        "def transfer_model2():\n",
        "    \n",
        "    model = models.Sequential([pretrained_model])\n",
        "    model.add(layers.Flatten()),\n",
        "    model.add(layers.Dense(1024, trainable=False)),\n",
        "    model.add(tf.keras.layers.LeakyReLU()),\n",
        "    model.add(layers.Dropout(0.15)),\n",
        "    model.add(layers.Dense(200))\n",
        "    model.add(tf.keras.layers.LeakyReLU())\n",
        "    model.add(layers.Dropout(0.18))\n",
        "    model.add(layers.Dense(classes_num, activation='softmax'))\n",
        "    model.add(layers.Dropout(0.2))\n",
        "    \n",
        "    model.compile(optimizer='adam', loss='categorical_crossentropy', metrics=['accuracy'])\n",
        "    \n",
        "    model.summary()\n",
        "    \n",
        "    return model"
      ],
      "metadata": {
        "id": "wS-fokjaLXLZ"
      },
      "execution_count": null,
      "outputs": []
    },
    {
      "cell_type": "code",
      "source": [
        "transfer_model2 = transfer_model2()"
      ],
      "metadata": {
        "id": "LQhiv5CYLbaJ",
        "colab": {
          "base_uri": "https://localhost:8080/"
        },
        "outputId": "bd9c9ca9-d9f5-4296-b5f4-483da71a0429"
      },
      "execution_count": null,
      "outputs": [
        {
          "output_type": "stream",
          "name": "stdout",
          "text": [
            "Model: \"sequential_11\"\n",
            "_________________________________________________________________\n",
            " Layer (type)                Output Shape              Param #   \n",
            "=================================================================\n",
            " vgg16 (Functional)          (None, 1, 1, 512)         14714688  \n",
            "                                                                 \n",
            " flatten_11 (Flatten)        (None, 512)               0         \n",
            "                                                                 \n",
            " dense_33 (Dense)            (None, 1024)              525312    \n",
            "                                                                 \n",
            " leaky_re_lu_28 (LeakyReLU)  (None, 1024)              0         \n",
            "                                                                 \n",
            " dropout_19 (Dropout)        (None, 1024)              0         \n",
            "                                                                 \n",
            " dense_34 (Dense)            (None, 200)               205000    \n",
            "                                                                 \n",
            " leaky_re_lu_29 (LeakyReLU)  (None, 200)               0         \n",
            "                                                                 \n",
            " dropout_20 (Dropout)        (None, 200)               0         \n",
            "                                                                 \n",
            " dense_35 (Dense)            (None, 20)                4020      \n",
            "                                                                 \n",
            " dropout_21 (Dropout)        (None, 20)                0         \n",
            "                                                                 \n",
            "=================================================================\n",
            "Total params: 15,449,020\n",
            "Trainable params: 209,020\n",
            "Non-trainable params: 15,240,000\n",
            "_________________________________________________________________\n"
          ]
        }
      ]
    },
    {
      "cell_type": "markdown",
      "source": [
        "Εδώ, γίνεται φόρτωση των προεκπαιδευμένων βαρών για το 3ο από το τέλος Dense Layer του Νευρωνικού και μετά πάγωμα της εκπαίδευσής του, επιτρέποντας την εκπάιδευση μόνο των δύο κοντινότερων προς την έξοδο layers."
      ],
      "metadata": {
        "id": "8JA4JOFebLaK"
      }
    },
    {
      "cell_type": "code",
      "source": [
        "weights = transfer_model1.layers[-8].get_weights()  \n",
        "transfer_model2.layers[-8].set_weights(weights)"
      ],
      "metadata": {
        "id": "UXZQD1gqLdb0"
      },
      "execution_count": null,
      "outputs": []
    },
    {
      "cell_type": "code",
      "source": [
        "callback = tf.keras.callbacks.EarlyStopping(monitor='loss', patience=3)\n",
        "\n",
        "model_history12 = transfer_model2.fit(data_generator.flow(x_train, y_train_aug, batch_size=128), steps_per_epoch=len(x_train)/128, epochs=25, \n",
        "                                      validation_data=data_generator.flow(x_val, y_val_aug, batch_size=128), validation_steps = len(x_val)/128, callbacks=callback)\n",
        "\n",
        "transfer_model2.save('transfer2.h5')"
      ],
      "metadata": {
        "id": "rIzSrnzcLeZn",
        "colab": {
          "base_uri": "https://localhost:8080/"
        },
        "outputId": "78b1ad1f-4a20-448d-94f7-2fec4c46ed8f"
      },
      "execution_count": null,
      "outputs": [
        {
          "output_type": "stream",
          "name": "stdout",
          "text": [
            "Epoch 1/25\n",
            "66/66 [==============================] - 6s 87ms/step - loss: 4.3028 - accuracy: 0.4342 - val_loss: 1.4289 - val_accuracy: 0.5560\n",
            "Epoch 2/25\n",
            "66/66 [==============================] - 5s 83ms/step - loss: 4.0831 - accuracy: 0.5092 - val_loss: 1.4076 - val_accuracy: 0.5747\n",
            "Epoch 3/25\n",
            "66/66 [==============================] - 6s 84ms/step - loss: 3.9126 - accuracy: 0.5346 - val_loss: 1.3898 - val_accuracy: 0.5787\n",
            "Epoch 4/25\n",
            "66/66 [==============================] - 5s 79ms/step - loss: 3.8927 - accuracy: 0.5429 - val_loss: 1.3802 - val_accuracy: 0.5833\n",
            "Epoch 5/25\n",
            "66/66 [==============================] - 5s 82ms/step - loss: 3.9533 - accuracy: 0.5394 - val_loss: 1.3933 - val_accuracy: 0.5727\n",
            "Epoch 6/25\n",
            "66/66 [==============================] - 5s 80ms/step - loss: 3.9412 - accuracy: 0.5465 - val_loss: 1.3773 - val_accuracy: 0.5773\n",
            "Epoch 7/25\n",
            "66/66 [==============================] - 5s 81ms/step - loss: 3.9775 - accuracy: 0.5388 - val_loss: 1.4311 - val_accuracy: 0.5673\n"
          ]
        }
      ]
    },
    {
      "cell_type": "markdown",
      "source": [
        "#### **Transfer Learning 3: Evaluation**\n",
        "\n",
        "Τέλος, γίνεται η αξιολόγηση των παραπάνω μοντέλων ως προς την ορθότητα τους στο validation και test set."
      ],
      "metadata": {
        "id": "heDeMgpnLhTn"
      }
    },
    {
      "cell_type": "markdown",
      "source": [
        "Freeze Weights of VGG16"
      ],
      "metadata": {
        "id": "FPakBYLYbvOv"
      }
    },
    {
      "cell_type": "code",
      "source": [
        "plot_accuracy(model_history11)\n",
        "plt.show()"
      ],
      "metadata": {
        "id": "01FWkre5LhDg",
        "colab": {
          "base_uri": "https://localhost:8080/",
          "height": 350
        },
        "outputId": "a48f5775-702b-4d7b-f92f-a3ae955275a3"
      },
      "execution_count": null,
      "outputs": [
        {
          "output_type": "display_data",
          "data": {
            "text/plain": [
              "<Figure size 576x360 with 1 Axes>"
            ],
            "image/png": "[encoded data removed]"
          },
          "metadata": {
            "needs_background": "light"
          }
        }
      ]
    },
    {
      "cell_type": "markdown",
      "source": [
        "Freeze Weights of VGG16 and Third to Last Dense Layer"
      ],
      "metadata": {
        "id": "r1wWTsSnbqHB"
      }
    },
    {
      "cell_type": "code",
      "source": [
        "plot_accuracy(model_history12)\n",
        "plt.show()"
      ],
      "metadata": {
        "id": "VhIjI-D4LkTF",
        "colab": {
          "base_uri": "https://localhost:8080/",
          "height": 350
        },
        "outputId": "f42f6e5c-7620-476e-a9f6-e24ded1f6410"
      },
      "execution_count": null,
      "outputs": [
        {
          "output_type": "display_data",
          "data": {
            "text/plain": [
              "<Figure size 576x360 with 1 Axes>"
            ],
            "image/png": "[encoded data removed]"
          },
          "metadata": {
            "needs_background": "light"
          }
        }
      ]
    },
    {
      "cell_type": "markdown",
      "source": [
        "Transfer Learning - 1st Model"
      ],
      "metadata": {
        "id": "2jEr0lPXLnj2"
      }
    },
    {
      "cell_type": "code",
      "source": [
        "print('Validation set Evaluation metrics')\n",
        "loss, accuracy = transfer_model1.evaluate(data_generator.flow(x_val, y_val_aug, batch_size=128))\n",
        "print(\"Loss: {:.2f}\".format(loss))\n",
        "print(\"Accuracy: {:.2f}\".format(accuracy))\n",
        "print(\"\\n\")\n",
        "print('Test set Evaluation metrics')\n",
        "loss, accuracy = transfer_model1.evaluate(data_generator.flow(x_test, y_test_aug, batch_size=128))\n",
        "print(\"Loss: {:.2f}\".format(loss))\n",
        "print(\"Accuracy: {:.2f}\".format(accuracy))"
      ],
      "metadata": {
        "id": "d9D1RIBMLl77",
        "colab": {
          "base_uri": "https://localhost:8080/"
        },
        "outputId": "341474a7-ecdc-4426-9c4b-703a8f3be809"
      },
      "execution_count": null,
      "outputs": [
        {
          "output_type": "stream",
          "name": "stdout",
          "text": [
            "Validation set Evaluation metrics\n",
            "12/12 [==============================] - 1s 65ms/step - loss: 1.4338 - accuracy: 0.5593\n",
            "Loss: 1.43\n",
            "Accuracy: 0.56\n",
            "\n",
            "\n",
            "Test set Evaluation metrics\n",
            "16/16 [==============================] - 2s 106ms/step - loss: 1.4161 - accuracy: 0.5645\n",
            "Loss: 1.42\n",
            "Accuracy: 0.56\n"
          ]
        }
      ]
    },
    {
      "cell_type": "markdown",
      "source": [
        "Transfer Learning - 2nd Model"
      ],
      "metadata": {
        "id": "XCrmw1AfLudV"
      }
    },
    {
      "cell_type": "code",
      "source": [
        "print('Validation set Evaluation metrics')\n",
        "loss, accuracy = transfer_model2.evaluate(data_generator.flow(x_val, y_val_aug, batch_size=128))\n",
        "print(\"Loss: {:.2f}\".format(loss))\n",
        "print(\"Accuracy: {:.2f}\".format(accuracy))\n",
        "print(\"\\n\")\n",
        "print('Test set Evaluation metrics')\n",
        "loss, accuracy = transfer_model2.evaluate(data_generator.flow(x_test, y_test_aug, batch_size=128))\n",
        "print(\"Loss: {:.2f}\".format(loss))\n",
        "print(\"Accuracy: {:.2f}\".format(accuracy))"
      ],
      "metadata": {
        "id": "MPzFOqcELsqs",
        "colab": {
          "base_uri": "https://localhost:8080/"
        },
        "outputId": "5e9a3334-6f82-4e96-aa3d-2b82c03b150c"
      },
      "execution_count": null,
      "outputs": [
        {
          "output_type": "stream",
          "name": "stdout",
          "text": [
            "Validation set Evaluation metrics\n",
            "12/12 [==============================] - 1s 63ms/step - loss: 1.4258 - accuracy: 0.5800\n",
            "Loss: 1.43\n",
            "Accuracy: 0.58\n",
            "\n",
            "\n",
            "Test set Evaluation metrics\n",
            "16/16 [==============================] - 1s 63ms/step - loss: 1.4316 - accuracy: 0.5660\n",
            "Loss: 1.43\n",
            "Accuracy: 0.57\n"
          ]
        }
      ]
    },
    {
      "cell_type": "markdown",
      "source": [
        "**Σχολιασμός**\n",
        "\n",
        "---\n",
        "\n",
        "Παρατηρείται ότι η χρήση προεκπαιδευμένων μοντέλων κάνει γρηγορότερη την εκπαίδευση και την σύγκλιση του ΝΝ χωρίς να επιβαρύνεται το τελικό ποσοστό accuracy. Μάλιστα, με το πάγωμα των βαρών ενός τμήματος επιπέδων που βρίσκονται κοντά στην έξοδο του δικτύου, προκύπτουν λίγο καλύτερα ποσοστά ευστοχίας. Αυτό οφείλεται στο γεγονός ότι αξιοποιείται η συνελικτική βάση μοντέλων που έχουν αποδεδειγμένα υψηλά ποσοστά ευστοχίας σε προβλήματα image classification και έτσι, τροποιείταί μόνο η κεφαλή του δικτύου με βάση το εκάσοτε πρόβλημα, μειώνοντας έτσι χρόνο εκπαίδευσης."
      ],
      "metadata": {
        "id": "MmG-5B6yLzgj"
      }
    },
    {
      "cell_type": "markdown",
      "source": [
        "**THE END**"
      ],
      "metadata": {
        "id": "XVZH3sU4cO6B"
      }
    }
  ]
}